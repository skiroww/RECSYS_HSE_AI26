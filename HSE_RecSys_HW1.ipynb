{
 "cells": [
  {
   "cell_type": "markdown",
   "id": "c865b610-e175-4e9f-be2f-995e43e45332",
   "metadata": {
    "id": "c865b610-e175-4e9f-be2f-995e43e45332"
   },
   "source": [
    "## ДЗ №1. Метрики и простейшие алгоритмы рекомендаций"
   ]
  },
  {
   "cell_type": "markdown",
   "id": "16ff81db-dc65-4d89-8c79-d4e2a6e71879",
   "metadata": {
    "id": "16ff81db-dc65-4d89-8c79-d4e2a6e71879"
   },
   "source": [
    "## Общая информация\n",
    "**Дата выдачи: 4 февраля 2025**\n",
    "\n",
    "**Дедлайн: 12 февраля 2025 23:59 MSK**"
   ]
  },
  {
   "cell_type": "code",
   "execution_count": 1,
   "id": "9123c500e8a08cfb",
   "metadata": {
    "ExecuteTime": {
     "end_time": "2025-02-09T12:49:24.739560Z",
     "start_time": "2025-02-09T12:49:23.455192Z"
    }
   },
   "outputs": [],
   "source": [
    "from cgitb import reset\n",
    "!pip3 install tqdm -q"
   ]
  },
  {
   "cell_type": "code",
   "execution_count": 2,
   "id": "e5fbada3-40bc-4748-9897-1c0e15d7892a",
   "metadata": {
    "ExecuteTime": {
     "end_time": "2025-02-10T18:37:08.041691Z",
     "start_time": "2025-02-10T18:37:08.039282Z"
    },
    "id": "e5fbada3-40bc-4748-9897-1c0e15d7892a"
   },
   "outputs": [
    {
     "ename": "ModuleNotFoundError",
     "evalue": "No module named 'metric_tests'",
     "output_type": "error",
     "traceback": [
      "\u001b[1;31m---------------------------------------------------------------------------\u001b[0m",
      "\u001b[1;31mModuleNotFoundError\u001b[0m                       Traceback (most recent call last)",
      "Cell \u001b[1;32mIn[2], line 6\u001b[0m\n\u001b[0;32m      4\u001b[0m \u001b[38;5;28;01mfrom\u001b[39;00m \u001b[38;5;21;01mtqdm\u001b[39;00m\u001b[38;5;21;01m.\u001b[39;00m\u001b[38;5;21;01mauto\u001b[39;00m \u001b[38;5;28;01mimport\u001b[39;00m tqdm\n\u001b[0;32m      5\u001b[0m \u001b[38;5;28;01mfrom\u001b[39;00m \u001b[38;5;21;01mtyping\u001b[39;00m \u001b[38;5;28;01mimport\u001b[39;00m List, Optional\n\u001b[1;32m----> 6\u001b[0m \u001b[38;5;28;01mfrom\u001b[39;00m \u001b[38;5;21;01mmetric_tests\u001b[39;00m \u001b[38;5;28;01mimport\u001b[39;00m run_tests\n\u001b[0;32m      8\u001b[0m get_ipython()\u001b[38;5;241m.\u001b[39mrun_line_magic(\u001b[38;5;124m'\u001b[39m\u001b[38;5;124mmatplotlib\u001b[39m\u001b[38;5;124m'\u001b[39m, \u001b[38;5;124m'\u001b[39m\u001b[38;5;124minline\u001b[39m\u001b[38;5;124m'\u001b[39m)\n",
      "\u001b[1;31mModuleNotFoundError\u001b[0m: No module named 'metric_tests'"
     ]
    }
   ],
   "source": [
    "import pandas as pd\n",
    "import numpy as np\n",
    "from matplotlib import pyplot as plt\n",
    "from tqdm.auto import tqdm\n",
    "from typing import List, Optional\n",
    "from metric_tests import run_tests\n",
    "\n",
    "%matplotlib inline"
   ]
  },
  {
   "cell_type": "markdown",
   "id": "4098f8b8-a49a-4a66-92e2-e75c7acc4988",
   "metadata": {
    "id": "4098f8b8-a49a-4a66-92e2-e75c7acc4988"
   },
   "source": [
    "## О задании\n",
    "\n",
    "В этой работе мы посмотрим на то, как работают самые простые модели для рекомендаций. Как правило, они не требуют построения специальных моделей, но даже так оказываются полезны в качестве бейзлайна. Попробуем сделать предсказания с помощью EASE. Это тоже довольно простой подход, но не стоит забывать, что сложные модели могут оказаться не лучшим выбором в условиях большого количества данных. Посчитаем метрики, построим графики и подумаем, насколько хорошо эти модели вообще решают поставленную задачу.\n",
    "\n",
    "Мы будем работать с датасетом по рекомендации фильмов от Kion MTS, который был дан для соревнования. Сперва нужно его предобработать, эта часть повторяет то, что было на семинаре. \n",
    "\n",
    "Датасет необходимо скачать: https://ods.ai/competitions/competition-recsys-21/data\n",
    "\n",
    "Оттуда нужны файлы `interactions.csv` и `items.csv`\n",
    "\n",
    "Каждое задание весит **1 балл**, если выполнено полностью и без ошибок, **0 баллов** ставится при наличии хотя бы 1 ошибки. Максимальная оценка - **10 баллов**. Шаблоны функций и классов можно менять по своему усмотрению."
   ]
  },
  {
   "cell_type": "code",
   "execution_count": null,
   "id": "3d6bd80f3f4bc4e9",
   "metadata": {
    "ExecuteTime": {
     "end_time": "2025-02-10T18:37:09.939035Z",
     "start_time": "2025-02-10T18:37:08.929318Z"
    }
   },
   "outputs": [
    {
     "data": {
      "text/plain": [
       "('2021-03-13', '2021-08-22')"
      ]
     },
     "execution_count": 199,
     "metadata": {},
     "output_type": "execute_result"
    }
   ],
   "source": [
    "lol = pd.read_csv('interactions.csv').iloc[:-1]\n",
    "\n",
    "lol['last_watch_dt'].min(), lol['last_watch_dt'].max()"
   ]
  },
  {
   "cell_type": "code",
   "execution_count": 200,
   "id": "02af9415-838f-446e-80ed-f6083cc9cb27",
   "metadata": {
    "ExecuteTime": {
     "end_time": "2025-02-10T18:37:10.763824Z",
     "start_time": "2025-02-10T18:37:10.003822Z"
    },
    "colab": {
     "base_uri": "https://localhost:8080/",
     "height": 206
    },
    "id": "02af9415-838f-446e-80ed-f6083cc9cb27",
    "outputId": "38e0880c-09b1-4b18-9477-6fc6d0ca0990"
   },
   "outputs": [
    {
     "data": {
      "text/html": [
       "<div>\n",
       "<style scoped>\n",
       "    .dataframe tbody tr th:only-of-type {\n",
       "        vertical-align: middle;\n",
       "    }\n",
       "\n",
       "    .dataframe tbody tr th {\n",
       "        vertical-align: top;\n",
       "    }\n",
       "\n",
       "    .dataframe thead th {\n",
       "        text-align: right;\n",
       "    }\n",
       "</style>\n",
       "<table border=\"1\" class=\"dataframe\">\n",
       "  <thead>\n",
       "    <tr style=\"text-align: right;\">\n",
       "      <th></th>\n",
       "      <th>user_id</th>\n",
       "      <th>item_id</th>\n",
       "      <th>last_watch_dt</th>\n",
       "      <th>total_dur</th>\n",
       "      <th>watched_pct</th>\n",
       "    </tr>\n",
       "  </thead>\n",
       "  <tbody>\n",
       "    <tr>\n",
       "      <th>0</th>\n",
       "      <td>176549</td>\n",
       "      <td>9506</td>\n",
       "      <td>2021-05-11</td>\n",
       "      <td>4250</td>\n",
       "      <td>72.0</td>\n",
       "    </tr>\n",
       "    <tr>\n",
       "      <th>1</th>\n",
       "      <td>699317</td>\n",
       "      <td>1659</td>\n",
       "      <td>2021-05-29</td>\n",
       "      <td>8317</td>\n",
       "      <td>100.0</td>\n",
       "    </tr>\n",
       "    <tr>\n",
       "      <th>2</th>\n",
       "      <td>656683</td>\n",
       "      <td>7107</td>\n",
       "      <td>2021-05-09</td>\n",
       "      <td>10</td>\n",
       "      <td>0.0</td>\n",
       "    </tr>\n",
       "    <tr>\n",
       "      <th>3</th>\n",
       "      <td>864613</td>\n",
       "      <td>7638</td>\n",
       "      <td>2021-07-05</td>\n",
       "      <td>14483</td>\n",
       "      <td>100.0</td>\n",
       "    </tr>\n",
       "    <tr>\n",
       "      <th>4</th>\n",
       "      <td>964868</td>\n",
       "      <td>9506</td>\n",
       "      <td>2021-04-30</td>\n",
       "      <td>6725</td>\n",
       "      <td>100.0</td>\n",
       "    </tr>\n",
       "  </tbody>\n",
       "</table>\n",
       "</div>"
      ],
      "text/plain": [
       "   user_id  item_id last_watch_dt  total_dur  watched_pct\n",
       "0   176549     9506    2021-05-11       4250         72.0\n",
       "1   699317     1659    2021-05-29       8317        100.0\n",
       "2   656683     7107    2021-05-09         10          0.0\n",
       "3   864613     7638    2021-07-05      14483        100.0\n",
       "4   964868     9506    2021-04-30       6725        100.0"
      ]
     },
     "execution_count": 200,
     "metadata": {},
     "output_type": "execute_result"
    }
   ],
   "source": [
    "df = pd.read_csv('interactions.csv').iloc[:-1]\n",
    "df.head()"
   ]
  },
  {
   "cell_type": "code",
   "execution_count": 201,
   "id": "78153b4e-975b-4493-95e7-e503f7c68757",
   "metadata": {
    "ExecuteTime": {
     "end_time": "2025-02-10T18:37:24.395606Z",
     "start_time": "2025-02-10T18:37:11.672374Z"
    },
    "colab": {
     "base_uri": "https://localhost:8080/",
     "height": 206
    },
    "id": "78153b4e-975b-4493-95e7-e503f7c68757",
    "outputId": "d4cdad47-aca2-4140-bf48-511b57b6ca9e"
   },
   "outputs": [
    {
     "data": {
      "text/html": [
       "<div>\n",
       "<style scoped>\n",
       "    .dataframe tbody tr th:only-of-type {\n",
       "        vertical-align: middle;\n",
       "    }\n",
       "\n",
       "    .dataframe tbody tr th {\n",
       "        vertical-align: top;\n",
       "    }\n",
       "\n",
       "    .dataframe thead th {\n",
       "        text-align: right;\n",
       "    }\n",
       "</style>\n",
       "<table border=\"1\" class=\"dataframe\">\n",
       "  <thead>\n",
       "    <tr style=\"text-align: right;\">\n",
       "      <th></th>\n",
       "      <th>user_id</th>\n",
       "      <th>item_id</th>\n",
       "      <th>last_watch_dt</th>\n",
       "      <th>total_dur</th>\n",
       "      <th>watched_pct</th>\n",
       "    </tr>\n",
       "  </thead>\n",
       "  <tbody>\n",
       "    <tr>\n",
       "      <th>1130002</th>\n",
       "      <td>383743</td>\n",
       "      <td>15297</td>\n",
       "      <td>93</td>\n",
       "      <td>16831</td>\n",
       "      <td>63.0</td>\n",
       "    </tr>\n",
       "    <tr>\n",
       "      <th>1937067</th>\n",
       "      <td>570281</td>\n",
       "      <td>8896</td>\n",
       "      <td>52</td>\n",
       "      <td>7516</td>\n",
       "      <td>100.0</td>\n",
       "    </tr>\n",
       "    <tr>\n",
       "      <th>347553</th>\n",
       "      <td>996341</td>\n",
       "      <td>2557</td>\n",
       "      <td>106</td>\n",
       "      <td>15819</td>\n",
       "      <td>33.0</td>\n",
       "    </tr>\n",
       "    <tr>\n",
       "      <th>460046</th>\n",
       "      <td>861639</td>\n",
       "      <td>2657</td>\n",
       "      <td>116</td>\n",
       "      <td>8065</td>\n",
       "      <td>11.0</td>\n",
       "    </tr>\n",
       "    <tr>\n",
       "      <th>3742436</th>\n",
       "      <td>418965</td>\n",
       "      <td>10497</td>\n",
       "      <td>151</td>\n",
       "      <td>11689</td>\n",
       "      <td>50.0</td>\n",
       "    </tr>\n",
       "    <tr>\n",
       "      <th>5387626</th>\n",
       "      <td>608753</td>\n",
       "      <td>4471</td>\n",
       "      <td>113</td>\n",
       "      <td>7135</td>\n",
       "      <td>100.0</td>\n",
       "    </tr>\n",
       "    <tr>\n",
       "      <th>4184898</th>\n",
       "      <td>319233</td>\n",
       "      <td>142</td>\n",
       "      <td>106</td>\n",
       "      <td>78</td>\n",
       "      <td>2.0</td>\n",
       "    </tr>\n",
       "    <tr>\n",
       "      <th>496658</th>\n",
       "      <td>160465</td>\n",
       "      <td>4231</td>\n",
       "      <td>161</td>\n",
       "      <td>5223</td>\n",
       "      <td>80.0</td>\n",
       "    </tr>\n",
       "    <tr>\n",
       "      <th>2249968</th>\n",
       "      <td>965606</td>\n",
       "      <td>6447</td>\n",
       "      <td>154</td>\n",
       "      <td>862</td>\n",
       "      <td>17.0</td>\n",
       "    </tr>\n",
       "    <tr>\n",
       "      <th>24328</th>\n",
       "      <td>663329</td>\n",
       "      <td>8171</td>\n",
       "      <td>83</td>\n",
       "      <td>6679</td>\n",
       "      <td>98.0</td>\n",
       "    </tr>\n",
       "  </tbody>\n",
       "</table>\n",
       "</div>"
      ],
      "text/plain": [
       "         user_id  item_id  last_watch_dt  total_dur  watched_pct\n",
       "1130002   383743    15297             93      16831         63.0\n",
       "1937067   570281     8896             52       7516        100.0\n",
       "347553    996341     2557            106      15819         33.0\n",
       "460046    861639     2657            116       8065         11.0\n",
       "3742436   418965    10497            151      11689         50.0\n",
       "5387626   608753     4471            113       7135        100.0\n",
       "4184898   319233      142            106         78          2.0\n",
       "496658    160465     4231            161       5223         80.0\n",
       "2249968   965606     6447            154        862         17.0\n",
       "24328     663329     8171             83       6679         98.0"
      ]
     },
     "execution_count": 201,
     "metadata": {},
     "output_type": "execute_result"
    }
   ],
   "source": [
    "df['last_watch_dt'] = (pd.to_datetime(df['last_watch_dt']) - pd.to_datetime(df['last_watch_dt']).min())\n",
    "df['last_watch_dt'] = df.last_watch_dt.apply(lambda x: int(str(x).split()[0]))\n",
    "df.sample(10)"
   ]
  },
  {
   "cell_type": "markdown",
   "id": "DnuIUsrRj0Tk",
   "metadata": {
    "id": "DnuIUsrRj0Tk"
   },
   "source": [
    "Сделаем разбиение по времени"
   ]
  },
  {
   "cell_type": "code",
   "execution_count": 202,
   "id": "1a0df672-7a64-4ba7-aea2-9aed9c13ecb6",
   "metadata": {
    "ExecuteTime": {
     "end_time": "2025-02-10T18:37:26.463903Z",
     "start_time": "2025-02-10T18:37:26.369933Z"
    },
    "colab": {
     "base_uri": "https://localhost:8080/",
     "height": 447
    },
    "id": "1a0df672-7a64-4ba7-aea2-9aed9c13ecb6",
    "outputId": "6991b14a-91a5-4f3a-8f28-c5914132839a"
   },
   "outputs": [
    {
     "data": {
      "text/plain": [
       "<Axes: >"
      ]
     },
     "execution_count": 202,
     "metadata": {},
     "output_type": "execute_result"
    },
    {
     "data": {
      "image/png": "[encoded data removed]",
      "text/plain": [
       "<Figure size 640x480 with 1 Axes>"
      ]
     },
     "metadata": {},
     "output_type": "display_data"
    }
   ],
   "source": [
    "df.last_watch_dt.hist(bins=50)"
   ]
  },
  {
   "cell_type": "code",
   "execution_count": 203,
   "id": "1017b62e-68ce-4bfb-b44f-9e1b391aa08b",
   "metadata": {
    "ExecuteTime": {
     "end_time": "2025-02-10T18:37:27.120507Z",
     "start_time": "2025-02-10T18:37:26.932753Z"
    },
    "colab": {
     "base_uri": "https://localhost:8080/"
    },
    "id": "1017b62e-68ce-4bfb-b44f-9e1b391aa08b",
    "outputId": "730db660-a2f0-4f12-f54c-b794f299a41b"
   },
   "outputs": [
    {
     "name": "stdout",
     "output_type": "stream",
     "text": [
      "число людей и там и там:  134670\n",
      "число людей всего: 880449\n"
     ]
    }
   ],
   "source": [
    "train_df = df.loc[(df.last_watch_dt < 160 - 7)].copy()\n",
    "test_df = df.loc[(df.last_watch_dt >= 160 - 7)].copy()\n",
    "\n",
    "train_users = train_df.user_id.unique()\n",
    "test_users = test_df.user_id.unique()\n",
    "\n",
    "all_included = np.intersect1d(train_users, test_users)\n",
    "\n",
    "print('число людей и там и там: ', all_included.shape[0])\n",
    "print('число людей всего:', train_users.shape[0])"
   ]
  },
  {
   "cell_type": "code",
   "execution_count": 204,
   "id": "8f30d288-bdd7-4304-81ef-61c3b9b75ac9",
   "metadata": {
    "ExecuteTime": {
     "end_time": "2025-02-10T18:37:27.813383Z",
     "start_time": "2025-02-10T18:37:27.721918Z"
    },
    "colab": {
     "base_uri": "https://localhost:8080/"
    },
    "id": "8f30d288-bdd7-4304-81ef-61c3b9b75ac9",
    "outputId": "56b765fb-2bfb-47e1-bf06-c594bde79921"
   },
   "outputs": [
    {
     "data": {
      "text/plain": [
       "0.37768022181146027"
      ]
     },
     "execution_count": 204,
     "metadata": {},
     "output_type": "execute_result"
    }
   ],
   "source": [
    "len(set(test_users) - set(train_users)) / len(test_users)"
   ]
  },
  {
   "cell_type": "markdown",
   "id": "de1eb6f2-f78c-4403-aebd-a0561a049360",
   "metadata": {
    "id": "de1eb6f2-f78c-4403-aebd-a0561a049360"
   },
   "source": [
    "И переведём всё к соединённому датасету:"
   ]
  },
  {
   "cell_type": "code",
   "execution_count": 205,
   "id": "3686c2f1-9a9b-4684-b3d3-06c891252549",
   "metadata": {
    "ExecuteTime": {
     "end_time": "2025-02-10T18:37:30.298541Z",
     "start_time": "2025-02-10T18:37:30.200020Z"
    },
    "id": "3686c2f1-9a9b-4684-b3d3-06c891252549"
   },
   "outputs": [],
   "source": [
    "n_users = 10000\n",
    "\n",
    "all_included = np.random.choice(all_included, size=n_users, replace=False)\n",
    "\n",
    "train_df = train_df.loc[train_df.user_id.isin(all_included)].copy()\n",
    "test_df = test_df.loc[test_df.user_id.isin(all_included)].copy()\n",
    "\n",
    "assert train_df.last_watch_dt.max() < test_df.last_watch_dt.min()\n",
    "assert train_df.user_id.nunique() == n_users\n",
    "assert test_df.user_id.nunique() == n_users"
   ]
  },
  {
   "cell_type": "code",
   "execution_count": 206,
   "id": "1c995549-bc88-4af3-a8ce-ca19baa30ee2",
   "metadata": {
    "ExecuteTime": {
     "end_time": "2025-02-10T18:37:30.658633Z",
     "start_time": "2025-02-10T18:37:30.654527Z"
    },
    "colab": {
     "base_uri": "https://localhost:8080/",
     "height": 206
    },
    "id": "1c995549-bc88-4af3-a8ce-ca19baa30ee2",
    "outputId": "b0e5cd25-3f51-457a-808f-ccd23a4c677d"
   },
   "outputs": [
    {
     "data": {
      "text/html": [
       "<div>\n",
       "<style scoped>\n",
       "    .dataframe tbody tr th:only-of-type {\n",
       "        vertical-align: middle;\n",
       "    }\n",
       "\n",
       "    .dataframe tbody tr th {\n",
       "        vertical-align: top;\n",
       "    }\n",
       "\n",
       "    .dataframe thead th {\n",
       "        text-align: right;\n",
       "    }\n",
       "</style>\n",
       "<table border=\"1\" class=\"dataframe\">\n",
       "  <thead>\n",
       "    <tr style=\"text-align: right;\">\n",
       "      <th></th>\n",
       "      <th>user_id</th>\n",
       "      <th>item_id</th>\n",
       "      <th>last_watch_dt</th>\n",
       "      <th>total_dur</th>\n",
       "      <th>watched_pct</th>\n",
       "    </tr>\n",
       "  </thead>\n",
       "  <tbody>\n",
       "    <tr>\n",
       "      <th>0</th>\n",
       "      <td>176549</td>\n",
       "      <td>9506</td>\n",
       "      <td>59</td>\n",
       "      <td>4250</td>\n",
       "      <td>72.0</td>\n",
       "    </tr>\n",
       "    <tr>\n",
       "      <th>49</th>\n",
       "      <td>474544</td>\n",
       "      <td>10440</td>\n",
       "      <td>95</td>\n",
       "      <td>36469</td>\n",
       "      <td>90.0</td>\n",
       "    </tr>\n",
       "    <tr>\n",
       "      <th>85</th>\n",
       "      <td>910002</td>\n",
       "      <td>11143</td>\n",
       "      <td>151</td>\n",
       "      <td>710</td>\n",
       "      <td>10.0</td>\n",
       "    </tr>\n",
       "    <tr>\n",
       "      <th>95</th>\n",
       "      <td>858651</td>\n",
       "      <td>15998</td>\n",
       "      <td>110</td>\n",
       "      <td>63</td>\n",
       "      <td>9.0</td>\n",
       "    </tr>\n",
       "    <tr>\n",
       "      <th>112</th>\n",
       "      <td>490158</td>\n",
       "      <td>817</td>\n",
       "      <td>139</td>\n",
       "      <td>930</td>\n",
       "      <td>16.0</td>\n",
       "    </tr>\n",
       "  </tbody>\n",
       "</table>\n",
       "</div>"
      ],
      "text/plain": [
       "     user_id  item_id  last_watch_dt  total_dur  watched_pct\n",
       "0     176549     9506             59       4250         72.0\n",
       "49    474544    10440             95      36469         90.0\n",
       "85    910002    11143            151        710         10.0\n",
       "95    858651    15998            110         63          9.0\n",
       "112   490158      817            139        930         16.0"
      ]
     },
     "execution_count": 206,
     "metadata": {},
     "output_type": "execute_result"
    }
   ],
   "source": [
    "train_df.head()"
   ]
  },
  {
   "cell_type": "code",
   "execution_count": 207,
   "id": "4a1e9f17-02e9-4c7f-aa54-4a331b7244b2",
   "metadata": {
    "ExecuteTime": {
     "end_time": "2025-02-10T18:37:33.336211Z",
     "start_time": "2025-02-10T18:37:32.966855Z"
    },
    "colab": {
     "base_uri": "https://localhost:8080/",
     "height": 206
    },
    "id": "4a1e9f17-02e9-4c7f-aa54-4a331b7244b2",
    "outputId": "6210ca52-f2a5-4594-d20f-8e17a3a27046"
   },
   "outputs": [
    {
     "name": "stderr",
     "output_type": "stream",
     "text": [
      "/var/folders/c7/pltxzd0965307j_5v2_v9brh0000gn/T/ipykernel_41708/2892034827.py:1: DeprecationWarning: DataFrameGroupBy.apply operated on the grouping columns. This behavior is deprecated, and in a future version of pandas the grouping columns will be excluded from the operation. Either pass `include_groups=False` to exclude the groupings or explicitly select the grouping columns after groupby to silence this warning.\n",
      "  train_grouped = train_df.groupby('user_id').apply(\n",
      "/var/folders/c7/pltxzd0965307j_5v2_v9brh0000gn/T/ipykernel_41708/2892034827.py:7: DeprecationWarning: DataFrameGroupBy.apply operated on the grouping columns. This behavior is deprecated, and in a future version of pandas the grouping columns will be excluded from the operation. Either pass `include_groups=False` to exclude the groupings or explicitly select the grouping columns after groupby to silence this warning.\n",
      "  test_grouped = test_df.groupby('user_id').apply(\n"
     ]
    },
    {
     "data": {
      "text/html": [
       "<div>\n",
       "<style scoped>\n",
       "    .dataframe tbody tr th:only-of-type {\n",
       "        vertical-align: middle;\n",
       "    }\n",
       "\n",
       "    .dataframe tbody tr th {\n",
       "        vertical-align: top;\n",
       "    }\n",
       "\n",
       "    .dataframe thead th {\n",
       "        text-align: right;\n",
       "    }\n",
       "</style>\n",
       "<table border=\"1\" class=\"dataframe\">\n",
       "  <thead>\n",
       "    <tr style=\"text-align: right;\">\n",
       "      <th></th>\n",
       "      <th>user_id</th>\n",
       "      <th>train_interactions</th>\n",
       "    </tr>\n",
       "  </thead>\n",
       "  <tbody>\n",
       "    <tr>\n",
       "      <th>0</th>\n",
       "      <td>165</td>\n",
       "      <td>[(12173, 122)]</td>\n",
       "    </tr>\n",
       "    <tr>\n",
       "      <th>1</th>\n",
       "      <td>322</td>\n",
       "      <td>[(4549, 94), (8419, 94), (14814, 94), (10219, ...</td>\n",
       "    </tr>\n",
       "    <tr>\n",
       "      <th>2</th>\n",
       "      <td>400</td>\n",
       "      <td>[(169, 144), (11047, 145), (12974, 145), (1399...</td>\n",
       "    </tr>\n",
       "    <tr>\n",
       "      <th>3</th>\n",
       "      <td>446</td>\n",
       "      <td>[(13865, 105)]</td>\n",
       "    </tr>\n",
       "    <tr>\n",
       "      <th>4</th>\n",
       "      <td>515</td>\n",
       "      <td>[(3734, 114), (9728, 114), (4457, 115), (13865...</td>\n",
       "    </tr>\n",
       "  </tbody>\n",
       "</table>\n",
       "</div>"
      ],
      "text/plain": [
       "   user_id                                 train_interactions\n",
       "0      165                                     [(12173, 122)]\n",
       "1      322  [(4549, 94), (8419, 94), (14814, 94), (10219, ...\n",
       "2      400  [(169, 144), (11047, 145), (12974, 145), (1399...\n",
       "3      446                                     [(13865, 105)]\n",
       "4      515  [(3734, 114), (9728, 114), (4457, 115), (13865..."
      ]
     },
     "execution_count": 207,
     "metadata": {},
     "output_type": "execute_result"
    }
   ],
   "source": [
    "train_grouped = train_df.groupby('user_id').apply(\n",
    "    lambda x: [(t1, t2) for t1, t2 in sorted(zip(x.item_id,\n",
    "                                                 x.last_watch_dt), key=lambda x: x[1])]\n",
    ").reset_index()\n",
    "train_grouped.rename({0: 'train_interactions'}, axis=1, inplace=True)\n",
    "\n",
    "test_grouped = test_df.groupby('user_id').apply(\n",
    "    lambda x: [(t1, t2) for t1, t2 in sorted(zip(x.item_id,\n",
    "                                                 x.last_watch_dt), key=lambda x: x[1])]\n",
    ").reset_index()\n",
    "test_grouped.rename({0: 'test_interactions'}, axis=1, inplace=True)\n",
    "\n",
    "train_grouped.head()"
   ]
  },
  {
   "cell_type": "code",
   "execution_count": 208,
   "id": "594ade13-ff8b-4ded-9c73-00ea48be4bd9",
   "metadata": {
    "ExecuteTime": {
     "end_time": "2025-02-10T18:37:34.525745Z",
     "start_time": "2025-02-10T18:37:34.511787Z"
    },
    "colab": {
     "base_uri": "https://localhost:8080/",
     "height": 206
    },
    "id": "594ade13-ff8b-4ded-9c73-00ea48be4bd9",
    "outputId": "1e4c65ad-171a-497e-f65d-0af5bd96c90d"
   },
   "outputs": [
    {
     "data": {
      "text/html": [
       "<div>\n",
       "<style scoped>\n",
       "    .dataframe tbody tr th:only-of-type {\n",
       "        vertical-align: middle;\n",
       "    }\n",
       "\n",
       "    .dataframe tbody tr th {\n",
       "        vertical-align: top;\n",
       "    }\n",
       "\n",
       "    .dataframe thead th {\n",
       "        text-align: right;\n",
       "    }\n",
       "</style>\n",
       "<table border=\"1\" class=\"dataframe\">\n",
       "  <thead>\n",
       "    <tr style=\"text-align: right;\">\n",
       "      <th></th>\n",
       "      <th>user_id</th>\n",
       "      <th>train_interactions</th>\n",
       "      <th>test_interactions</th>\n",
       "    </tr>\n",
       "  </thead>\n",
       "  <tbody>\n",
       "    <tr>\n",
       "      <th>0</th>\n",
       "      <td>165</td>\n",
       "      <td>[(12173, 122)]</td>\n",
       "      <td>[(4969, 161)]</td>\n",
       "    </tr>\n",
       "    <tr>\n",
       "      <th>1</th>\n",
       "      <td>322</td>\n",
       "      <td>[(4549, 94), (8419, 94), (14814, 94), (10219, ...</td>\n",
       "      <td>[(4651, 155), (15384, 155), (11099, 157), (633...</td>\n",
       "    </tr>\n",
       "    <tr>\n",
       "      <th>2</th>\n",
       "      <td>400</td>\n",
       "      <td>[(169, 144), (11047, 145), (12974, 145), (1399...</td>\n",
       "      <td>[(7793, 153)]</td>\n",
       "    </tr>\n",
       "    <tr>\n",
       "      <th>3</th>\n",
       "      <td>446</td>\n",
       "      <td>[(13865, 105)]</td>\n",
       "      <td>[(12202, 160), (230, 160)]</td>\n",
       "    </tr>\n",
       "    <tr>\n",
       "      <th>4</th>\n",
       "      <td>515</td>\n",
       "      <td>[(3734, 114), (9728, 114), (4457, 115), (13865...</td>\n",
       "      <td>[(512, 158), (6330, 158), (9811, 159), (14488,...</td>\n",
       "    </tr>\n",
       "  </tbody>\n",
       "</table>\n",
       "</div>"
      ],
      "text/plain": [
       "   user_id                                 train_interactions  \\\n",
       "0      165                                     [(12173, 122)]   \n",
       "1      322  [(4549, 94), (8419, 94), (14814, 94), (10219, ...   \n",
       "2      400  [(169, 144), (11047, 145), (12974, 145), (1399...   \n",
       "3      446                                     [(13865, 105)]   \n",
       "4      515  [(3734, 114), (9728, 114), (4457, 115), (13865...   \n",
       "\n",
       "                                   test_interactions  \n",
       "0                                      [(4969, 161)]  \n",
       "1  [(4651, 155), (15384, 155), (11099, 157), (633...  \n",
       "2                                      [(7793, 153)]  \n",
       "3                         [(12202, 160), (230, 160)]  \n",
       "4  [(512, 158), (6330, 158), (9811, 159), (14488,...  "
      ]
     },
     "execution_count": 208,
     "metadata": {},
     "output_type": "execute_result"
    }
   ],
   "source": [
    "joined = train_grouped.merge(test_grouped)\n",
    "joined.head()"
   ]
  },
  {
   "cell_type": "code",
   "execution_count": 209,
   "id": "dd2ee6a6-914c-4f2d-91c8-c80bde97d84e",
   "metadata": {
    "ExecuteTime": {
     "end_time": "2025-02-10T18:37:36.206316Z",
     "start_time": "2025-02-10T18:37:36.090788Z"
    },
    "colab": {
     "base_uri": "https://localhost:8080/",
     "height": 293
    },
    "id": "dd2ee6a6-914c-4f2d-91c8-c80bde97d84e",
    "outputId": "27bc3f05-b1b4-4bf8-de05-04ea850a7c28"
   },
   "outputs": [
    {
     "data": {
      "text/html": [
       "<div>\n",
       "<style scoped>\n",
       "    .dataframe tbody tr th:only-of-type {\n",
       "        vertical-align: middle;\n",
       "    }\n",
       "\n",
       "    .dataframe tbody tr th {\n",
       "        vertical-align: top;\n",
       "    }\n",
       "\n",
       "    .dataframe thead th {\n",
       "        text-align: right;\n",
       "    }\n",
       "</style>\n",
       "<table border=\"1\" class=\"dataframe\">\n",
       "  <thead>\n",
       "    <tr style=\"text-align: right;\">\n",
       "      <th></th>\n",
       "      <th>user_id</th>\n",
       "      <th>train_interactions</th>\n",
       "      <th>test_interactions</th>\n",
       "      <th>random_recs</th>\n",
       "    </tr>\n",
       "  </thead>\n",
       "  <tbody>\n",
       "    <tr>\n",
       "      <th>0</th>\n",
       "      <td>165</td>\n",
       "      <td>[(12173, 122)]</td>\n",
       "      <td>[(4969, 161)]</td>\n",
       "      <td>[11705, 9045, 8487]</td>\n",
       "    </tr>\n",
       "    <tr>\n",
       "      <th>1</th>\n",
       "      <td>322</td>\n",
       "      <td>[(4549, 94), (8419, 94), (14814, 94), (10219, ...</td>\n",
       "      <td>[(4651, 155), (15384, 155), (11099, 157), (633...</td>\n",
       "      <td>[11705, 9045, 8487]</td>\n",
       "    </tr>\n",
       "    <tr>\n",
       "      <th>2</th>\n",
       "      <td>400</td>\n",
       "      <td>[(169, 144), (11047, 145), (12974, 145), (1399...</td>\n",
       "      <td>[(7793, 153)]</td>\n",
       "      <td>[11705, 9045, 8487]</td>\n",
       "    </tr>\n",
       "    <tr>\n",
       "      <th>3</th>\n",
       "      <td>446</td>\n",
       "      <td>[(13865, 105)]</td>\n",
       "      <td>[(12202, 160), (230, 160)]</td>\n",
       "      <td>[11705, 9045, 8487]</td>\n",
       "    </tr>\n",
       "    <tr>\n",
       "      <th>4</th>\n",
       "      <td>515</td>\n",
       "      <td>[(3734, 114), (9728, 114), (4457, 115), (13865...</td>\n",
       "      <td>[(512, 158), (6330, 158), (9811, 159), (14488,...</td>\n",
       "      <td>[11705, 9045, 8487]</td>\n",
       "    </tr>\n",
       "  </tbody>\n",
       "</table>\n",
       "</div>"
      ],
      "text/plain": [
       "   user_id                                 train_interactions  \\\n",
       "0      165                                     [(12173, 122)]   \n",
       "1      322  [(4549, 94), (8419, 94), (14814, 94), (10219, ...   \n",
       "2      400  [(169, 144), (11047, 145), (12974, 145), (1399...   \n",
       "3      446                                     [(13865, 105)]   \n",
       "4      515  [(3734, 114), (9728, 114), (4457, 115), (13865...   \n",
       "\n",
       "                                   test_interactions          random_recs  \n",
       "0                                      [(4969, 161)]  [11705, 9045, 8487]  \n",
       "1  [(4651, 155), (15384, 155), (11099, 157), (633...  [11705, 9045, 8487]  \n",
       "2                                      [(7793, 153)]  [11705, 9045, 8487]  \n",
       "3                         [(12202, 160), (230, 160)]  [11705, 9045, 8487]  \n",
       "4  [(512, 158), (6330, 158), (9811, 159), (14488,...  [11705, 9045, 8487]  "
      ]
     },
     "execution_count": 209,
     "metadata": {},
     "output_type": "execute_result"
    }
   ],
   "source": [
    "np.random.seed(777)\n",
    "\n",
    "\n",
    "class Random:\n",
    "\n",
    "    def __init__(self):\n",
    "\n",
    "        self.trained = False\n",
    "\n",
    "    def fit(self, df, col='train_interactions'):\n",
    "\n",
    "        items = set()\n",
    "        for _, row in df.iterrows():\n",
    "            for item, _ in row[col]:\n",
    "                items.add(item)\n",
    "\n",
    "        self.items = list(items)\n",
    "        self.trained = True\n",
    "\n",
    "    def predict(self, df, topn=10):\n",
    "        assert self.trained\n",
    "        return [np.random.choice(self.items, replace=False, size=topn)] * len(df)\n",
    "\n",
    "\n",
    "random = Random()\n",
    "random.fit(joined)\n",
    "\n",
    "joined['random_recs'] = random.predict(joined, topn=3)\n",
    "joined.head()"
   ]
  },
  {
   "cell_type": "markdown",
   "id": "30934f45-28dc-41d3-9263-e93ca0dabb1b",
   "metadata": {
    "id": "30934f45-28dc-41d3-9263-e93ca0dabb1b"
   },
   "source": [
    "**Задание №1. Метрики и бейзлайны**\n",
    "\n",
    "Добавьте реализацию метрик AP, RR, HR, их усреднённые версии по $U$ мы посчитаем ниже, если следовать коду с семинара, поэтому формулы немного отличаются. За имплементацию с циклами балл будет снижаться, векторизуйте! ( ͡° ͜ʖ ͡°)"
   ]
  },
  {
   "cell_type": "markdown",
   "id": "mgj_xY1Vc5b8",
   "metadata": {
    "id": "mgj_xY1Vc5b8"
   },
   "source": [
    "$$\n",
    "AP_u@k = \\frac{1}{\\min(k, n_u)} \\sum_{i=1}^k r_u(i) p_u@i\n",
    "$$\n",
    "$$\n",
    "p_u@k = \\dfrac{1}{k}\\sum_{j=1}^k r_u(j)\n",
    "$$\n",
    "$$\n",
    "RR@k = \\dfrac{1}{\\text{rank}_i@k}\n",
    "$$\n",
    "$$\n",
    "HR@k = [\\exists \\ y_i = 1 \\ \\text{among k preds}]\n",
    "$$\n",
    "\n",
    "\n",
    "*   $n_u$ - число айтемов, с которыми взаимодействовал юзер $u$\n",
    "*   $y_i$ - релевантно ли $i$-ое предсказание, $y_i \\in \\{0,1\\}$\n",
    "* $\\text{rank}_i@k$ - позиция первого релеваннтого айтема среди первых $k$ предсказаний\n",
    "* HR@k - среди первых $k$ предсказаний есть хотя бы одно релевантное\n",
    "\n",
    "Считайте, что если `topn` не задано, то берётся всегда $n_u$."
   ]
  },
  {
   "cell_type": "code",
   "execution_count": 210,
   "id": "60c1459f-7341-416f-94c7-55f30253e217",
   "metadata": {
    "ExecuteTime": {
     "end_time": "2025-02-10T18:37:38.311139Z",
     "start_time": "2025-02-10T18:37:38.307411Z"
    },
    "id": "60c1459f-7341-416f-94c7-55f30253e217"
   },
   "outputs": [],
   "source": [
    "def ap_metric(\n",
    "        gt_items: List[int],\n",
    "        predictions: List[int],\n",
    "        topn: Optional[int] = None\n",
    "):\n",
    "    if topn is None:\n",
    "        topn = len(predictions)\n",
    "\n",
    "    denominator = min(topn, len(gt_items))\n",
    "\n",
    "    if denominator == 0:\n",
    "        denominator = 1\n",
    "\n",
    "    left = 1 / denominator\n",
    "\n",
    "    r = np.isin(predictions[:topn], gt_items).astype(int)\n",
    "\n",
    "    p_i = np.cumsum(r) / (np.arange(len(r)) + 1)\n",
    "\n",
    "    result = left * np.sum(r * p_i)\n",
    "\n",
    "    return result\n",
    "\n",
    "\n",
    "def rr_metric(\n",
    "        gt_items: List[int],\n",
    "        predictions: List[int],\n",
    "        topn: Optional[int] = None\n",
    "):\n",
    "    if topn is None:\n",
    "        topn = len(predictions)\n",
    "\n",
    "    r = np.isin(predictions[:topn], gt_items).astype(int)\n",
    "\n",
    "    relevant_items = np.where(r == 1)\n",
    "\n",
    "    if len(relevant_items) == 0 or len(relevant_items[0]) == 0:\n",
    "        return 0\n",
    "\n",
    "    return 1 / (relevant_items[0][0] + 1)\n",
    "\n",
    "\n",
    "def hr_metric(\n",
    "        gt_items: List[int],\n",
    "        predictions: List[int],\n",
    "        topn: Optional[int] = None\n",
    "):\n",
    "    if topn is None:\n",
    "        topn = len(predictions)\n",
    "\n",
    "    r = np.isin(predictions[:topn], gt_items).astype(int)\n",
    "\n",
    "    return int(np.any(r == 1))\n"
   ]
  },
  {
   "cell_type": "markdown",
   "id": "k83GlXGhMt6P",
   "metadata": {
    "id": "k83GlXGhMt6P"
   },
   "source": [
    "Для вашего удобства в файле `metric_tests.py` есть тесты, но хардкодить их, разумеется, не стоит. "
   ]
  },
  {
   "cell_type": "code",
   "execution_count": 211,
   "id": "xtqG_ri3MSO2",
   "metadata": {
    "ExecuteTime": {
     "end_time": "2025-02-10T18:37:39.627523Z",
     "start_time": "2025-02-10T18:37:39.624616Z"
    },
    "id": "xtqG_ri3MSO2"
   },
   "outputs": [],
   "source": [
    "run_tests(ap_metric, rr_metric)"
   ]
  },
  {
   "cell_type": "markdown",
   "id": "di3dR9-mM34j",
   "metadata": {
    "id": "di3dR9-mM34j"
   },
   "source": [
    "В следующей ячейке код, который считает и усредняет метрики по юзерам. Он взят с семинара, при желании можно его тоже модифицировать, например, векторизовать. "
   ]
  },
  {
   "cell_type": "code",
   "execution_count": 212,
   "id": "YHz9p4SOg6eN",
   "metadata": {
    "ExecuteTime": {
     "end_time": "2025-02-10T18:37:40.877564Z",
     "start_time": "2025-02-10T18:37:40.874768Z"
    },
    "id": "YHz9p4SOg6eN"
   },
   "outputs": [],
   "source": [
    "def evaluate_recommender(df, model_preds, gt_col='test_interactions'):\n",
    "    metric_values = []\n",
    "\n",
    "    for idx, row in df.iterrows():\n",
    "        gt_items = [x[0] for x in row[gt_col]]\n",
    "        predictions = row[model_preds]\n",
    "\n",
    "        ap = ap_metric(gt_items, predictions)\n",
    "        rr = rr_metric(gt_items, predictions)\n",
    "        hr = hr_metric(gt_items, predictions)\n",
    "\n",
    "        metric_values.append((ap, rr, hr))\n",
    "\n",
    "    return {'map': np.mean([x[0] for x in metric_values]),\n",
    "            'mrr': np.mean([x[1] for x in metric_values]),\n",
    "            'hr': np.mean([x[2] for x in metric_values])}"
   ]
  },
  {
   "cell_type": "code",
   "execution_count": 357,
   "id": "56e473ae6876d070",
   "metadata": {
    "ExecuteTime": {
     "end_time": "2025-02-11T18:48:52.048551Z",
     "start_time": "2025-02-11T18:48:52.045141Z"
    }
   },
   "outputs": [],
   "source": [
    "def evaluate_recommender_topk(df, predictions, top_k, gt_col='test_interactions'):\n",
    "    metric_values = []\n",
    "\n",
    "    for idx, row in df.iterrows():\n",
    "        gt_items = [x[0] for x in row[gt_col]]\n",
    "        preds = predictions[idx]\n",
    "\n",
    "        ap = ap_metric(gt_items, preds, top_k)\n",
    "        rr = rr_metric(gt_items, preds, top_k)\n",
    "        hr = hr_metric(gt_items, preds, top_k)\n",
    "\n",
    "        metric_values.append((ap, rr, hr))\n",
    "\n",
    "    return {'map': np.mean([x[0] for x in metric_values]),\n",
    "            'mrr': np.mean([x[1] for x in metric_values]),\n",
    "            'hr': np.mean([x[2] for x in metric_values])}"
   ]
  },
  {
   "cell_type": "markdown",
   "id": "HHwUiR0BNOqB",
   "metadata": {
    "id": "HHwUiR0BNOqB"
   },
   "source": [
    "Если вы всё сделали правильно, рандомные предсказания должны дать хоть какое-то качество, но не очень большое."
   ]
  },
  {
   "cell_type": "code",
   "execution_count": 213,
   "id": "107b24e3-00d0-4466-be0f-3377d34c83a0",
   "metadata": {
    "ExecuteTime": {
     "end_time": "2025-02-10T18:37:43.656391Z",
     "start_time": "2025-02-10T18:37:43.257639Z"
    },
    "id": "107b24e3-00d0-4466-be0f-3377d34c83a0"
   },
   "outputs": [
    {
     "data": {
      "text/plain": [
       "{'map': np.float64(1.6666666666666664e-05),\n",
       " 'mrr': np.float64(5e-05),\n",
       " 'hr': np.float64(0.0001)}"
      ]
     },
     "execution_count": 213,
     "metadata": {},
     "output_type": "execute_result"
    }
   ],
   "source": [
    "evaluate_recommender(joined, model_preds='random_recs')"
   ]
  },
  {
   "cell_type": "code",
   "execution_count": 214,
   "id": "ac8d261e-1b5f-4894-93db-eb9eb414bfd1",
   "metadata": {
    "ExecuteTime": {
     "end_time": "2025-02-10T18:37:43.765401Z",
     "start_time": "2025-02-10T18:37:43.659853Z"
    },
    "colab": {
     "base_uri": "https://localhost:8080/",
     "height": 379
    },
    "id": "ac8d261e-1b5f-4894-93db-eb9eb414bfd1",
    "outputId": "808e1eec-48d3-40f8-809f-a51c3b3b7fd6"
   },
   "outputs": [
    {
     "data": {
      "text/html": [
       "<div>\n",
       "<style scoped>\n",
       "    .dataframe tbody tr th:only-of-type {\n",
       "        vertical-align: middle;\n",
       "    }\n",
       "\n",
       "    .dataframe tbody tr th {\n",
       "        vertical-align: top;\n",
       "    }\n",
       "\n",
       "    .dataframe thead th {\n",
       "        text-align: right;\n",
       "    }\n",
       "</style>\n",
       "<table border=\"1\" class=\"dataframe\">\n",
       "  <thead>\n",
       "    <tr style=\"text-align: right;\">\n",
       "      <th></th>\n",
       "      <th>user_id</th>\n",
       "      <th>train_interactions</th>\n",
       "      <th>test_interactions</th>\n",
       "      <th>random_recs</th>\n",
       "      <th>toppopular_recs</th>\n",
       "    </tr>\n",
       "  </thead>\n",
       "  <tbody>\n",
       "    <tr>\n",
       "      <th>0</th>\n",
       "      <td>165</td>\n",
       "      <td>[(12173, 122)]</td>\n",
       "      <td>[(4969, 161)]</td>\n",
       "      <td>[11705, 9045, 8487]</td>\n",
       "      <td>[10440, 15297, 9728, 13865, 3734, 4151, 4880, ...</td>\n",
       "    </tr>\n",
       "    <tr>\n",
       "      <th>1</th>\n",
       "      <td>322</td>\n",
       "      <td>[(4549, 94), (8419, 94), (14814, 94), (10219, ...</td>\n",
       "      <td>[(4651, 155), (15384, 155), (11099, 157), (633...</td>\n",
       "      <td>[11705, 9045, 8487]</td>\n",
       "      <td>[10440, 15297, 9728, 13865, 3734, 4151, 4880, ...</td>\n",
       "    </tr>\n",
       "    <tr>\n",
       "      <th>2</th>\n",
       "      <td>400</td>\n",
       "      <td>[(169, 144), (11047, 145), (12974, 145), (1399...</td>\n",
       "      <td>[(7793, 153)]</td>\n",
       "      <td>[11705, 9045, 8487]</td>\n",
       "      <td>[10440, 15297, 9728, 13865, 3734, 4151, 4880, ...</td>\n",
       "    </tr>\n",
       "    <tr>\n",
       "      <th>3</th>\n",
       "      <td>446</td>\n",
       "      <td>[(13865, 105)]</td>\n",
       "      <td>[(12202, 160), (230, 160)]</td>\n",
       "      <td>[11705, 9045, 8487]</td>\n",
       "      <td>[10440, 15297, 9728, 13865, 3734, 4151, 4880, ...</td>\n",
       "    </tr>\n",
       "    <tr>\n",
       "      <th>4</th>\n",
       "      <td>515</td>\n",
       "      <td>[(3734, 114), (9728, 114), (4457, 115), (13865...</td>\n",
       "      <td>[(512, 158), (6330, 158), (9811, 159), (14488,...</td>\n",
       "      <td>[11705, 9045, 8487]</td>\n",
       "      <td>[10440, 15297, 9728, 13865, 3734, 4151, 4880, ...</td>\n",
       "    </tr>\n",
       "  </tbody>\n",
       "</table>\n",
       "</div>"
      ],
      "text/plain": [
       "   user_id                                 train_interactions  \\\n",
       "0      165                                     [(12173, 122)]   \n",
       "1      322  [(4549, 94), (8419, 94), (14814, 94), (10219, ...   \n",
       "2      400  [(169, 144), (11047, 145), (12974, 145), (1399...   \n",
       "3      446                                     [(13865, 105)]   \n",
       "4      515  [(3734, 114), (9728, 114), (4457, 115), (13865...   \n",
       "\n",
       "                                   test_interactions          random_recs  \\\n",
       "0                                      [(4969, 161)]  [11705, 9045, 8487]   \n",
       "1  [(4651, 155), (15384, 155), (11099, 157), (633...  [11705, 9045, 8487]   \n",
       "2                                      [(7793, 153)]  [11705, 9045, 8487]   \n",
       "3                         [(12202, 160), (230, 160)]  [11705, 9045, 8487]   \n",
       "4  [(512, 158), (6330, 158), (9811, 159), (14488,...  [11705, 9045, 8487]   \n",
       "\n",
       "                                     toppopular_recs  \n",
       "0  [10440, 15297, 9728, 13865, 3734, 4151, 4880, ...  \n",
       "1  [10440, 15297, 9728, 13865, 3734, 4151, 4880, ...  \n",
       "2  [10440, 15297, 9728, 13865, 3734, 4151, 4880, ...  \n",
       "3  [10440, 15297, 9728, 13865, 3734, 4151, 4880, ...  \n",
       "4  [10440, 15297, 9728, 13865, 3734, 4151, 4880, ...  "
      ]
     },
     "execution_count": 214,
     "metadata": {},
     "output_type": "execute_result"
    }
   ],
   "source": [
    "class TopPopular:\n",
    "\n",
    "    def __init__(self):\n",
    "\n",
    "        self.trained = False\n",
    "\n",
    "    def fit(self, df, col='train_interactions'):\n",
    "\n",
    "        counts = {}\n",
    "        for _, row in df.iterrows():\n",
    "            for item, _ in row[col]:\n",
    "                if item in counts:\n",
    "                    counts[item] += 1\n",
    "                else:\n",
    "                    counts[item] = 1\n",
    "\n",
    "        counts = sorted(counts.items(), key=lambda x: x[1], reverse=True)\n",
    "\n",
    "        self.recommenations = [x[0] for x in counts]\n",
    "        self.trained = True\n",
    "\n",
    "    def predict(self, df, topn=10) -> List[np.ndarray]:\n",
    "\n",
    "        assert self.trained\n",
    "        return [self.recommenations[:topn]] * len(df)\n",
    "\n",
    "\n",
    "toppop = TopPopular()\n",
    "toppop.fit(joined)\n",
    "\n",
    "joined['toppopular_recs'] = toppop.predict(joined)\n",
    "joined.head()"
   ]
  },
  {
   "cell_type": "markdown",
   "id": "U6Yovxc4NbdO",
   "metadata": {
    "id": "U6Yovxc4NbdO"
   },
   "source": [
    "Самые популярные предсказания должны показать более высокое качество."
   ]
  },
  {
   "cell_type": "code",
   "execution_count": 215,
   "id": "dfd3c545-53f8-46a4-89b9-4cf61475599a",
   "metadata": {
    "ExecuteTime": {
     "end_time": "2025-02-10T18:37:46.371929Z",
     "start_time": "2025-02-10T18:37:45.946234Z"
    },
    "id": "dfd3c545-53f8-46a4-89b9-4cf61475599a"
   },
   "outputs": [
    {
     "data": {
      "text/plain": [
       "{'map': np.float64(0.0690354226505417),\n",
       " 'mrr': np.float64(0.12128011904761904),\n",
       " 'hr': np.float64(0.3053)}"
      ]
     },
     "execution_count": 215,
     "metadata": {},
     "output_type": "execute_result"
    }
   ],
   "source": [
    "evaluate_recommender(joined, model_preds='toppopular_recs')"
   ]
  },
  {
   "cell_type": "markdown",
   "id": "dcf7944e-962d-4206-8cfe-afa5162512b3",
   "metadata": {
    "id": "dcf7944e-962d-4206-8cfe-afa5162512b3"
   },
   "source": [
    "**Задание №2. Рекомендации в окне**\n",
    "\n",
    "Здесь необходимо переделать метод рекомендации по популярности так, что популярность считается только за какое-то более свежее временное окно. Под окном подразумевается какой-то временной промежуток, например, ближайший месяц. Соответственно, всё что за его пределами, не учитывается."
   ]
  },
  {
   "cell_type": "code",
   "execution_count": 216,
   "id": "4a01f209-5f6a-4643-9d1d-5fcec5598f28",
   "metadata": {
    "ExecuteTime": {
     "end_time": "2025-02-10T18:37:48.532289Z",
     "start_time": "2025-02-10T18:37:48.529740Z"
    },
    "id": "4a01f209-5f6a-4643-9d1d-5fcec5598f28"
   },
   "outputs": [],
   "source": [
    "class TopPopularWeighted(TopPopular):\n",
    "\n",
    "    def __init__(self, max_dt=0, min_window=2):\n",
    "        super().__init__()\n",
    "        self.min_window = min_window\n",
    "        self.max_dt = max_dt\n",
    "\n",
    "    def fit(self, df, col='train_interactions', time_window=30):\n",
    "        counts = {}\n",
    "        time_threshold = self.max_dt - time_window\n",
    "\n",
    "        if time_threshold < 0:\n",
    "            time_threshold = 1\n",
    "\n",
    "        for _, row in df.iterrows():\n",
    "            for item, dt in row[col]:\n",
    "                if dt >= time_threshold:\n",
    "                    if item in counts:\n",
    "                        counts[item] += 1\n",
    "                    else:\n",
    "                        counts[item] = 1\n",
    "\n",
    "        counts = sorted(counts.items(), key=lambda x: x[1], reverse=True)\n",
    "\n",
    "        self.recommenations = [x[0] for x in counts]\n",
    "        self.trained = True\n",
    "\n",
    "    def predict(self, df, topn=10) -> List[np.ndarray]:\n",
    "\n",
    "        assert self.trained\n",
    "        return [self.recommenations[:topn]] * len(df)\n",
    "\n",
    "# your code here"
   ]
  },
  {
   "cell_type": "markdown",
   "id": "YKmJId7cOWh6",
   "metadata": {
    "id": "YKmJId7cOWh6"
   },
   "source": [
    "Теперь постройте графики зависимости значений трёх метрик (AP@k, RR@k, HR@k) от размера окна."
   ]
  },
  {
   "cell_type": "code",
   "execution_count": 217,
   "id": "mdxBytDB8gkm",
   "metadata": {
    "ExecuteTime": {
     "end_time": "2025-02-10T18:37:54.069327Z",
     "start_time": "2025-02-10T18:37:50.440358Z"
    },
    "id": "mdxBytDB8gkm"
   },
   "outputs": [
    {
     "name": "stdout",
     "output_type": "stream",
     "text": [
      "\n",
      "toppW_recs@5\n",
      "{'map': np.float64(0.0), 'mrr': np.float64(0.0), 'hr': np.float64(0.0)}\n",
      "\n",
      "toppW_recs@15\n",
      "{'map': np.float64(0.07027613430650037), 'mrr': np.float64(0.12453253968253969), 'hr': np.float64(0.3179)}\n",
      "\n",
      "toppW_recs@25\n",
      "{'map': np.float64(0.07184886378810784), 'mrr': np.float64(0.13058019841269838), 'hr': np.float64(0.3179)}\n",
      "\n",
      "toppW_recs@35\n",
      "{'map': np.float64(0.07166839728206098), 'mrr': np.float64(0.13062218253968252), 'hr': np.float64(0.3171)}\n",
      "\n",
      "toppW_recs@45\n",
      "{'map': np.float64(0.07311016931216932), 'mrr': np.float64(0.13303488095238097), 'hr': np.float64(0.3148)}\n",
      "\n",
      "toppW_recs@55\n",
      "{'map': np.float64(0.0731479549004787), 'mrr': np.float64(0.12966575396825397), 'hr': np.float64(0.3036)}\n",
      "\n",
      "toppW_recs@65\n",
      "{'map': np.float64(0.07215884290753338), 'mrr': np.float64(0.1313626984126984), 'hr': np.float64(0.3045)}\n"
     ]
    }
   ],
   "source": [
    "max_dt = df.last_watch_dt.max()\n",
    "\n",
    "for window in range(5, 66, 10):\n",
    "    topPopW = TopPopularWeighted(max_dt=max_dt, min_window=5)\n",
    "\n",
    "    topPopW.fit(joined, time_window=window)\n",
    "\n",
    "    col_name = 'toppW_recs@' + str(window)\n",
    "\n",
    "    joined[col_name] = topPopW.predict(joined)\n",
    "\n",
    "    print()\n",
    "    print(col_name)\n",
    "    print(evaluate_recommender(joined, model_preds=col_name))"
   ]
  },
  {
   "cell_type": "markdown",
   "id": "b_0ke9aD9nkO",
   "metadata": {
    "id": "b_0ke9aD9nkO"
   },
   "source": [
    "Подумайте и ответьте, как размер окна влияет на качество рекомендаций. Какое значение наилучшее, есть ли у этого разумное объяснение?\n",
    "\n",
    "**Ответ:**\n",
    " При маленьком окне  качество рекомендаций нулевое, так как скорее всего такого маленького промежутка времени не хватает для определения наиболее популярных элементов.\n",
    "\n",
    "При среднем окне  качество рек-ий значительно улучшилось, так большее окно позволяет учитывать большее кол-во элементов и точнее определить наиболее популярные.\n",
    "\n",
    "При бОльшем окне качество рек-ий начинает ухудшаться, так как скорее всего начинают учитываться устаревшие айтемы."
   ]
  },
  {
   "cell_type": "markdown",
   "id": "1a112ae1-d5f3-4150-8df3-9155240a557a",
   "metadata": {
    "id": "1a112ae1-d5f3-4150-8df3-9155240a557a"
   },
   "source": [
    "**Задание №3. Метрики и k.**\n",
    "\n",
    "Постройте зависимость значений MAP@K, MRR@K, HR@K для метода рекомендации по популярности. Возьмите какие-нибудь k, например, от 1 до 100, переберите значения и покажите на линейном графике. "
   ]
  },
  {
   "cell_type": "code",
   "execution_count": 218,
   "id": "URxM6rRVP6Nu",
   "metadata": {
    "ExecuteTime": {
     "end_time": "2025-02-10T18:37:54.073163Z",
     "start_time": "2025-02-10T18:37:54.071376Z"
    },
    "id": "URxM6rRVP6Nu"
   },
   "outputs": [],
   "source": [
    "joined['toppopular_recs'] = toppop.predict(joined, topn=100)"
   ]
  },
  {
   "cell_type": "code",
   "execution_count": 219,
   "id": "430cd0386d5a3bd9",
   "metadata": {
    "ExecuteTime": {
     "end_time": "2025-02-10T18:38:37.621799Z",
     "start_time": "2025-02-10T18:37:54.296824Z"
    }
   },
   "outputs": [],
   "source": [
    "map = []\n",
    "mrr = []\n",
    "hr = []\n",
    "\n",
    "k_val = range(1, 101, 1)\n",
    "\n",
    "for k in k_val:\n",
    "    joined['toppopular_recs'] = toppop.predict(joined, topn=k)\n",
    "    metrics = evaluate_recommender(joined, 'toppopular_recs')\n",
    "\n",
    "    map.append(metrics['map'])\n",
    "    mrr.append(metrics['mrr'])\n",
    "    hr.append(metrics['hr'])"
   ]
  },
  {
   "cell_type": "code",
   "execution_count": 220,
   "id": "43d8f78407658db2",
   "metadata": {
    "ExecuteTime": {
     "end_time": "2025-02-10T18:38:37.659904Z",
     "start_time": "2025-02-10T18:38:37.625036Z"
    }
   },
   "outputs": [
    {
     "data": {
      "image/png": "[encoded data removed]",
      "text/plain": [
       "<Figure size 1000x600 with 1 Axes>"
      ]
     },
     "metadata": {},
     "output_type": "display_data"
    }
   ],
   "source": [
    "plt.figure(figsize=(10, 6))\n",
    "plt.plot(k_val, map, label='MAP@K', linestyle='-')\n",
    "\n",
    "plt.xlabel(\"K\")\n",
    "plt.ylabel(\"Metric\")\n",
    "plt.title(\"MAP@K\")\n",
    "plt.legend()\n",
    "plt.grid()\n",
    "plt.show()"
   ]
  },
  {
   "cell_type": "code",
   "execution_count": 221,
   "id": "4a4043f5b0576af",
   "metadata": {
    "ExecuteTime": {
     "end_time": "2025-02-10T18:38:37.715829Z",
     "start_time": "2025-02-10T18:38:37.676347Z"
    }
   },
   "outputs": [
    {
     "data": {
      "image/png": "[encoded data removed]",
      "text/plain": [
       "<Figure size 1000x600 with 1 Axes>"
      ]
     },
     "metadata": {},
     "output_type": "display_data"
    }
   ],
   "source": [
    "plt.figure(figsize=(10, 6))\n",
    "plt.plot(k_val, mrr, label='MRR@K', linestyle='-')\n",
    "\n",
    "plt.xlabel(\"K\")\n",
    "plt.ylabel(\"Metric\")\n",
    "plt.title(\"MRR@K\")\n",
    "plt.legend()\n",
    "plt.grid()\n",
    "plt.show()"
   ]
  },
  {
   "cell_type": "code",
   "execution_count": 222,
   "id": "cffe54f0e191fd0d",
   "metadata": {
    "ExecuteTime": {
     "end_time": "2025-02-10T18:38:37.763917Z",
     "start_time": "2025-02-10T18:38:37.730884Z"
    }
   },
   "outputs": [
    {
     "data": {
      "image/png": "[encoded data removed]",
      "text/plain": [
       "<Figure size 1000x600 with 1 Axes>"
      ]
     },
     "metadata": {},
     "output_type": "display_data"
    }
   ],
   "source": [
    "plt.figure(figsize=(10, 6))\n",
    "plt.plot(k_val, hr, label='HR@K', linestyle='-')\n",
    "\n",
    "plt.xlabel(\"K\")\n",
    "plt.ylabel(\"Metric\")\n",
    "plt.title(\"HR@K\")\n",
    "plt.legend()\n",
    "plt.grid()\n",
    "plt.show()"
   ]
  },
  {
   "cell_type": "markdown",
   "id": "e5696df8-243a-42a0-9bf4-44aac7474dd7",
   "metadata": {
    "id": "e5696df8-243a-42a0-9bf4-44aac7474dd7"
   },
   "source": [
    "Хорошенько подумайте и ответьте на вопросы ниже.\n",
    "\n",
    "3.1 Какие из метрик являются монотонными функциями по top-K? Объясните, почему они являются монотонными? \\\n",
    "**Ответ:**\n",
    "Все три графика являются монотонными.\n",
    "\n",
    "- HR@K: Чем больше  𝐾, тем больше элементов охватывается, увеличивая вероятность попадания хотя бы одного релевантного элемента.\n",
    "- MRR@K: Если релевантный элемент уже найден на меньших  𝐾, увеличение K не ухудшает значение, а может только улучшить его.\n",
    "- MAP@K: Метрика аккумулирует точность и может улучшаться, но стабилизируется, когда релевантные элементы исчерпываются.\n",
    "\n",
    "3.2 Объясните по каждой метрике, как можно интерпретировать ее график? То есть, что можно сказать про связь изменения метрики c возможными пользовательскими сценариями, например,скроллингом ленты новостей. \\\n",
    "**Ответ:**\n",
    "\n",
    "- MAP@K: Если пользователь скроллит до конца списка рекомендаций, MAP указывает на то, насколько высоко релевантные элементы расположены в этом списке. Чем выше MAP, тем больше релевантных элементов в верхних позициях рекомендаций.\n",
    "- MRR@K: Эта метрика важна для сценариев, где пользователь ожидает быстрый результат (например, поиск товара или информации). Чем выше MRR, тем раньше пользователь находит релевантный результат.\n",
    "- HR@K: Важно для сценариев, где пользователю нужно, чтобы хотя бы один релевантный элемент оказался в ленте. Например, в новостных лентах или рекомендательных системах.\n",
    "\n",
    "3.3 Как вы думаете, почему графики выглядят именно так? Должны ли они возрастать/убывать, от чего это может зависеть? (Тут вам может помочь дополнительный анализ данных)\\\n",
    "**Ответ:**\n",
    "\n",
    "MAP и MRR:\n",
    "Они растут медленно, так как при увеличении K добавляются нерелевантные элементы, что снижает точность. Релевантные элементы в конце списка делают меньший вклад в метрику, особенно для MAP.\n",
    "\n",
    "HR:\n",
    "растет быстрее, чем другие метрики, потому что она не зависит от точного порядка релевантных элементов в списке, а только от их наличия.\n",
    "\n",
    "Поведение объясняется тем, как метрики устроены. MAP и MRR зависят от порядка и точности рекомендаций, а HR учитывает только факт наличия релевантного элемента."
   ]
  },
  {
   "cell_type": "markdown",
   "id": "ab1e75f8-c9bb-4d59-9d57-9934161aa4c7",
   "metadata": {
    "id": "ab1e75f8-c9bb-4d59-9d57-9934161aa4c7"
   },
   "source": [
    "**Задание №4. Интерпретация рейтингов**\n",
    "\n",
    "Возьмите названия фильмов/сериалов из `items.csv`, выделите 5 различных сценариев изменения популярности у фильмов, аргументируйте (например, графиком или статистикой) и проинтерпретируейте их (почему популярность для этого фильма меняется так). Обратите внимание, что надо найти именно разные паттерны изменения вероятностей."
   ]
  },
  {
   "cell_type": "code",
   "execution_count": 223,
   "id": "59205c4a-1779-4678-a79e-f7b7548f6988",
   "metadata": {
    "ExecuteTime": {
     "end_time": "2025-02-10T18:38:38.025997Z",
     "start_time": "2025-02-10T18:38:37.780399Z"
    },
    "colab": {
     "base_uri": "https://localhost:8080/",
     "height": 206
    },
    "id": "59205c4a-1779-4678-a79e-f7b7548f6988",
    "outputId": "4210096a-7b1e-432e-e29e-cc6f6bd7d3cc"
   },
   "outputs": [
    {
     "data": {
      "text/html": [
       "<div>\n",
       "<style scoped>\n",
       "    .dataframe tbody tr th:only-of-type {\n",
       "        vertical-align: middle;\n",
       "    }\n",
       "\n",
       "    .dataframe tbody tr th {\n",
       "        vertical-align: top;\n",
       "    }\n",
       "\n",
       "    .dataframe thead th {\n",
       "        text-align: right;\n",
       "    }\n",
       "</style>\n",
       "<table border=\"1\" class=\"dataframe\">\n",
       "  <thead>\n",
       "    <tr style=\"text-align: right;\">\n",
       "      <th></th>\n",
       "      <th>item_id</th>\n",
       "      <th>title</th>\n",
       "    </tr>\n",
       "  </thead>\n",
       "  <tbody>\n",
       "    <tr>\n",
       "      <th>0</th>\n",
       "      <td>10711</td>\n",
       "      <td>Поговори с ней</td>\n",
       "    </tr>\n",
       "    <tr>\n",
       "      <th>1</th>\n",
       "      <td>2508</td>\n",
       "      <td>Голые перцы</td>\n",
       "    </tr>\n",
       "    <tr>\n",
       "      <th>2</th>\n",
       "      <td>10716</td>\n",
       "      <td>Тактическая сила</td>\n",
       "    </tr>\n",
       "    <tr>\n",
       "      <th>3</th>\n",
       "      <td>7868</td>\n",
       "      <td>45 лет</td>\n",
       "    </tr>\n",
       "    <tr>\n",
       "      <th>4</th>\n",
       "      <td>16268</td>\n",
       "      <td>Все решает мгновение</td>\n",
       "    </tr>\n",
       "  </tbody>\n",
       "</table>\n",
       "</div>"
      ],
      "text/plain": [
       "   item_id                 title\n",
       "0    10711        Поговори с ней\n",
       "1     2508           Голые перцы\n",
       "2    10716      Тактическая сила\n",
       "3     7868                45 лет\n",
       "4    16268  Все решает мгновение"
      ]
     },
     "execution_count": 223,
     "metadata": {},
     "output_type": "execute_result"
    }
   ],
   "source": [
    "items = pd.read_csv('items.csv')[['item_id', 'title']].copy()\n",
    "items.head()"
   ]
  },
  {
   "cell_type": "markdown",
   "id": "d5d18d06-ef56-45ef-a738-72150b094898",
   "metadata": {
    "id": "d5d18d06-ef56-45ef-a738-72150b094898"
   },
   "source": [
    "Пример:"
   ]
  },
  {
   "cell_type": "code",
   "execution_count": 224,
   "id": "bbf556fe-21d5-4210-b699-7090fa2fa178",
   "metadata": {
    "ExecuteTime": {
     "end_time": "2025-02-10T18:38:38.116523Z",
     "start_time": "2025-02-10T18:38:38.054259Z"
    },
    "colab": {
     "base_uri": "https://localhost:8080/",
     "height": 465
    },
    "id": "bbf556fe-21d5-4210-b699-7090fa2fa178",
    "outputId": "eb2242ca-5bf9-4125-e597-cbc96412df4e"
   },
   "outputs": [
    {
     "name": "stdout",
     "output_type": "stream",
     "text": [
      "1917\n"
     ]
    },
    {
     "data": {
      "text/plain": [
       "<Axes: >"
      ]
     },
     "execution_count": 224,
     "metadata": {},
     "output_type": "execute_result"
    },
    {
     "data": {
      "image/png": "[encoded data removed]",
      "text/plain": [
       "<Figure size 640x480 with 1 Axes>"
      ]
     },
     "metadata": {},
     "output_type": "display_data"
    }
   ],
   "source": [
    "popular_items = df.item_id.value_counts()[:300].index.tolist()\n",
    "sampled_id = np.random.choice(popular_items)\n",
    "\n",
    "# это для примера, хотя выцеплять случаи по одному может быть не лучшей идеей\n",
    "sampled_id = 3402\n",
    "\n",
    "interactions = df.loc[df.item_id == sampled_id].copy()\n",
    "name = items.loc[items.item_id == sampled_id].title.values[0]\n",
    "print(name)\n",
    "interactions.last_watch_dt.hist()"
   ]
  },
  {
   "cell_type": "markdown",
   "id": "bf72e854-0b21-4891-ba5c-acbca999c3f1",
   "metadata": {
    "id": "bf72e854-0b21-4891-ba5c-acbca999c3f1"
   },
   "source": [
    "Фильм 1917 какое-то время набирал популярность, потом видим резкое падение (кстати, с какой даты?). Возможно, это связано с ограничением доступности этого фильма для части пользователей, периодом проката фильма / рекламной кампании или другой причиной. "
   ]
  },
  {
   "cell_type": "markdown",
   "id": "eb5ae2d4-8ddc-4593-b7a2-2cb5e8276e16",
   "metadata": {
    "id": "eb5ae2d4-8ddc-4593-b7a2-2cb5e8276e16"
   },
   "source": [
    "Добавьте 5 своих примеров ниже. Опишите, как вы их искали."
   ]
  },
  {
   "cell_type": "code",
   "execution_count": null,
   "id": "6eae74768d7f6cfb",
   "metadata": {
    "ExecuteTime": {
     "end_time": "2025-02-10T17:40:16.815350Z",
     "start_time": "2025-02-10T17:40:16.813095Z"
    }
   },
   "outputs": [],
   "source": [
    "import pandas as pd\n",
    "import numpy as np\n",
    "from sklearn.cluster import KMeans\n",
    "from sklearn.preprocessing import StandardScaler\n",
    "\n",
    "\n",
    "def analyze_movie_popularity(interactions, items):\n",
    "    temp_df = interactions.merge(items, on='item_id', how='left')\n",
    "\n",
    "    temp_df['last_watch_dt'] = pd.to_datetime(temp_df['last_watch_dt'], unit='D', origin='2021-03-13')\n",
    "    temp_df['count'] = 1\n",
    "\n",
    "    time_series = (\n",
    "        temp_df.groupby(['item_id', pd.Grouper(key='last_watch_dt')])\n",
    "        .agg({'count': 'sum'})\n",
    "        .reset_index()\n",
    "    )\n",
    "\n",
    "    time_series_pivot = time_series.pivot(index='item_id', columns='last_watch_dt', values='count').fillna(0)\n",
    "\n",
    "    scaler = StandardScaler()\n",
    "    normalized_data = scaler.fit_transform(time_series_pivot)\n",
    "\n",
    "    kmeans = KMeans(n_clusters=10, random_state=42)\n",
    "    clusters = kmeans.fit_predict(normalized_data)\n",
    "    time_series_pivot['cluster'] = clusters\n",
    "\n",
    "    return time_series_pivot"
   ]
  },
  {
   "cell_type": "code",
   "execution_count": 180,
   "id": "4144946a-39be-4049-b1f8-6f087d144bed",
   "metadata": {
    "ExecuteTime": {
     "end_time": "2025-02-10T17:40:18.794523Z",
     "start_time": "2025-02-10T17:40:18.387574Z"
    },
    "id": "4144946a-39be-4049-b1f8-6f087d144bed"
   },
   "outputs": [],
   "source": [
    "# result = analyze_movie_popularity(df, items)\n",
    "\n",
    "# print(result['cluster'])"
   ]
  },
  {
   "cell_type": "markdown",
   "id": "66000d0bf76d91f2",
   "metadata": {},
   "source": [
    "### У нас есть 5 кластеров, у которых разное поведение. Давайте смотреть, что в них происходит."
   ]
  },
  {
   "cell_type": "code",
   "execution_count": 182,
   "id": "d977bfa6eb2b5247",
   "metadata": {
    "ExecuteTime": {
     "end_time": "2025-02-10T17:40:24.493570Z",
     "start_time": "2025-02-10T17:40:24.321058Z"
    }
   },
   "outputs": [
    {
     "name": "stdout",
     "output_type": "stream",
     "text": [
      "name: Материнский инстинкт\n",
      "cluster_id: 0\n"
     ]
    },
    {
     "data": {
      "image/png": "[encoded data removed]",
      "text/plain": [
       "<Figure size 640x480 with 1 Axes>"
      ]
     },
     "metadata": {},
     "output_type": "display_data"
    },
    {
     "name": "stdout",
     "output_type": "stream",
     "text": [
      "name: Хрустальный\n",
      "cluster_id: 1\n"
     ]
    },
    {
     "data": {
      "image/png": "[encoded data removed]",
      "text/plain": [
       "<Figure size 640x480 with 1 Axes>"
      ]
     },
     "metadata": {},
     "output_type": "display_data"
    },
    {
     "name": "stdout",
     "output_type": "stream",
     "text": [
      "name: Любовь\n",
      "cluster_id: 2\n"
     ]
    },
    {
     "data": {
      "image/png": "[encoded data removed]",
      "text/plain": [
       "<Figure size 640x480 with 1 Axes>"
      ]
     },
     "metadata": {},
     "output_type": "display_data"
    },
    {
     "name": "stdout",
     "output_type": "stream",
     "text": [
      "name: Цвет из иных миров\n",
      "cluster_id: 3\n"
     ]
    },
    {
     "data": {
      "image/png": "[encoded data removed]",
      "text/plain": [
       "<Figure size 640x480 with 1 Axes>"
      ]
     },
     "metadata": {},
     "output_type": "display_data"
    },
    {
     "name": "stdout",
     "output_type": "stream",
     "text": [
      "name: Прабабушка легкого поведения\n",
      "cluster_id: 4\n"
     ]
    },
    {
     "data": {
      "image/png": "[encoded data removed]",
      "text/plain": [
       "<Figure size 640x480 with 1 Axes>"
      ]
     },
     "metadata": {},
     "output_type": "display_data"
    }
   ],
   "source": [
    "# for cluster_id in range(5):\n",
    "#     cluster_item = np.random.choice(result[result['cluster'] == cluster_id].index.tolist())\n",
    "#\n",
    "#     sampled_id = cluster_item\n",
    "#\n",
    "#     interactions = df.loc[df.item_id == sampled_id].copy()\n",
    "#     name = items.loc[items.item_id == sampled_id].title.values[0]\n",
    "#     print(\"name:\", name)\n",
    "#     print(\"cluster_id:\", cluster_id)\n",
    "#     interactions.last_watch_dt.hist()\n",
    "#     plt.show()"
   ]
  },
  {
   "cell_type": "markdown",
   "id": "e1293eb8f8b66019",
   "metadata": {},
   "source": [
    "### Так, мы получили 5 графиков. Давайте попробуем сделать какие-нибудь предположения.\n",
    "- Насчет первого фильма видно (name: Материнский инстинкт, cluster_id: 0), что он в марте резко набирает популярность. Скорее всего это связано с тем, что на 8 марта смотрят фильмы про матерей\n",
    "- Насчет второго (name: Хрустальный, cluster_id: 1), Хрустальный - это сериал, который релизнули в 2021. Скорее всего на 80 день пришелся пик его популярности, так как стало понятно, кому он нравится, и релизнулось достаточное кол-во серий\n",
    "- Любовь (name: Любовь, cluster_id: 2) - это фильм 2015 года. Он стабильно набирает просмотры. Может быть просто хайповал в тиктоке\n",
    "- Цвет из иных миров (name: Цвет из иных миров, cluster_id: 3) - sci-fi фильм 2019 года. На +- 60 день выпадают майские праздники, мб люди просто массово сели смотреть фильмы, и этот тоже попал под раздачу\n",
    "- Прабабушка легкого поведения (name: Прабабушка легкого поведения, cluster_id: 4) - фильм 2021 года, видно, что он релизнулся в +- июне, и тут явный паттерн, что было много просмотров сразу после релиза, потом популярность утихла"
   ]
  },
  {
   "cell_type": "markdown",
   "id": "7597d4c1-68c8-4187-92ee-79cb44a84de8",
   "metadata": {
    "id": "7597d4c1-68c8-4187-92ee-79cb44a84de8"
   },
   "source": [
    "**Задание №5. User-item encoding**\n",
    "\n",
    "Теперь, создайте матрицу интеракций user-item по примеру из семинара. Вам нужно в итоге получить разреженную матрицу (sparse matrix), в которой в качестве строк будут пользователи, в качестве колонок - айтемы. Не забудьте перекодировать пользователей и айтемы через энкодер. В отличие от семинара, оставьте в матрице только юзеров и айтемы, которые встречались в матрице > 4 раз."
   ]
  },
  {
   "cell_type": "markdown",
   "id": "4ee1dd61-2f92-420d-96ce-3185dd80cb81",
   "metadata": {
    "id": "4ee1dd61-2f92-420d-96ce-3185dd80cb81"
   },
   "source": [
    "Важно: когда вы отфильтруете юзеров на встречаемость > 4 раз, вы удалите какие-то айтемы, которые теперь станут встречаться меньше 5 раз. Поэтому у вас перестанет выполняться второе условие на минимальное число интеракций с айтемом. Тогда вам надо опять отфильтровать айтемы на встречаемость, но это снова может нарушить условие для юзеров. В таком случае, вам надо написать итеративный алгоритм до сходимости, пока требования не будут выполняться в обеих колонках."
   ]
  },
  {
   "cell_type": "code",
   "execution_count": 225,
   "id": "c89c984447eed9c5",
   "metadata": {
    "ExecuteTime": {
     "end_time": "2025-02-10T18:38:38.132169Z",
     "start_time": "2025-02-10T18:38:38.129443Z"
    }
   },
   "outputs": [
    {
     "data": {
      "text/html": [
       "<div>\n",
       "<style scoped>\n",
       "    .dataframe tbody tr th:only-of-type {\n",
       "        vertical-align: middle;\n",
       "    }\n",
       "\n",
       "    .dataframe tbody tr th {\n",
       "        vertical-align: top;\n",
       "    }\n",
       "\n",
       "    .dataframe thead th {\n",
       "        text-align: right;\n",
       "    }\n",
       "</style>\n",
       "<table border=\"1\" class=\"dataframe\">\n",
       "  <thead>\n",
       "    <tr style=\"text-align: right;\">\n",
       "      <th></th>\n",
       "      <th>user_id</th>\n",
       "      <th>item_id</th>\n",
       "      <th>last_watch_dt</th>\n",
       "      <th>total_dur</th>\n",
       "      <th>watched_pct</th>\n",
       "    </tr>\n",
       "  </thead>\n",
       "  <tbody>\n",
       "    <tr>\n",
       "      <th>0</th>\n",
       "      <td>176549</td>\n",
       "      <td>9506</td>\n",
       "      <td>59</td>\n",
       "      <td>4250</td>\n",
       "      <td>72.0</td>\n",
       "    </tr>\n",
       "    <tr>\n",
       "      <th>1</th>\n",
       "      <td>699317</td>\n",
       "      <td>1659</td>\n",
       "      <td>77</td>\n",
       "      <td>8317</td>\n",
       "      <td>100.0</td>\n",
       "    </tr>\n",
       "    <tr>\n",
       "      <th>2</th>\n",
       "      <td>656683</td>\n",
       "      <td>7107</td>\n",
       "      <td>57</td>\n",
       "      <td>10</td>\n",
       "      <td>0.0</td>\n",
       "    </tr>\n",
       "    <tr>\n",
       "      <th>3</th>\n",
       "      <td>864613</td>\n",
       "      <td>7638</td>\n",
       "      <td>114</td>\n",
       "      <td>14483</td>\n",
       "      <td>100.0</td>\n",
       "    </tr>\n",
       "    <tr>\n",
       "      <th>4</th>\n",
       "      <td>964868</td>\n",
       "      <td>9506</td>\n",
       "      <td>48</td>\n",
       "      <td>6725</td>\n",
       "      <td>100.0</td>\n",
       "    </tr>\n",
       "  </tbody>\n",
       "</table>\n",
       "</div>"
      ],
      "text/plain": [
       "   user_id  item_id  last_watch_dt  total_dur  watched_pct\n",
       "0   176549     9506             59       4250         72.0\n",
       "1   699317     1659             77       8317        100.0\n",
       "2   656683     7107             57         10          0.0\n",
       "3   864613     7638            114      14483        100.0\n",
       "4   964868     9506             48       6725        100.0"
      ]
     },
     "execution_count": 225,
     "metadata": {},
     "output_type": "execute_result"
    }
   ],
   "source": [
    "df.head()"
   ]
  },
  {
   "cell_type": "code",
   "execution_count": 400,
   "id": "1c4a5a4a-eabf-4145-b081-53881e5ce9c1",
   "metadata": {
    "ExecuteTime": {
     "end_time": "2025-02-11T19:44:29.833792Z",
     "start_time": "2025-02-11T19:44:29.216703Z"
    },
    "id": "1c4a5a4a-eabf-4145-b081-53881e5ce9c1"
   },
   "outputs": [],
   "source": [
    "def filter_column(df, col, min_freq):\n",
    "    \"\"\"\n",
    "    Filter dataframe, excluding least active users and least popular items.\n",
    "    Return a copy of the dataframe with at least min_freq entries\n",
    "    in both users and items\n",
    "    \"\"\"\n",
    "\n",
    "    counts = df[col].value_counts()\n",
    "    filt_df = df[df[col].isin(counts[counts >= min_freq].index)]\n",
    "\n",
    "    return filt_df\n",
    "\n",
    "\n",
    "def filter_dataframe(df, cols, min_freq=5):\n",
    "    \"\"\"\n",
    "    Filter dataframe by given columns until each of them satisfies\n",
    "    min_freq condition, guaranteed by filter_columns. Return a copy\n",
    "    of the dataframe\n",
    "    \"\"\"\n",
    "\n",
    "    new_df = df.copy()\n",
    "\n",
    "    while True:\n",
    "        size = new_df.shape\n",
    "\n",
    "        for col in cols:\n",
    "            new_df = filter_column(new_df, col, min_freq)\n",
    "\n",
    "        if new_df.shape == size:\n",
    "            break\n",
    "\n",
    "    return new_df\n",
    "\n",
    "\n",
    "filtered_train = filter_dataframe(df, ['user_id', 'item_id'])"
   ]
  },
  {
   "cell_type": "code",
   "execution_count": 401,
   "id": "a02c1fe8-2068-43d2-9851-edd67b5866c2",
   "metadata": {
    "ExecuteTime": {
     "end_time": "2025-02-11T19:44:32.983161Z",
     "start_time": "2025-02-11T19:44:30.740715Z"
    },
    "colab": {
     "base_uri": "https://localhost:8080/",
     "height": 373
    },
    "id": "a02c1fe8-2068-43d2-9851-edd67b5866c2",
    "outputId": "0bcbad24-be0f-4b47-8d98-ea72f7ebe2e9"
   },
   "outputs": [
    {
     "data": {
      "text/html": [
       "<div>\n",
       "<style scoped>\n",
       "    .dataframe tbody tr th:only-of-type {\n",
       "        vertical-align: middle;\n",
       "    }\n",
       "\n",
       "    .dataframe tbody tr th {\n",
       "        vertical-align: top;\n",
       "    }\n",
       "\n",
       "    .dataframe thead th {\n",
       "        text-align: right;\n",
       "    }\n",
       "</style>\n",
       "<table border=\"1\" class=\"dataframe\">\n",
       "  <thead>\n",
       "    <tr style=\"text-align: right;\">\n",
       "      <th></th>\n",
       "      <th>user_id</th>\n",
       "      <th>item_id</th>\n",
       "      <th>last_watch_dt</th>\n",
       "      <th>total_dur</th>\n",
       "      <th>watched_pct</th>\n",
       "    </tr>\n",
       "  </thead>\n",
       "  <tbody>\n",
       "    <tr>\n",
       "      <th>5228055</th>\n",
       "      <td>89484</td>\n",
       "      <td>3834</td>\n",
       "      <td>123</td>\n",
       "      <td>7288</td>\n",
       "      <td>100.0</td>\n",
       "    </tr>\n",
       "    <tr>\n",
       "      <th>903703</th>\n",
       "      <td>232302</td>\n",
       "      <td>328</td>\n",
       "      <td>131</td>\n",
       "      <td>4691</td>\n",
       "      <td>91.0</td>\n",
       "    </tr>\n",
       "    <tr>\n",
       "      <th>5050738</th>\n",
       "      <td>4029</td>\n",
       "      <td>5205</td>\n",
       "      <td>126</td>\n",
       "      <td>1654</td>\n",
       "      <td>30.0</td>\n",
       "    </tr>\n",
       "    <tr>\n",
       "      <th>2162417</th>\n",
       "      <td>15403</td>\n",
       "      <td>1784</td>\n",
       "      <td>134</td>\n",
       "      <td>83</td>\n",
       "      <td>2.0</td>\n",
       "    </tr>\n",
       "    <tr>\n",
       "      <th>4912355</th>\n",
       "      <td>78129</td>\n",
       "      <td>1617</td>\n",
       "      <td>90</td>\n",
       "      <td>4884</td>\n",
       "      <td>94.0</td>\n",
       "    </tr>\n",
       "  </tbody>\n",
       "</table>\n",
       "</div>"
      ],
      "text/plain": [
       "         user_id  item_id  last_watch_dt  total_dur  watched_pct\n",
       "5228055    89484     3834            123       7288        100.0\n",
       "903703    232302      328            131       4691         91.0\n",
       "5050738     4029     5205            126       1654         30.0\n",
       "2162417    15403     1784            134         83          2.0\n",
       "4912355    78129     1617             90       4884         94.0"
      ]
     },
     "execution_count": 401,
     "metadata": {},
     "output_type": "execute_result"
    }
   ],
   "source": [
    "def df_encode(df):\n",
    "    item2id = {k: v for v, k in enumerate(df.item_id.unique())}\n",
    "    user2id = {k: v for v, k in enumerate(df.user_id.unique())}\n",
    "\n",
    "    id2item = {k: v for v, k in item2id.items()}\n",
    "    id2user = {k: v for v, k in user2id.items()}\n",
    "\n",
    "    df['user_id'] = df.user_id.apply(lambda x: user2id[x])\n",
    "    df['item_id'] = df.item_id.apply(lambda x: item2id[x])\n",
    "    return df\n",
    "\n",
    "\n",
    "filtered_train = df_encode(filtered_train)\n",
    "filtered_train.sample(5)"
   ]
  },
  {
   "cell_type": "code",
   "execution_count": 402,
   "id": "716caeb600cc07b",
   "metadata": {
    "ExecuteTime": {
     "end_time": "2025-02-11T19:44:34.074074Z",
     "start_time": "2025-02-11T19:44:33.907353Z"
    }
   },
   "outputs": [],
   "source": [
    "item2id = {k: v for v, k in enumerate(df.item_id.unique())}\n",
    "user2id = {k: v for v, k in enumerate(df.user_id.unique())}\n",
    "\n",
    "id2item = {k: v for v, k in item2id.items()}\n",
    "id2user = {k: v for v, k in user2id.items()}"
   ]
  },
  {
   "cell_type": "code",
   "execution_count": 403,
   "id": "cb0760a7-5667-41a5-b47e-12f297ed3d1e",
   "metadata": {
    "ExecuteTime": {
     "end_time": "2025-02-11T19:45:34.898972Z",
     "start_time": "2025-02-11T19:45:34.884874Z"
    },
    "colab": {
     "base_uri": "https://localhost:8080/"
    },
    "id": "cb0760a7-5667-41a5-b47e-12f297ed3d1e",
    "outputId": "678f4947-3a6f-4605-bfaf-8a352b2098ab"
   },
   "outputs": [
    {
     "data": {
      "text/plain": [
       "<COOrdinate sparse matrix of dtype 'float64'\n",
       "\twith 4278492 stored elements and shape (962179, 15706)>"
      ]
     },
     "execution_count": 403,
     "metadata": {},
     "output_type": "execute_result"
    }
   ],
   "source": [
    "from scipy import sparse as sps\n",
    "\n",
    "matrix = sps.coo_matrix(\n",
    "    (np.ones(filtered_train.shape[0]), (filtered_train['user_id'], filtered_train['item_id'])),\n",
    "    shape=(len(user2id), len(item2id)),\n",
    ")\n",
    "matrix"
   ]
  },
  {
   "cell_type": "markdown",
   "id": "CsAJ72grYlLZ",
   "metadata": {
    "id": "CsAJ72grYlLZ"
   },
   "source": [
    "**Задание №6. Интеракции и частота**\n",
    "\n",
    "Постройте график зависимости количества айтемов и юзеров от значений (порогов) фильтров на встречаемость в матрице интеракций. То есть, нужно выполнить задание №5 для нескольких значений `min_freq` и построить график зависимости числа оставшихся айтемов и юзеров от этого параметра. "
   ]
  },
  {
   "cell_type": "code",
   "execution_count": 236,
   "id": "G-UH_tXBYm9p",
   "metadata": {
    "ExecuteTime": {
     "end_time": "2025-02-10T19:02:01.205443Z",
     "start_time": "2025-02-10T19:02:01.203332Z"
    },
    "id": "G-UH_tXBYm9p"
   },
   "outputs": [],
   "source": [
    "def analyze_interaction_thresholds(df, cols=['user_id', 'item_id'], min_freq_values=range(1, 21)):\n",
    "    user_counts = []\n",
    "    item_counts = []\n",
    "\n",
    "    for min_freq in min_freq_values:\n",
    "        filtered_df = filter_dataframe(df, cols, min_freq)\n",
    "        user_counts.append(filtered_df['user_id'].nunique())\n",
    "        item_counts.append(filtered_df['item_id'].nunique())\n",
    "\n",
    "    plt.figure(figsize=(10, 6))\n",
    "    plt.plot(min_freq_values, user_counts, label='users')\n",
    "    plt.plot(min_freq_values, item_counts, label='items')\n",
    "    plt.legend()\n",
    "    plt.grid()\n",
    "    plt.show()"
   ]
  },
  {
   "cell_type": "code",
   "execution_count": 238,
   "id": "bcb2bba58a6b1cb0",
   "metadata": {
    "ExecuteTime": {
     "end_time": "2025-02-10T19:04:27.445644Z",
     "start_time": "2025-02-10T19:04:17.059436Z"
    }
   },
   "outputs": [
    {
     "data": {
      "image/png": "[encoded data removed]",
      "text/plain": [
       "<Figure size 1000x600 with 1 Axes>"
      ]
     },
     "metadata": {},
     "output_type": "display_data"
    }
   ],
   "source": [
    "analyze_interaction_thresholds(filtered_train)"
   ]
  },
  {
   "cell_type": "markdown",
   "id": "d388eb41-094d-4317-9ae6-391a5b014a92",
   "metadata": {
    "id": "d388eb41-094d-4317-9ae6-391a5b014a92"
   },
   "source": [
    "**Задание №7. EASE**\n",
    "\n",
    "Реализуйте EASE, постройте рекомендации для юзеров. Сравните все имплементированные ранее метрики качества с `TopPopular` для некоторого набора k. "
   ]
  },
  {
   "cell_type": "markdown",
   "id": "acccc267-038b-4029-ba63-38e875f87a67",
   "metadata": {
    "id": "acccc267-038b-4029-ba63-38e875f87a67"
   },
   "source": [
    "Реализацию можно взять из семинара. Можно реализовать по статье https://arxiv.org/pdf/1905.03375.pdf. Можно взять и адаптировать из RecBole https://github.com/RUCAIBox/RecBole."
   ]
  },
  {
   "cell_type": "code",
   "execution_count": 241,
   "id": "04e19a99-8797-45e7-ad48-44312f0839d4",
   "metadata": {
    "ExecuteTime": {
     "end_time": "2025-02-10T19:15:30.700017Z",
     "start_time": "2025-02-10T19:15:23.030580Z"
    },
    "colab": {
     "base_uri": "https://localhost:8080/"
    },
    "id": "04e19a99-8797-45e7-ad48-44312f0839d4",
    "outputId": "83899393-f38f-4116-9431-8aaa00e09b29"
   },
   "outputs": [
    {
     "name": "stdout",
     "output_type": "stream",
     "text": [
      "CPU times: user 12.9 s, sys: 492 ms, total: 13.4 s\n",
      "Wall time: 7.67 s\n"
     ]
    }
   ],
   "source": [
    "%%time\n",
    "\n",
    "# Обучаем конечную модель\n",
    "# Мы взяли реализацию из RecBole\n",
    "#\n",
    "def fit_ease(X, reg_weight=1000):\n",
    "    G = X.T @ X\n",
    "\n",
    "    # add reg to diagonal\n",
    "    G += reg_weight * sps.identity(G.shape[0])\n",
    "\n",
    "    # convert to dense because inverse will be dense\n",
    "    G = G.todense()\n",
    "\n",
    "    # invert. this takes most of the time\n",
    "    P = np.linalg.inv(G)\n",
    "    B = P / (-np.diag(P))\n",
    "    # zero out diag\n",
    "    np.fill_diagonal(B, 0.)\n",
    "\n",
    "    return B\n",
    "\n",
    "\n",
    "w = fit_ease(matrix)"
   ]
  },
  {
   "cell_type": "markdown",
   "id": "70d0d9db",
   "metadata": {},
   "source": [
    "Далее, вам надо реализовать функцию получения предсказаний. У вас есть обученная матрица весов, которую можно использовать для получения предсказаний. Для этого нужно построить вектор интеракций пользователя и умножить его на матрицу весов."
   ]
  },
  {
   "cell_type": "code",
   "execution_count": 268,
   "id": "ceabfecc-2a1d-4808-998e-404ed6b57592",
   "metadata": {
    "ExecuteTime": {
     "end_time": "2025-02-10T20:51:18.809184Z",
     "start_time": "2025-02-10T20:51:08.459830Z"
    },
    "colab": {
     "base_uri": "https://localhost:8080/",
     "height": 833
    },
    "id": "ceabfecc-2a1d-4808-998e-404ed6b57592",
    "outputId": "67abc3e8-3430-477e-c030-01e55bc15448"
   },
   "outputs": [
    {
     "data": {
      "text/html": [
       "<div>\n",
       "<style scoped>\n",
       "    .dataframe tbody tr th:only-of-type {\n",
       "        vertical-align: middle;\n",
       "    }\n",
       "\n",
       "    .dataframe tbody tr th {\n",
       "        vertical-align: top;\n",
       "    }\n",
       "\n",
       "    .dataframe thead th {\n",
       "        text-align: right;\n",
       "    }\n",
       "</style>\n",
       "<table border=\"1\" class=\"dataframe\">\n",
       "  <thead>\n",
       "    <tr style=\"text-align: right;\">\n",
       "      <th></th>\n",
       "      <th>user_id</th>\n",
       "      <th>train_interactions</th>\n",
       "      <th>test_interactions</th>\n",
       "      <th>random_recs</th>\n",
       "      <th>toppopular_recs</th>\n",
       "      <th>toppW_recs@5</th>\n",
       "      <th>toppW_recs@15</th>\n",
       "      <th>toppW_recs@25</th>\n",
       "      <th>toppW_recs@35</th>\n",
       "      <th>toppW_recs@45</th>\n",
       "      <th>toppW_recs@55</th>\n",
       "      <th>toppW_recs@65</th>\n",
       "      <th>ease_preds</th>\n",
       "    </tr>\n",
       "  </thead>\n",
       "  <tbody>\n",
       "    <tr>\n",
       "      <th>0</th>\n",
       "      <td>165</td>\n",
       "      <td>[(12173, 122)]</td>\n",
       "      <td>[(4969, 161)]</td>\n",
       "      <td>[11705, 9045, 8487]</td>\n",
       "      <td>[10440, 15297, 9728, 13865, 3734, 4151, 4880, ...</td>\n",
       "      <td>[]</td>\n",
       "      <td>[10440, 9728, 15297, 7793, 3734, 12192, 4151, ...</td>\n",
       "      <td>[9728, 10440, 15297, 7793, 3734, 13865, 12192,...</td>\n",
       "      <td>[9728, 10440, 15297, 13865, 3734, 4151, 7829, ...</td>\n",
       "      <td>[9728, 15297, 10440, 13865, 3734, 12192, 4151,...</td>\n",
       "      <td>[15297, 9728, 10440, 3734, 13865, 4151, 12192,...</td>\n",
       "      <td>[9728, 15297, 10440, 3734, 13865, 4151, 12192,...</td>\n",
       "      <td>[0, 6683, 6684, 6685, 6686, 6687, 6688, 6689, ...</td>\n",
       "    </tr>\n",
       "    <tr>\n",
       "      <th>1</th>\n",
       "      <td>322</td>\n",
       "      <td>[(4549, 94), (8419, 94), (14814, 94), (10219, ...</td>\n",
       "      <td>[(4651, 155), (15384, 155), (11099, 157), (633...</td>\n",
       "      <td>[11705, 9045, 8487]</td>\n",
       "      <td>[10440, 15297, 9728, 13865, 3734, 4151, 4880, ...</td>\n",
       "      <td>[]</td>\n",
       "      <td>[10440, 9728, 15297, 7793, 3734, 12192, 4151, ...</td>\n",
       "      <td>[9728, 10440, 15297, 7793, 3734, 13865, 12192,...</td>\n",
       "      <td>[9728, 10440, 15297, 13865, 3734, 4151, 7829, ...</td>\n",
       "      <td>[9728, 15297, 10440, 13865, 3734, 12192, 4151,...</td>\n",
       "      <td>[15297, 9728, 10440, 3734, 13865, 4151, 12192,...</td>\n",
       "      <td>[9728, 15297, 10440, 3734, 13865, 4151, 12192,...</td>\n",
       "      <td>[76, 758, 1850, 1754, 3494, 99, 1898, 196, 60,...</td>\n",
       "    </tr>\n",
       "    <tr>\n",
       "      <th>2</th>\n",
       "      <td>400</td>\n",
       "      <td>[(169, 144), (11047, 145), (12974, 145), (1399...</td>\n",
       "      <td>[(7793, 153)]</td>\n",
       "      <td>[11705, 9045, 8487]</td>\n",
       "      <td>[10440, 15297, 9728, 13865, 3734, 4151, 4880, ...</td>\n",
       "      <td>[]</td>\n",
       "      <td>[10440, 9728, 15297, 7793, 3734, 12192, 4151, ...</td>\n",
       "      <td>[9728, 10440, 15297, 7793, 3734, 13865, 12192,...</td>\n",
       "      <td>[9728, 10440, 15297, 13865, 3734, 4151, 7829, ...</td>\n",
       "      <td>[9728, 15297, 10440, 13865, 3734, 12192, 4151,...</td>\n",
       "      <td>[15297, 9728, 10440, 3734, 13865, 4151, 12192,...</td>\n",
       "      <td>[9728, 15297, 10440, 3734, 13865, 4151, 12192,...</td>\n",
       "      <td>[200, 22, 132, 51, 140, 225, 516, 1280, 183, 1...</td>\n",
       "    </tr>\n",
       "    <tr>\n",
       "      <th>3</th>\n",
       "      <td>446</td>\n",
       "      <td>[(13865, 105)]</td>\n",
       "      <td>[(12202, 160), (230, 160)]</td>\n",
       "      <td>[11705, 9045, 8487]</td>\n",
       "      <td>[10440, 15297, 9728, 13865, 3734, 4151, 4880, ...</td>\n",
       "      <td>[]</td>\n",
       "      <td>[10440, 9728, 15297, 7793, 3734, 12192, 4151, ...</td>\n",
       "      <td>[9728, 10440, 15297, 7793, 3734, 13865, 12192,...</td>\n",
       "      <td>[9728, 10440, 15297, 13865, 3734, 4151, 7829, ...</td>\n",
       "      <td>[9728, 15297, 10440, 13865, 3734, 12192, 4151,...</td>\n",
       "      <td>[15297, 9728, 10440, 3734, 13865, 4151, 12192,...</td>\n",
       "      <td>[9728, 15297, 10440, 3734, 13865, 4151, 12192,...</td>\n",
       "      <td>[0, 6683, 6684, 6685, 6686, 6687, 6688, 6689, ...</td>\n",
       "    </tr>\n",
       "    <tr>\n",
       "      <th>4</th>\n",
       "      <td>515</td>\n",
       "      <td>[(3734, 114), (9728, 114), (4457, 115), (13865...</td>\n",
       "      <td>[(512, 158), (6330, 158), (9811, 159), (14488,...</td>\n",
       "      <td>[11705, 9045, 8487]</td>\n",
       "      <td>[10440, 15297, 9728, 13865, 3734, 4151, 4880, ...</td>\n",
       "      <td>[]</td>\n",
       "      <td>[10440, 9728, 15297, 7793, 3734, 12192, 4151, ...</td>\n",
       "      <td>[9728, 10440, 15297, 7793, 3734, 13865, 12192,...</td>\n",
       "      <td>[9728, 10440, 15297, 13865, 3734, 4151, 7829, ...</td>\n",
       "      <td>[9728, 15297, 10440, 13865, 3734, 12192, 4151,...</td>\n",
       "      <td>[15297, 9728, 10440, 3734, 13865, 4151, 12192,...</td>\n",
       "      <td>[9728, 15297, 10440, 3734, 13865, 4151, 12192,...</td>\n",
       "      <td>[220, 114, 3981, 1002, 2773, 1455, 60, 1553, 2...</td>\n",
       "    </tr>\n",
       "  </tbody>\n",
       "</table>\n",
       "</div>"
      ],
      "text/plain": [
       "   user_id                                 train_interactions  \\\n",
       "0      165                                     [(12173, 122)]   \n",
       "1      322  [(4549, 94), (8419, 94), (14814, 94), (10219, ...   \n",
       "2      400  [(169, 144), (11047, 145), (12974, 145), (1399...   \n",
       "3      446                                     [(13865, 105)]   \n",
       "4      515  [(3734, 114), (9728, 114), (4457, 115), (13865...   \n",
       "\n",
       "                                   test_interactions          random_recs  \\\n",
       "0                                      [(4969, 161)]  [11705, 9045, 8487]   \n",
       "1  [(4651, 155), (15384, 155), (11099, 157), (633...  [11705, 9045, 8487]   \n",
       "2                                      [(7793, 153)]  [11705, 9045, 8487]   \n",
       "3                         [(12202, 160), (230, 160)]  [11705, 9045, 8487]   \n",
       "4  [(512, 158), (6330, 158), (9811, 159), (14488,...  [11705, 9045, 8487]   \n",
       "\n",
       "                                     toppopular_recs toppW_recs@5  \\\n",
       "0  [10440, 15297, 9728, 13865, 3734, 4151, 4880, ...           []   \n",
       "1  [10440, 15297, 9728, 13865, 3734, 4151, 4880, ...           []   \n",
       "2  [10440, 15297, 9728, 13865, 3734, 4151, 4880, ...           []   \n",
       "3  [10440, 15297, 9728, 13865, 3734, 4151, 4880, ...           []   \n",
       "4  [10440, 15297, 9728, 13865, 3734, 4151, 4880, ...           []   \n",
       "\n",
       "                                       toppW_recs@15  \\\n",
       "0  [10440, 9728, 15297, 7793, 3734, 12192, 4151, ...   \n",
       "1  [10440, 9728, 15297, 7793, 3734, 12192, 4151, ...   \n",
       "2  [10440, 9728, 15297, 7793, 3734, 12192, 4151, ...   \n",
       "3  [10440, 9728, 15297, 7793, 3734, 12192, 4151, ...   \n",
       "4  [10440, 9728, 15297, 7793, 3734, 12192, 4151, ...   \n",
       "\n",
       "                                       toppW_recs@25  \\\n",
       "0  [9728, 10440, 15297, 7793, 3734, 13865, 12192,...   \n",
       "1  [9728, 10440, 15297, 7793, 3734, 13865, 12192,...   \n",
       "2  [9728, 10440, 15297, 7793, 3734, 13865, 12192,...   \n",
       "3  [9728, 10440, 15297, 7793, 3734, 13865, 12192,...   \n",
       "4  [9728, 10440, 15297, 7793, 3734, 13865, 12192,...   \n",
       "\n",
       "                                       toppW_recs@35  \\\n",
       "0  [9728, 10440, 15297, 13865, 3734, 4151, 7829, ...   \n",
       "1  [9728, 10440, 15297, 13865, 3734, 4151, 7829, ...   \n",
       "2  [9728, 10440, 15297, 13865, 3734, 4151, 7829, ...   \n",
       "3  [9728, 10440, 15297, 13865, 3734, 4151, 7829, ...   \n",
       "4  [9728, 10440, 15297, 13865, 3734, 4151, 7829, ...   \n",
       "\n",
       "                                       toppW_recs@45  \\\n",
       "0  [9728, 15297, 10440, 13865, 3734, 12192, 4151,...   \n",
       "1  [9728, 15297, 10440, 13865, 3734, 12192, 4151,...   \n",
       "2  [9728, 15297, 10440, 13865, 3734, 12192, 4151,...   \n",
       "3  [9728, 15297, 10440, 13865, 3734, 12192, 4151,...   \n",
       "4  [9728, 15297, 10440, 13865, 3734, 12192, 4151,...   \n",
       "\n",
       "                                       toppW_recs@55  \\\n",
       "0  [15297, 9728, 10440, 3734, 13865, 4151, 12192,...   \n",
       "1  [15297, 9728, 10440, 3734, 13865, 4151, 12192,...   \n",
       "2  [15297, 9728, 10440, 3734, 13865, 4151, 12192,...   \n",
       "3  [15297, 9728, 10440, 3734, 13865, 4151, 12192,...   \n",
       "4  [15297, 9728, 10440, 3734, 13865, 4151, 12192,...   \n",
       "\n",
       "                                       toppW_recs@65  \\\n",
       "0  [9728, 15297, 10440, 3734, 13865, 4151, 12192,...   \n",
       "1  [9728, 15297, 10440, 3734, 13865, 4151, 12192,...   \n",
       "2  [9728, 15297, 10440, 3734, 13865, 4151, 12192,...   \n",
       "3  [9728, 15297, 10440, 3734, 13865, 4151, 12192,...   \n",
       "4  [9728, 15297, 10440, 3734, 13865, 4151, 12192,...   \n",
       "\n",
       "                                          ease_preds  \n",
       "0  [0, 6683, 6684, 6685, 6686, 6687, 6688, 6689, ...  \n",
       "1  [76, 758, 1850, 1754, 3494, 99, 1898, 196, 60,...  \n",
       "2  [200, 22, 132, 51, 140, 225, 516, 1280, 183, 1...  \n",
       "3  [0, 6683, 6684, 6685, 6686, 6687, 6688, 6689, ...  \n",
       "4  [220, 114, 3981, 1002, 2773, 1455, 60, 1553, 2...  "
      ]
     },
     "execution_count": 268,
     "metadata": {},
     "output_type": "execute_result"
    }
   ],
   "source": [
    "def get_preds(x, item2id, id2item, w):\n",
    "    user_items = [t[0] for t in x]\n",
    "    encoded = [item2id[t] for t in user_items if t in item2id]\n",
    "\n",
    "    vector = np.zeros(len(item2id))\n",
    "    vector[encoded] = 1\n",
    "\n",
    "    vector = sps.csr_matrix(vector)\n",
    "    preds = np.array(vector.dot(w))[0]\n",
    "    preds[encoded] = -np.inf\n",
    "\n",
    "    ranks = np.argsort(-preds)\n",
    "    decoded = [id2item[t] for t in ranks][:100]\n",
    "\n",
    "    return decoded\n",
    "\n",
    "\n",
    "joined['ease_preds'] = joined.train_interactions.apply(lambda x: get_preds(x, item2id, id2item, w))\n",
    "joined.head()"
   ]
  },
  {
   "cell_type": "code",
   "execution_count": 269,
   "id": "979f3051-5348-4c1e-a21c-033d5cd3d6cd",
   "metadata": {
    "ExecuteTime": {
     "end_time": "2025-02-10T20:51:32.229401Z",
     "start_time": "2025-02-10T20:51:31.701893Z"
    },
    "id": "979f3051-5348-4c1e-a21c-033d5cd3d6cd"
   },
   "outputs": [
    {
     "data": {
      "text/plain": [
       "{'map': np.float64(0.00021695149998323058),\n",
       " 'mrr': np.float64(0.0005827926955088027),\n",
       " 'hr': np.float64(0.0135)}"
      ]
     },
     "execution_count": 269,
     "metadata": {},
     "output_type": "execute_result"
    }
   ],
   "source": [
    "evaluate_recommender(joined, model_preds='ease_preds')"
   ]
  },
  {
   "cell_type": "code",
   "execution_count": 270,
   "id": "b447818ba4b58ce5",
   "metadata": {
    "ExecuteTime": {
     "end_time": "2025-02-10T20:51:33.681104Z",
     "start_time": "2025-02-10T20:51:33.209976Z"
    }
   },
   "outputs": [
    {
     "data": {
      "text/plain": [
       "{'map': np.float64(0.07691220968575414),\n",
       " 'mrr': np.float64(0.13031394100404278),\n",
       " 'hr': np.float64(0.5656)}"
      ]
     },
     "execution_count": 270,
     "metadata": {},
     "output_type": "execute_result"
    }
   ],
   "source": [
    "evaluate_recommender(joined, model_preds='toppopular_recs')"
   ]
  },
  {
   "cell_type": "markdown",
   "id": "24552dc3-4d5d-4e9c-bc16-691a3537e7d9",
   "metadata": {
    "id": "24552dc3-4d5d-4e9c-bc16-691a3537e7d9"
   },
   "source": [
    "Сделайте выводы — какой алгоритм работает лучше?\n",
    "\n",
    "**Ответ:** Лучше работает TopPopular"
   ]
  },
  {
   "cell_type": "markdown",
   "id": "9e2ecca7-92c2-4b1f-b5d3-4f9dd18a4632",
   "metadata": {
    "id": "9e2ecca7-92c2-4b1f-b5d3-4f9dd18a4632"
   },
   "source": [
    "**Задание №8. Тюнинг**\n",
    "\n",
    "Переберите различные значения гиперпараметра коэффициента регуляризации у EASE и постройте графики, как в задании №6. Постарайтесь \"затюнить\" EASE как можно лучше. Возьмите разумное число гиперпараметров - хотя бы штук 20 по логарифмической сетке, либо используйте более хитрые алгоритмы оптимизации."
   ]
  },
  {
   "cell_type": "code",
   "execution_count": null,
   "id": "ca8890092450420c",
   "metadata": {
    "ExecuteTime": {
     "end_time": "2025-02-10T22:11:42.349808Z",
     "start_time": "2025-02-10T22:04:18.179934Z"
    }
   },
   "outputs": [
    {
     "name": "stdout",
     "output_type": "stream",
     "text": [
      "1\n",
      "2\n",
      "3\n",
      "4\n",
      "5\n",
      "6\n",
      "7\n",
      "8\n",
      "9\n",
      "10\n",
      "11\n",
      "12\n",
      "13\n",
      "14\n",
      "15\n",
      "16\n",
      "17\n",
      "18\n",
      "19\n",
      "20\n"
     ]
    }
   ],
   "source": [
    "k = 1\n",
    "for i in np.logspace(1, 5, num=20):\n",
    "    print(k)\n",
    "    k += 1\n",
    "    w = fit_ease(matrix, reg_weight=i)\n",
    "\n",
    "    joined['ease_preds@' + str(i)] = joined.train_interactions.apply(lambda x: get_preds(x, item2id, id2item, w))"
   ]
  },
  {
   "cell_type": "code",
   "execution_count": 323,
   "id": "852464a6ba58c4bd",
   "metadata": {
    "ExecuteTime": {
     "end_time": "2025-02-10T22:20:04.298379Z",
     "start_time": "2025-02-10T22:19:50.692819Z"
    }
   },
   "outputs": [],
   "source": [
    "mape = []\n",
    "hre = []\n",
    "mrre = []\n",
    "i_val = []\n",
    "\n",
    "for i in np.logspace(1, 5, num=20):\n",
    "    metrics = evaluate_recommender(joined, 'ease_preds@' + str(i))\n",
    "\n",
    "    i_val.append(i)\n",
    "    mape.append(metrics['map'])\n",
    "    mrre.append(metrics['mrr'])\n",
    "    hre.append(metrics['hr'])"
   ]
  },
  {
   "cell_type": "code",
   "execution_count": 325,
   "id": "b6cd03e3523b322a",
   "metadata": {
    "ExecuteTime": {
     "end_time": "2025-02-10T22:21:31.857594Z",
     "start_time": "2025-02-10T22:21:31.750459Z"
    }
   },
   "outputs": [
    {
     "data": {
      "image/png": "[encoded data removed]",
      "text/plain": [
       "<Figure size 1000x600 with 1 Axes>"
      ]
     },
     "metadata": {},
     "output_type": "display_data"
    },
    {
     "data": {
      "image/png": "[encoded data removed]",
      "text/plain": [
       "<Figure size 640x480 with 1 Axes>"
      ]
     },
     "metadata": {},
     "output_type": "display_data"
    },
    {
     "data": {
      "image/png": "[encoded data removed]",
      "text/plain": [
       "<Figure size 640x480 with 1 Axes>"
      ]
     },
     "metadata": {},
     "output_type": "display_data"
    }
   ],
   "source": [
    "plt.figure(figsize=(10, 6))\n",
    "plt.plot(i_val, mape, label='MAP@K', linestyle='-')\n",
    "\n",
    "plt.xlabel(\"reg_weight\")\n",
    "plt.ylabel(\"Metric\")\n",
    "plt.legend()\n",
    "plt.grid()\n",
    "plt.show()\n",
    "\n",
    "plt.plot(i_val, hre, label='HR@K', linestyle='-')\n",
    "\n",
    "plt.xlabel(\"reg_weight\")\n",
    "plt.ylabel(\"Metric\")\n",
    "plt.legend()\n",
    "plt.grid()\n",
    "plt.show()\n",
    "\n",
    "plt.plot(i_val, mrre, label='MRR@K', linestyle='-')\n",
    "\n",
    "plt.xlabel(\"reg_weight\")\n",
    "plt.ylabel(\"Metric\")\n",
    "plt.legend()\n",
    "plt.grid()\n",
    "plt.show()"
   ]
  },
  {
   "cell_type": "markdown",
   "id": "891c9613-3f51-4186-bfa1-566d82d0628f",
   "metadata": {
    "id": "891c9613-3f51-4186-bfa1-566d82d0628f"
   },
   "source": [
    "Ответьте на следующие вопросы:\n",
    "\n",
    "8.1 Какое значение гиперпараметра является наилучшим?\n",
    "\n",
    "**Ответ: Наименьшее**\n",
    "\n",
    "8.2 Что еще интересного вы можете сказать по графикам? Может быть, что-то свзяанное с распределением параметров, влиянием на отдельные метрики, скоростью тюнинга?\n",
    "\n",
    "**Ответ:** чем больше параметр регуляризации, тем меньше метрики"
   ]
  },
  {
   "cell_type": "markdown",
   "id": "e38fcce4-b192-4faa-8ddf-8e8791f2c28b",
   "metadata": {
    "id": "e38fcce4-b192-4faa-8ddf-8e8791f2c28b"
   },
   "source": [
    "**Задание №9. EASE и topk**\n",
    "\n",
    "В лекции №2 говорилось, что качество у EASE растет с ослаблением фильтра на число айтемов. В этом задании постройте кривые метрик качества MAP/MRR/HR в зависимости от topk (например, от 1 до 100 с некоторым шагом), где кривая параметризована минимальным требуемым значением встречаемости user/item (из задания №6). Опишите свои выводы."
   ]
  },
  {
   "cell_type": "markdown",
   "id": "ca0be51b-5055-407d-8916-96d38cdabdb7",
   "metadata": {
    "id": "ca0be51b-5055-407d-8916-96d38cdabdb7"
   },
   "source": [
    "Важно: в этом задании линии могут быть мало различимыми, поэтому ваша задача для каждой метрики найти нужный масштаб на каких-то конкретных topk, чтобы линии стали визуально отличимы."
   ]
  },
  {
   "cell_type": "code",
   "execution_count": null,
   "id": "b024d04106965672",
   "metadata": {},
   "outputs": [],
   "source": []
  },
  {
   "cell_type": "code",
   "execution_count": 358,
   "id": "fcb9c47b3b0fcd64",
   "metadata": {
    "ExecuteTime": {
     "end_time": "2025-02-11T18:49:01.420396Z",
     "start_time": "2025-02-11T18:49:01.415578Z"
    }
   },
   "outputs": [],
   "source": [
    "def plot_quality_vs_topk(min_freq_values=range(10, 21, 2), top_k=range(1, 100, 10)):\n",
    "    results = {metric: {freq: [] for freq in min_freq_values} for metric in [\"HR@K\", \"MAP@K\", \"MRR@K\"]}\n",
    "\n",
    "    for min_freq in min_freq_values:\n",
    "        print(\"min_freq: \" + str(min_freq))\n",
    "\n",
    "        filtered_freq_df = filter_dataframe(df, ['user_id', 'item_id'], min_freq=min_freq)\n",
    "\n",
    "        filtered_freq_df = df_encode(filtered_freq_df)\n",
    "\n",
    "        item2id = {k: v for v, k in enumerate(filtered_freq_df.item_id.unique())}\n",
    "        user2id = {k: v for v, k in enumerate(filtered_freq_df.user_id.unique())}\n",
    "\n",
    "        id2item = {k: v for v, k in item2id.items()}\n",
    "        id2user = {k: v for v, k in user2id.items()}\n",
    "\n",
    "        X = sps.coo_matrix(\n",
    "            (np.ones(filtered_freq_df.shape[0]), (filtered_freq_df['user_id'], filtered_freq_df['item_id'])),\n",
    "            shape=(len(user2id), len(item2id)),\n",
    "        )\n",
    "\n",
    "        hr_scores, map_scores, mrr_scores = [], [], []\n",
    "\n",
    "        for tk in top_k:\n",
    "            w = fit_ease(X)\n",
    "            preds = joined.train_interactions.apply(lambda x: get_preds(x, item2id, id2item, w))\n",
    "\n",
    "            print(\"preds: \", preds)\n",
    "\n",
    "            metrics = evaluate_recommender_topk(joined, preds, tk)\n",
    "\n",
    "            print(\"metrs: \", metrics)\n",
    "\n",
    "            hr_scores.append(metrics['hr'])\n",
    "            map_scores.append(metrics['map'])\n",
    "            mrr_scores.append(metrics['mrr'])\n",
    "\n",
    "        results[\"HR@K\"][min_freq].append(np.mean(hr_scores))\n",
    "        results[\"MAP@K\"][min_freq].append(np.mean(map_scores))\n",
    "        results[\"MRR@K\"][min_freq].append(np.mean(mrr_scores))\n",
    "\n",
    "    return results"
   ]
  },
  {
   "cell_type": "code",
   "execution_count": 360,
   "id": "abfdb6050d9a77ea",
   "metadata": {
    "ExecuteTime": {
     "end_time": "2025-02-11T19:03:39.285533Z",
     "start_time": "2025-02-11T18:50:28.131412Z"
    }
   },
   "outputs": [
    {
     "name": "stdout",
     "output_type": "stream",
     "text": [
      "min_freq: 10\n",
      "preds:  0       [0, 5180, 5179, 5178, 5177, 5176, 5175, 5174, ...\n",
      "1       [89, 266, 340, 589, 828, 1426, 1200, 2660, 802...\n",
      "2       [15, 6108, 4392, 1836, 3474, 258, 7091, 4125, ...\n",
      "3       [0, 5180, 5179, 5178, 5177, 5176, 5175, 5174, ...\n",
      "4       [1507, 5703, 3410, 1722, 1677, 2330, 1317, 274...\n",
      "                              ...                        \n",
      "9995    [735, 901, 219, 1426, 266, 546, 391, 86, 1173,...\n",
      "9996    [0, 5180, 5179, 5178, 5177, 5176, 5175, 5174, ...\n",
      "9997    [0, 5180, 5179, 5178, 5177, 5176, 5175, 5174, ...\n",
      "9998    [3544, 6332, 1005, 3342, 4271, 901, 7457, 135,...\n",
      "9999    [727, 2151, 42, 406, 89, 196, 195, 2996, 157, ...\n",
      "Name: train_interactions, Length: 10000, dtype: object\n",
      "metrs:  {'map': np.float64(0.0002), 'mrr': np.float64(0.0002), 'hr': np.float64(0.0002)}\n",
      "preds:  0       [0, 5180, 5179, 5178, 5177, 5176, 5175, 5174, ...\n",
      "1       [89, 266, 340, 589, 828, 1426, 1200, 2660, 802...\n",
      "2       [15, 6108, 4392, 1836, 3474, 258, 7091, 4125, ...\n",
      "3       [0, 5180, 5179, 5178, 5177, 5176, 5175, 5174, ...\n",
      "4       [1507, 5703, 3410, 1722, 1677, 2330, 1317, 274...\n",
      "                              ...                        \n",
      "9995    [735, 901, 219, 1426, 266, 546, 391, 86, 1173,...\n",
      "9996    [0, 5180, 5179, 5178, 5177, 5176, 5175, 5174, ...\n",
      "9997    [0, 5180, 5179, 5178, 5177, 5176, 5175, 5174, ...\n",
      "9998    [3544, 6332, 1005, 3342, 4271, 901, 7457, 135,...\n",
      "9999    [727, 2151, 42, 406, 89, 196, 195, 2996, 157, ...\n",
      "Name: train_interactions, Length: 10000, dtype: object\n",
      "metrs:  {'map': np.float64(0.000276820313524859), 'mrr': np.float64(0.0006253751803751805), 'hr': np.float64(0.0029)}\n",
      "preds:  0       [0, 5180, 5179, 5178, 5177, 5176, 5175, 5174, ...\n",
      "1       [89, 266, 340, 589, 828, 1426, 1200, 2660, 802...\n",
      "2       [15, 6108, 4392, 1836, 3474, 258, 7091, 4125, ...\n",
      "3       [0, 5180, 5179, 5178, 5177, 5176, 5175, 5174, ...\n",
      "4       [1507, 5703, 3410, 1722, 1677, 2330, 1317, 274...\n",
      "                              ...                        \n",
      "9995    [735, 901, 219, 1426, 266, 546, 391, 86, 1173,...\n",
      "9996    [0, 5180, 5179, 5178, 5177, 5176, 5175, 5174, ...\n",
      "9997    [0, 5180, 5179, 5178, 5177, 5176, 5175, 5174, ...\n",
      "9998    [3544, 6332, 1005, 3342, 4271, 901, 7457, 135,...\n",
      "9999    [727, 2151, 42, 406, 89, 196, 195, 2996, 157, ...\n",
      "Name: train_interactions, Length: 10000, dtype: object\n",
      "metrs:  {'map': np.float64(0.0003710873969342983), 'mrr': np.float64(0.0009648008609038021), 'hr': np.float64(0.0079)}\n",
      "preds:  0       [0, 5180, 5179, 5178, 5177, 5176, 5175, 5174, ...\n",
      "1       [89, 266, 340, 589, 828, 1426, 1200, 2660, 802...\n",
      "2       [15, 6108, 4392, 1836, 3474, 258, 7091, 4125, ...\n",
      "3       [0, 5180, 5179, 5178, 5177, 5176, 5175, 5174, ...\n",
      "4       [1507, 5703, 3410, 1722, 1677, 2330, 1317, 274...\n",
      "                              ...                        \n",
      "9995    [735, 901, 219, 1426, 266, 546, 391, 86, 1173,...\n",
      "9996    [0, 5180, 5179, 5178, 5177, 5176, 5175, 5174, ...\n",
      "9997    [0, 5180, 5179, 5178, 5177, 5176, 5175, 5174, ...\n",
      "9998    [3544, 6332, 1005, 3342, 4271, 901, 7457, 135,...\n",
      "9999    [727, 2151, 42, 406, 89, 196, 195, 2996, 157, ...\n",
      "Name: train_interactions, Length: 10000, dtype: object\n",
      "metrs:  {'map': np.float64(0.0004063278638333293), 'mrr': np.float64(0.0010887267065192304), 'hr': np.float64(0.0112)}\n",
      "preds:  0       [0, 5180, 5179, 5178, 5177, 5176, 5175, 5174, ...\n",
      "1       [89, 266, 340, 589, 828, 1426, 1200, 2660, 802...\n",
      "2       [15, 6108, 4392, 1836, 3474, 258, 7091, 4125, ...\n",
      "3       [0, 5180, 5179, 5178, 5177, 5176, 5175, 5174, ...\n",
      "4       [1507, 5703, 3410, 1722, 1677, 2330, 1317, 274...\n",
      "                              ...                        \n",
      "9995    [735, 901, 219, 1426, 266, 546, 391, 86, 1173,...\n",
      "9996    [0, 5180, 5179, 5178, 5177, 5176, 5175, 5174, ...\n",
      "9997    [0, 5180, 5179, 5178, 5177, 5176, 5175, 5174, ...\n",
      "9998    [3544, 6332, 1005, 3342, 4271, 901, 7457, 135,...\n",
      "9999    [727, 2151, 42, 406, 89, 196, 195, 2996, 157, ...\n",
      "Name: train_interactions, Length: 10000, dtype: object\n",
      "metrs:  {'map': np.float64(0.00043333112455903964), 'mrr': np.float64(0.0011636830560978332), 'hr': np.float64(0.0139)}\n",
      "preds:  0       [0, 5180, 5179, 5178, 5177, 5176, 5175, 5174, ...\n",
      "1       [89, 266, 340, 589, 828, 1426, 1200, 2660, 802...\n",
      "2       [15, 6108, 4392, 1836, 3474, 258, 7091, 4125, ...\n",
      "3       [0, 5180, 5179, 5178, 5177, 5176, 5175, 5174, ...\n",
      "4       [1507, 5703, 3410, 1722, 1677, 2330, 1317, 274...\n",
      "                              ...                        \n",
      "9995    [735, 901, 219, 1426, 266, 546, 391, 86, 1173,...\n",
      "9996    [0, 5180, 5179, 5178, 5177, 5176, 5175, 5174, ...\n",
      "9997    [0, 5180, 5179, 5178, 5177, 5176, 5175, 5174, ...\n",
      "9998    [3544, 6332, 1005, 3342, 4271, 901, 7457, 135,...\n",
      "9999    [727, 2151, 42, 406, 89, 196, 195, 2996, 157, ...\n",
      "Name: train_interactions, Length: 10000, dtype: object\n",
      "metrs:  {'map': np.float64(0.0004503722928011672), 'mrr': np.float64(0.0012184704651267235), 'hr': np.float64(0.0164)}\n",
      "preds:  0       [0, 5180, 5179, 5178, 5177, 5176, 5175, 5174, ...\n",
      "1       [89, 266, 340, 589, 828, 1426, 1200, 2660, 802...\n",
      "2       [15, 6108, 4392, 1836, 3474, 258, 7091, 4125, ...\n",
      "3       [0, 5180, 5179, 5178, 5177, 5176, 5175, 5174, ...\n",
      "4       [1507, 5703, 3410, 1722, 1677, 2330, 1317, 274...\n",
      "                              ...                        \n",
      "9995    [735, 901, 219, 1426, 266, 546, 391, 86, 1173,...\n",
      "9996    [0, 5180, 5179, 5178, 5177, 5176, 5175, 5174, ...\n",
      "9997    [0, 5180, 5179, 5178, 5177, 5176, 5175, 5174, ...\n",
      "9998    [3544, 6332, 1005, 3342, 4271, 901, 7457, 135,...\n",
      "9999    [727, 2151, 42, 406, 89, 196, 195, 2996, 157, ...\n",
      "Name: train_interactions, Length: 10000, dtype: object\n",
      "metrs:  {'map': np.float64(0.0004728465440074974), 'mrr': np.float64(0.0012845848318724248), 'hr': np.float64(0.0202)}\n",
      "preds:  0       [0, 5180, 5179, 5178, 5177, 5176, 5175, 5174, ...\n",
      "1       [89, 266, 340, 589, 828, 1426, 1200, 2660, 802...\n",
      "2       [15, 6108, 4392, 1836, 3474, 258, 7091, 4125, ...\n",
      "3       [0, 5180, 5179, 5178, 5177, 5176, 5175, 5174, ...\n",
      "4       [1507, 5703, 3410, 1722, 1677, 2330, 1317, 274...\n",
      "                              ...                        \n",
      "9995    [735, 901, 219, 1426, 266, 546, 391, 86, 1173,...\n",
      "9996    [0, 5180, 5179, 5178, 5177, 5176, 5175, 5174, ...\n",
      "9997    [0, 5180, 5179, 5178, 5177, 5176, 5175, 5174, ...\n",
      "9998    [3544, 6332, 1005, 3342, 4271, 901, 7457, 135,...\n",
      "9999    [727, 2151, 42, 406, 89, 196, 195, 2996, 157, ...\n",
      "Name: train_interactions, Length: 10000, dtype: object\n",
      "metrs:  {'map': np.float64(0.00048717130630056857), 'mrr': np.float64(0.001314738599112493), 'hr': np.float64(0.0222)}\n",
      "preds:  0       [0, 5180, 5179, 5178, 5177, 5176, 5175, 5174, ...\n",
      "1       [89, 266, 340, 589, 828, 1426, 1200, 2660, 802...\n",
      "2       [15, 6108, 4392, 1836, 3474, 258, 7091, 4125, ...\n",
      "3       [0, 5180, 5179, 5178, 5177, 5176, 5175, 5174, ...\n",
      "4       [1507, 5703, 3410, 1722, 1677, 2330, 1317, 274...\n",
      "                              ...                        \n",
      "9995    [735, 901, 219, 1426, 266, 546, 391, 86, 1173,...\n",
      "9996    [0, 5180, 5179, 5178, 5177, 5176, 5175, 5174, ...\n",
      "9997    [0, 5180, 5179, 5178, 5177, 5176, 5175, 5174, ...\n",
      "9998    [3544, 6332, 1005, 3342, 4271, 901, 7457, 135,...\n",
      "9999    [727, 2151, 42, 406, 89, 196, 195, 2996, 157, ...\n",
      "Name: train_interactions, Length: 10000, dtype: object\n",
      "metrs:  {'map': np.float64(0.0004941260483158416), 'mrr': np.float64(0.001339476418465432), 'hr': np.float64(0.0241)}\n",
      "preds:  0       [0, 5180, 5179, 5178, 5177, 5176, 5175, 5174, ...\n",
      "1       [89, 266, 340, 589, 828, 1426, 1200, 2660, 802...\n",
      "2       [15, 6108, 4392, 1836, 3474, 258, 7091, 4125, ...\n",
      "3       [0, 5180, 5179, 5178, 5177, 5176, 5175, 5174, ...\n",
      "4       [1507, 5703, 3410, 1722, 1677, 2330, 1317, 274...\n",
      "                              ...                        \n",
      "9995    [735, 901, 219, 1426, 266, 546, 391, 86, 1173,...\n",
      "9996    [0, 5180, 5179, 5178, 5177, 5176, 5175, 5174, ...\n",
      "9997    [0, 5180, 5179, 5178, 5177, 5176, 5175, 5174, ...\n",
      "9998    [3544, 6332, 1005, 3342, 4271, 901, 7457, 135,...\n",
      "9999    [727, 2151, 42, 406, 89, 196, 195, 2996, 157, ...\n",
      "Name: train_interactions, Length: 10000, dtype: object\n",
      "metrs:  {'map': np.float64(0.00050227323469969), 'mrr': np.float64(0.0013624482793193557), 'hr': np.float64(0.0261)}\n",
      "min_freq: 12\n",
      "preds:  0       [0, 4779, 4778, 4777, 4776, 4775, 4774, 4773, ...\n",
      "1       [698, 7, 2044, 896, 611, 1887, 784, 3523, 3879...\n",
      "2       [78, 210, 119, 258, 98, 172, 467, 304, 222, 36...\n",
      "3       [0, 4779, 4778, 4777, 4776, 4775, 4774, 4773, ...\n",
      "4       [4346, 65, 1302, 4759, 3304, 1862, 46, 2984, 1...\n",
      "                              ...                        \n",
      "9995    [3879, 2306, 2137, 3926, 3036, 4391, 3502, 277...\n",
      "9996    [0, 4779, 4778, 4777, 4776, 4775, 4774, 4773, ...\n",
      "9997    [0, 4779, 4778, 4777, 4776, 4775, 4774, 4773, ...\n",
      "9998    [2782, 2964, 2029, 1257, 2005, 2440, 4980, 120...\n",
      "9999    [502, 1887, 132, 14, 910, 1317, 429, 1553, 214...\n",
      "Name: train_interactions, Length: 10000, dtype: object\n",
      "metrs:  {'map': np.float64(0.0006), 'mrr': np.float64(0.0006), 'hr': np.float64(0.0006)}\n",
      "preds:  0       [0, 4779, 4778, 4777, 4776, 4775, 4774, 4773, ...\n",
      "1       [698, 7, 2044, 896, 611, 1887, 784, 3523, 3879...\n",
      "2       [78, 210, 119, 258, 98, 172, 467, 304, 222, 36...\n",
      "3       [0, 4779, 4778, 4777, 4776, 4775, 4774, 4773, ...\n",
      "4       [4346, 65, 1302, 4759, 3304, 1862, 46, 2984, 1...\n",
      "                              ...                        \n",
      "9995    [3879, 2306, 2137, 3926, 3036, 4391, 3502, 277...\n",
      "9996    [0, 4779, 4778, 4777, 4776, 4775, 4774, 4773, ...\n",
      "9997    [0, 4779, 4778, 4777, 4776, 4775, 4774, 4773, ...\n",
      "9998    [2782, 2964, 2029, 1257, 2005, 2440, 4980, 120...\n",
      "9999    [502, 1887, 132, 14, 910, 1317, 429, 1553, 214...\n",
      "Name: train_interactions, Length: 10000, dtype: object\n",
      "metrs:  {'map': np.float64(0.00030300797945440804), 'mrr': np.float64(0.0009346067821067822), 'hr': np.float64(0.0022)}\n",
      "preds:  0       [0, 4779, 4778, 4777, 4776, 4775, 4774, 4773, ...\n",
      "1       [698, 7, 2044, 896, 611, 1887, 784, 3523, 3879...\n",
      "2       [78, 210, 119, 258, 98, 172, 467, 304, 222, 36...\n",
      "3       [0, 4779, 4778, 4777, 4776, 4775, 4774, 4773, ...\n",
      "4       [4346, 65, 1302, 4759, 3304, 1862, 46, 2984, 1...\n",
      "                              ...                        \n",
      "9995    [3879, 2306, 2137, 3926, 3036, 4391, 3502, 277...\n",
      "9996    [0, 4779, 4778, 4777, 4776, 4775, 4774, 4773, ...\n",
      "9997    [0, 4779, 4778, 4777, 4776, 4775, 4774, 4773, ...\n",
      "9998    [2782, 2964, 2029, 1257, 2005, 2440, 4980, 120...\n",
      "9999    [502, 1887, 132, 14, 910, 1317, 429, 1553, 214...\n",
      "Name: train_interactions, Length: 10000, dtype: object\n",
      "metrs:  {'map': np.float64(0.0003358038230095948), 'mrr': np.float64(0.0010655708485700745), 'hr': np.float64(0.0042)}\n",
      "preds:  0       [0, 4779, 4778, 4777, 4776, 4775, 4774, 4773, ...\n",
      "1       [698, 7, 2044, 896, 611, 1887, 784, 3523, 3879...\n",
      "2       [78, 210, 119, 258, 98, 172, 467, 304, 222, 36...\n",
      "3       [0, 4779, 4778, 4777, 4776, 4775, 4774, 4773, ...\n",
      "4       [4346, 65, 1302, 4759, 3304, 1862, 46, 2984, 1...\n",
      "                              ...                        \n",
      "9995    [3879, 2306, 2137, 3926, 3036, 4391, 3502, 277...\n",
      "9996    [0, 4779, 4778, 4777, 4776, 4775, 4774, 4773, ...\n",
      "9997    [0, 4779, 4778, 4777, 4776, 4775, 4774, 4773, ...\n",
      "9998    [2782, 2964, 2029, 1257, 2005, 2440, 4980, 120...\n",
      "9999    [502, 1887, 132, 14, 910, 1317, 429, 1553, 214...\n",
      "Name: train_interactions, Length: 10000, dtype: object\n",
      "metrs:  {'map': np.float64(0.0003576270001518488), 'mrr': np.float64(0.0011072004879037812), 'hr': np.float64(0.0053)}\n",
      "preds:  0       [0, 4779, 4778, 4777, 4776, 4775, 4774, 4773, ...\n",
      "1       [698, 7, 2044, 896, 611, 1887, 784, 3523, 3879...\n",
      "2       [78, 210, 119, 258, 98, 172, 467, 304, 222, 36...\n",
      "3       [0, 4779, 4778, 4777, 4776, 4775, 4774, 4773, ...\n",
      "4       [4346, 65, 1302, 4759, 3304, 1862, 46, 2984, 1...\n",
      "                              ...                        \n",
      "9995    [3879, 2306, 2137, 3926, 3036, 4391, 3502, 277...\n",
      "9996    [0, 4779, 4778, 4777, 4776, 4775, 4774, 4773, ...\n",
      "9997    [0, 4779, 4778, 4777, 4776, 4775, 4774, 4773, ...\n",
      "9998    [2782, 2964, 2029, 1257, 2005, 2440, 4980, 120...\n",
      "9999    [502, 1887, 132, 14, 910, 1317, 429, 1553, 214...\n",
      "Name: train_interactions, Length: 10000, dtype: object\n",
      "metrs:  {'map': np.float64(0.00036228313195877765), 'mrr': np.float64(0.001134003419289511), 'hr': np.float64(0.0063)}\n",
      "preds:  0       [0, 4779, 4778, 4777, 4776, 4775, 4774, 4773, ...\n",
      "1       [698, 7, 2044, 896, 611, 1887, 784, 3523, 3879...\n",
      "2       [78, 210, 119, 258, 98, 172, 467, 304, 222, 36...\n",
      "3       [0, 4779, 4778, 4777, 4776, 4775, 4774, 4773, ...\n",
      "4       [4346, 65, 1302, 4759, 3304, 1862, 46, 2984, 1...\n",
      "                              ...                        \n",
      "9995    [3879, 2306, 2137, 3926, 3036, 4391, 3502, 277...\n",
      "9996    [0, 4779, 4778, 4777, 4776, 4775, 4774, 4773, ...\n",
      "9997    [0, 4779, 4778, 4777, 4776, 4775, 4774, 4773, ...\n",
      "9998    [2782, 2964, 2029, 1257, 2005, 2440, 4980, 120...\n",
      "9999    [502, 1887, 132, 14, 910, 1317, 429, 1553, 214...\n",
      "Name: train_interactions, Length: 10000, dtype: object\n",
      "metrs:  {'map': np.float64(0.00037204300777356935), 'mrr': np.float64(0.001170784652561286), 'hr': np.float64(0.008)}\n",
      "preds:  0       [0, 4779, 4778, 4777, 4776, 4775, 4774, 4773, ...\n",
      "1       [698, 7, 2044, 896, 611, 1887, 784, 3523, 3879...\n",
      "2       [78, 210, 119, 258, 98, 172, 467, 304, 222, 36...\n",
      "3       [0, 4779, 4778, 4777, 4776, 4775, 4774, 4773, ...\n",
      "4       [4346, 65, 1302, 4759, 3304, 1862, 46, 2984, 1...\n",
      "                              ...                        \n",
      "9995    [3879, 2306, 2137, 3926, 3036, 4391, 3502, 277...\n",
      "9996    [0, 4779, 4778, 4777, 4776, 4775, 4774, 4773, ...\n",
      "9997    [0, 4779, 4778, 4777, 4776, 4775, 4774, 4773, ...\n",
      "9998    [2782, 2964, 2029, 1257, 2005, 2440, 4980, 120...\n",
      "9999    [502, 1887, 132, 14, 910, 1317, 429, 1553, 214...\n",
      "Name: train_interactions, Length: 10000, dtype: object\n",
      "metrs:  {'map': np.float64(0.0003781685230246639), 'mrr': np.float64(0.001197806189235466), 'hr': np.float64(0.0095)}\n",
      "preds:  0       [0, 4779, 4778, 4777, 4776, 4775, 4774, 4773, ...\n",
      "1       [698, 7, 2044, 896, 611, 1887, 784, 3523, 3879...\n",
      "2       [78, 210, 119, 258, 98, 172, 467, 304, 222, 36...\n",
      "3       [0, 4779, 4778, 4777, 4776, 4775, 4774, 4773, ...\n",
      "4       [4346, 65, 1302, 4759, 3304, 1862, 46, 2984, 1...\n",
      "                              ...                        \n",
      "9995    [3879, 2306, 2137, 3926, 3036, 4391, 3502, 277...\n",
      "9996    [0, 4779, 4778, 4777, 4776, 4775, 4774, 4773, ...\n",
      "9997    [0, 4779, 4778, 4777, 4776, 4775, 4774, 4773, ...\n",
      "9998    [2782, 2964, 2029, 1257, 2005, 2440, 4980, 120...\n",
      "9999    [502, 1887, 132, 14, 910, 1317, 429, 1553, 214...\n",
      "Name: train_interactions, Length: 10000, dtype: object\n",
      "metrs:  {'map': np.float64(0.0003904311785366711), 'mrr': np.float64(0.0012345389401012185), 'hr': np.float64(0.0119)}\n",
      "preds:  0       [0, 4779, 4778, 4777, 4776, 4775, 4774, 4773, ...\n",
      "1       [698, 7, 2044, 896, 611, 1887, 784, 3523, 3879...\n",
      "2       [78, 210, 119, 258, 98, 172, 467, 304, 222, 36...\n",
      "3       [0, 4779, 4778, 4777, 4776, 4775, 4774, 4773, ...\n",
      "4       [4346, 65, 1302, 4759, 3304, 1862, 46, 2984, 1...\n",
      "                              ...                        \n",
      "9995    [3879, 2306, 2137, 3926, 3036, 4391, 3502, 277...\n",
      "9996    [0, 4779, 4778, 4777, 4776, 4775, 4774, 4773, ...\n",
      "9997    [0, 4779, 4778, 4777, 4776, 4775, 4774, 4773, ...\n",
      "9998    [2782, 2964, 2029, 1257, 2005, 2440, 4980, 120...\n",
      "9999    [502, 1887, 132, 14, 910, 1317, 429, 1553, 214...\n",
      "Name: train_interactions, Length: 10000, dtype: object\n",
      "metrs:  {'map': np.float64(0.00040574199664761073), 'mrr': np.float64(0.001270876108096409), 'hr': np.float64(0.0147)}\n",
      "preds:  0       [0, 4779, 4778, 4777, 4776, 4775, 4774, 4773, ...\n",
      "1       [698, 7, 2044, 896, 611, 1887, 784, 3523, 3879...\n",
      "2       [78, 210, 119, 258, 98, 172, 467, 304, 222, 36...\n",
      "3       [0, 4779, 4778, 4777, 4776, 4775, 4774, 4773, ...\n",
      "4       [4346, 65, 1302, 4759, 3304, 1862, 46, 2984, 1...\n",
      "                              ...                        \n",
      "9995    [3879, 2306, 2137, 3926, 3036, 4391, 3502, 277...\n",
      "9996    [0, 4779, 4778, 4777, 4776, 4775, 4774, 4773, ...\n",
      "9997    [0, 4779, 4778, 4777, 4776, 4775, 4774, 4773, ...\n",
      "9998    [2782, 2964, 2029, 1257, 2005, 2440, 4980, 120...\n",
      "9999    [502, 1887, 132, 14, 910, 1317, 429, 1553, 214...\n",
      "Name: train_interactions, Length: 10000, dtype: object\n",
      "metrs:  {'map': np.float64(0.0004100184686747178), 'mrr': np.float64(0.0012871978523038717), 'hr': np.float64(0.0161)}\n",
      "min_freq: 14\n",
      "preds:  0       [0, 4452, 4451, 4450, 4449, 4448, 4447, 4446, ...\n",
      "1       [513, 318, 12, 1400, 398, 3425, 1248, 2423, 53...\n",
      "2       [105, 41, 499, 89, 15, 448, 355, 111, 264, 563...\n",
      "3       [0, 4452, 4451, 4450, 4449, 4448, 4447, 4446, ...\n",
      "4       [1249, 637, 1400, 1576, 820, 1578, 111, 2066, ...\n",
      "                              ...                        \n",
      "9995    [506, 795, 2101, 612, 73, 1400, 447, 6, 1989, ...\n",
      "9996    [0, 4452, 4451, 4450, 4449, 4448, 4447, 4446, ...\n",
      "9997    [0, 4452, 4451, 4450, 4449, 4448, 4447, 4446, ...\n",
      "9998    [1386, 130, 825, 594, 1660, 1229, 157, 1889, 1...\n",
      "9999    [85, 330, 105, 298, 209, 534, 516, 138, 186, 4...\n",
      "Name: train_interactions, Length: 10000, dtype: object\n",
      "metrs:  {'map': np.float64(0.0002), 'mrr': np.float64(0.0002), 'hr': np.float64(0.0002)}\n",
      "preds:  0       [0, 4452, 4451, 4450, 4449, 4448, 4447, 4446, ...\n",
      "1       [513, 318, 12, 1400, 398, 3425, 1248, 2423, 53...\n",
      "2       [105, 41, 499, 89, 15, 448, 355, 111, 264, 563...\n",
      "3       [0, 4452, 4451, 4450, 4449, 4448, 4447, 4446, ...\n",
      "4       [1249, 637, 1400, 1576, 820, 1578, 111, 2066, ...\n",
      "                              ...                        \n",
      "9995    [506, 795, 2101, 612, 73, 1400, 447, 6, 1989, ...\n",
      "9996    [0, 4452, 4451, 4450, 4449, 4448, 4447, 4446, ...\n",
      "9997    [0, 4452, 4451, 4450, 4449, 4448, 4447, 4446, ...\n",
      "9998    [1386, 130, 825, 594, 1660, 1229, 157, 1889, 1...\n",
      "9999    [85, 330, 105, 298, 209, 534, 516, 138, 186, 4...\n",
      "Name: train_interactions, Length: 10000, dtype: object\n",
      "metrs:  {'map': np.float64(0.00013941513347763345), 'mrr': np.float64(0.0005552380952380952), 'hr': np.float64(0.002)}\n",
      "preds:  0       [0, 4452, 4451, 4450, 4449, 4448, 4447, 4446, ...\n",
      "1       [513, 318, 12, 1400, 398, 3425, 1248, 2423, 53...\n",
      "2       [105, 41, 499, 89, 15, 448, 355, 111, 264, 563...\n",
      "3       [0, 4452, 4451, 4450, 4449, 4448, 4447, 4446, ...\n",
      "4       [1249, 637, 1400, 1576, 820, 1578, 111, 2066, ...\n",
      "                              ...                        \n",
      "9995    [506, 795, 2101, 612, 73, 1400, 447, 6, 1989, ...\n",
      "9996    [0, 4452, 4451, 4450, 4449, 4448, 4447, 4446, ...\n",
      "9997    [0, 4452, 4451, 4450, 4449, 4448, 4447, 4446, ...\n",
      "9998    [1386, 130, 825, 594, 1660, 1229, 157, 1889, 1...\n",
      "9999    [85, 330, 105, 298, 209, 534, 516, 138, 186, 4...\n",
      "Name: train_interactions, Length: 10000, dtype: object\n",
      "metrs:  {'map': np.float64(0.00018618612268812254), 'mrr': np.float64(0.0006762734324499031), 'hr': np.float64(0.004)}\n",
      "preds:  0       [0, 4452, 4451, 4450, 4449, 4448, 4447, 4446, ...\n",
      "1       [513, 318, 12, 1400, 398, 3425, 1248, 2423, 53...\n",
      "2       [105, 41, 499, 89, 15, 448, 355, 111, 264, 563...\n",
      "3       [0, 4452, 4451, 4450, 4449, 4448, 4447, 4446, ...\n",
      "4       [1249, 637, 1400, 1576, 820, 1578, 111, 2066, ...\n",
      "                              ...                        \n",
      "9995    [506, 795, 2101, 612, 73, 1400, 447, 6, 1989, ...\n",
      "9996    [0, 4452, 4451, 4450, 4449, 4448, 4447, 4446, ...\n",
      "9997    [0, 4452, 4451, 4450, 4449, 4448, 4447, 4446, ...\n",
      "9998    [1386, 130, 825, 594, 1660, 1229, 157, 1889, 1...\n",
      "9999    [85, 330, 105, 298, 209, 534, 516, 138, 186, 4...\n",
      "Name: train_interactions, Length: 10000, dtype: object\n",
      "metrs:  {'map': np.float64(0.00020141419936163754), 'mrr': np.float64(0.0007339744990058083), 'hr': np.float64(0.0056)}\n",
      "preds:  0       [0, 4452, 4451, 4450, 4449, 4448, 4447, 4446, ...\n",
      "1       [513, 318, 12, 1400, 398, 3425, 1248, 2423, 53...\n",
      "2       [105, 41, 499, 89, 15, 448, 355, 111, 264, 563...\n",
      "3       [0, 4452, 4451, 4450, 4449, 4448, 4447, 4446, ...\n",
      "4       [1249, 637, 1400, 1576, 820, 1578, 111, 2066, ...\n",
      "                              ...                        \n",
      "9995    [506, 795, 2101, 612, 73, 1400, 447, 6, 1989, ...\n",
      "9996    [0, 4452, 4451, 4450, 4449, 4448, 4447, 4446, ...\n",
      "9997    [0, 4452, 4451, 4450, 4449, 4448, 4447, 4446, ...\n",
      "9998    [1386, 130, 825, 594, 1660, 1229, 157, 1889, 1...\n",
      "9999    [85, 330, 105, 298, 209, 534, 516, 138, 186, 4...\n",
      "Name: train_interactions, Length: 10000, dtype: object\n",
      "metrs:  {'map': np.float64(0.00021498173548534715), 'mrr': np.float64(0.0007873363749729285), 'hr': np.float64(0.0075)}\n",
      "preds:  0       [0, 4452, 4451, 4450, 4449, 4448, 4447, 4446, ...\n",
      "1       [513, 318, 12, 1400, 398, 3425, 1248, 2423, 53...\n",
      "2       [105, 41, 499, 89, 15, 448, 355, 111, 264, 563...\n",
      "3       [0, 4452, 4451, 4450, 4449, 4448, 4447, 4446, ...\n",
      "4       [1249, 637, 1400, 1576, 820, 1578, 111, 2066, ...\n",
      "                              ...                        \n",
      "9995    [506, 795, 2101, 612, 73, 1400, 447, 6, 1989, ...\n",
      "9996    [0, 4452, 4451, 4450, 4449, 4448, 4447, 4446, ...\n",
      "9997    [0, 4452, 4451, 4450, 4449, 4448, 4447, 4446, ...\n",
      "9998    [1386, 130, 825, 594, 1660, 1229, 157, 1889, 1...\n",
      "9999    [85, 330, 105, 298, 209, 534, 516, 138, 186, 4...\n",
      "Name: train_interactions, Length: 10000, dtype: object\n",
      "metrs:  {'map': np.float64(0.00023103261182093232), 'mrr': np.float64(0.0008330092398215001), 'hr': np.float64(0.0097)}\n",
      "preds:  0       [0, 4452, 4451, 4450, 4449, 4448, 4447, 4446, ...\n",
      "1       [513, 318, 12, 1400, 398, 3425, 1248, 2423, 53...\n",
      "2       [105, 41, 499, 89, 15, 448, 355, 111, 264, 563...\n",
      "3       [0, 4452, 4451, 4450, 4449, 4448, 4447, 4446, ...\n",
      "4       [1249, 637, 1400, 1576, 820, 1578, 111, 2066, ...\n",
      "                              ...                        \n",
      "9995    [506, 795, 2101, 612, 73, 1400, 447, 6, 1989, ...\n",
      "9996    [0, 4452, 4451, 4450, 4449, 4448, 4447, 4446, ...\n",
      "9997    [0, 4452, 4451, 4450, 4449, 4448, 4447, 4446, ...\n",
      "9998    [1386, 130, 825, 594, 1660, 1229, 157, 1889, 1...\n",
      "9999    [85, 330, 105, 298, 209, 534, 516, 138, 186, 4...\n",
      "Name: train_interactions, Length: 10000, dtype: object\n",
      "metrs:  {'map': np.float64(0.0002516260764895708), 'mrr': np.float64(0.0008728086565026714), 'hr': np.float64(0.0119)}\n",
      "preds:  0       [0, 4452, 4451, 4450, 4449, 4448, 4447, 4446, ...\n",
      "1       [513, 318, 12, 1400, 398, 3425, 1248, 2423, 53...\n",
      "2       [105, 41, 499, 89, 15, 448, 355, 111, 264, 563...\n",
      "3       [0, 4452, 4451, 4450, 4449, 4448, 4447, 4446, ...\n",
      "4       [1249, 637, 1400, 1576, 820, 1578, 111, 2066, ...\n",
      "                              ...                        \n",
      "9995    [506, 795, 2101, 612, 73, 1400, 447, 6, 1989, ...\n",
      "9996    [0, 4452, 4451, 4450, 4449, 4448, 4447, 4446, ...\n",
      "9997    [0, 4452, 4451, 4450, 4449, 4448, 4447, 4446, ...\n",
      "9998    [1386, 130, 825, 594, 1660, 1229, 157, 1889, 1...\n",
      "9999    [85, 330, 105, 298, 209, 534, 516, 138, 186, 4...\n",
      "Name: train_interactions, Length: 10000, dtype: object\n",
      "metrs:  {'map': np.float64(0.0002576006137084861), 'mrr': np.float64(0.0008940336777971586), 'hr': np.float64(0.0133)}\n",
      "preds:  0       [0, 4452, 4451, 4450, 4449, 4448, 4447, 4446, ...\n",
      "1       [513, 318, 12, 1400, 398, 3425, 1248, 2423, 53...\n",
      "2       [105, 41, 499, 89, 15, 448, 355, 111, 264, 563...\n",
      "3       [0, 4452, 4451, 4450, 4449, 4448, 4447, 4446, ...\n",
      "4       [1249, 637, 1400, 1576, 820, 1578, 111, 2066, ...\n",
      "                              ...                        \n",
      "9995    [506, 795, 2101, 612, 73, 1400, 447, 6, 1989, ...\n",
      "9996    [0, 4452, 4451, 4450, 4449, 4448, 4447, 4446, ...\n",
      "9997    [0, 4452, 4451, 4450, 4449, 4448, 4447, 4446, ...\n",
      "9998    [1386, 130, 825, 594, 1660, 1229, 157, 1889, 1...\n",
      "9999    [85, 330, 105, 298, 209, 534, 516, 138, 186, 4...\n",
      "Name: train_interactions, Length: 10000, dtype: object\n",
      "metrs:  {'map': np.float64(0.00026587588887495877), 'mrr': np.float64(0.0009129524772086296), 'hr': np.float64(0.0147)}\n",
      "preds:  0       [0, 4452, 4451, 4450, 4449, 4448, 4447, 4446, ...\n",
      "1       [513, 318, 12, 1400, 398, 3425, 1248, 2423, 53...\n",
      "2       [105, 41, 499, 89, 15, 448, 355, 111, 264, 563...\n",
      "3       [0, 4452, 4451, 4450, 4449, 4448, 4447, 4446, ...\n",
      "4       [1249, 637, 1400, 1576, 820, 1578, 111, 2066, ...\n",
      "                              ...                        \n",
      "9995    [506, 795, 2101, 612, 73, 1400, 447, 6, 1989, ...\n",
      "9996    [0, 4452, 4451, 4450, 4449, 4448, 4447, 4446, ...\n",
      "9997    [0, 4452, 4451, 4450, 4449, 4448, 4447, 4446, ...\n",
      "9998    [1386, 130, 825, 594, 1660, 1229, 157, 1889, 1...\n",
      "9999    [85, 330, 105, 298, 209, 534, 516, 138, 186, 4...\n",
      "Name: train_interactions, Length: 10000, dtype: object\n",
      "metrs:  {'map': np.float64(0.0002695946776041495), 'mrr': np.float64(0.0009279687904699495), 'hr': np.float64(0.016)}\n",
      "min_freq: 16\n",
      "preds:  0       [0, 4167, 4166, 4165, 4164, 4163, 4162, 4161, ...\n",
      "1       [42, 463, 68, 98, 1685, 532, 1964, 1194, 114, ...\n",
      "2       [208, 14, 1508, 1400, 258, 277, 382, 2684, 243...\n",
      "3       [0, 4167, 4166, 4165, 4164, 4163, 4162, 4161, ...\n",
      "4       [910, 349, 532, 1220, 2976, 452, 1835, 725, 24...\n",
      "                              ...                        \n",
      "9995    [532, 349, 550, 295, 796, 910, 1220, 181, 70, ...\n",
      "9996    [0, 4167, 4166, 4165, 4164, 4163, 4162, 4161, ...\n",
      "9997    [0, 4167, 4166, 4165, 4164, 4163, 4162, 4161, ...\n",
      "9998    [1305, 1867, 4501, 3054, 39, 1127, 2385, 539, ...\n",
      "9999    [463, 469, 98, 406, 1220, 65, 910, 157, 213, 3...\n",
      "Name: train_interactions, Length: 10000, dtype: object\n",
      "metrs:  {'map': np.float64(0.0004), 'mrr': np.float64(0.0004), 'hr': np.float64(0.0004)}\n",
      "preds:  0       [0, 4167, 4166, 4165, 4164, 4163, 4162, 4161, ...\n",
      "1       [42, 463, 68, 98, 1685, 532, 1964, 1194, 114, ...\n",
      "2       [208, 14, 1508, 1400, 258, 277, 382, 2684, 243...\n",
      "3       [0, 4167, 4166, 4165, 4164, 4163, 4162, 4161, ...\n",
      "4       [910, 349, 532, 1220, 2976, 452, 1835, 725, 24...\n",
      "                              ...                        \n",
      "9995    [532, 349, 550, 295, 796, 910, 1220, 181, 70, ...\n",
      "9996    [0, 4167, 4166, 4165, 4164, 4163, 4162, 4161, ...\n",
      "9997    [0, 4167, 4166, 4165, 4164, 4163, 4162, 4161, ...\n",
      "9998    [1305, 1867, 4501, 3054, 39, 1127, 2385, 539, ...\n",
      "9999    [463, 469, 98, 406, 1220, 65, 910, 157, 213, 3...\n",
      "Name: train_interactions, Length: 10000, dtype: object\n",
      "metrs:  {'map': np.float64(0.00023350942688063904), 'mrr': np.float64(0.0008221067821067822), 'hr': np.float64(0.0026)}\n",
      "preds:  0       [0, 4167, 4166, 4165, 4164, 4163, 4162, 4161, ...\n",
      "1       [42, 463, 68, 98, 1685, 532, 1964, 1194, 114, ...\n",
      "2       [208, 14, 1508, 1400, 258, 277, 382, 2684, 243...\n",
      "3       [0, 4167, 4166, 4165, 4164, 4163, 4162, 4161, ...\n",
      "4       [910, 349, 532, 1220, 2976, 452, 1835, 725, 24...\n",
      "                              ...                        \n",
      "9995    [532, 349, 550, 295, 796, 910, 1220, 181, 70, ...\n",
      "9996    [0, 4167, 4166, 4165, 4164, 4163, 4162, 4161, ...\n",
      "9997    [0, 4167, 4166, 4165, 4164, 4163, 4162, 4161, ...\n",
      "9998    [1305, 1867, 4501, 3054, 39, 1127, 2385, 539, ...\n",
      "9999    [463, 469, 98, 406, 1220, 65, 910, 157, 213, 3...\n",
      "Name: train_interactions, Length: 10000, dtype: object\n",
      "metrs:  {'map': np.float64(0.0005313925018456107), 'mrr': np.float64(0.0014292356619988202), 'hr': np.float64(0.013)}\n",
      "preds:  0       [0, 4167, 4166, 4165, 4164, 4163, 4162, 4161, ...\n",
      "1       [42, 463, 68, 98, 1685, 532, 1964, 1194, 114, ...\n",
      "2       [208, 14, 1508, 1400, 258, 277, 382, 2684, 243...\n",
      "3       [0, 4167, 4166, 4165, 4164, 4163, 4162, 4161, ...\n",
      "4       [910, 349, 532, 1220, 2976, 452, 1835, 725, 24...\n",
      "                              ...                        \n",
      "9995    [532, 349, 550, 295, 796, 910, 1220, 181, 70, ...\n",
      "9996    [0, 4167, 4166, 4165, 4164, 4163, 4162, 4161, ...\n",
      "9997    [0, 4167, 4166, 4165, 4164, 4163, 4162, 4161, ...\n",
      "9998    [1305, 1867, 4501, 3054, 39, 1127, 2385, 539, ...\n",
      "9999    [463, 469, 98, 406, 1220, 65, 910, 157, 213, 3...\n",
      "Name: train_interactions, Length: 10000, dtype: object\n",
      "metrs:  {'map': np.float64(0.0005571336459456792), 'mrr': np.float64(0.001528890157722789), 'hr': np.float64(0.0156)}\n",
      "preds:  0       [0, 4167, 4166, 4165, 4164, 4163, 4162, 4161, ...\n",
      "1       [42, 463, 68, 98, 1685, 532, 1964, 1194, 114, ...\n",
      "2       [208, 14, 1508, 1400, 258, 277, 382, 2684, 243...\n",
      "3       [0, 4167, 4166, 4165, 4164, 4163, 4162, 4161, ...\n",
      "4       [910, 349, 532, 1220, 2976, 452, 1835, 725, 24...\n",
      "                              ...                        \n",
      "9995    [532, 349, 550, 295, 796, 910, 1220, 181, 70, ...\n",
      "9996    [0, 4167, 4166, 4165, 4164, 4163, 4162, 4161, ...\n",
      "9997    [0, 4167, 4166, 4165, 4164, 4163, 4162, 4161, ...\n",
      "9998    [1305, 1867, 4501, 3054, 39, 1127, 2385, 539, ...\n",
      "9999    [463, 469, 98, 406, 1220, 65, 910, 157, 213, 3...\n",
      "Name: train_interactions, Length: 10000, dtype: object\n",
      "metrs:  {'map': np.float64(0.0005781807489324845), 'mrr': np.float64(0.001610595164961427), 'hr': np.float64(0.0185)}\n",
      "preds:  0       [0, 4167, 4166, 4165, 4164, 4163, 4162, 4161, ...\n",
      "1       [42, 463, 68, 98, 1685, 532, 1964, 1194, 114, ...\n",
      "2       [208, 14, 1508, 1400, 258, 277, 382, 2684, 243...\n",
      "3       [0, 4167, 4166, 4165, 4164, 4163, 4162, 4161, ...\n",
      "4       [910, 349, 532, 1220, 2976, 452, 1835, 725, 24...\n",
      "                              ...                        \n",
      "9995    [532, 349, 550, 295, 796, 910, 1220, 181, 70, ...\n",
      "9996    [0, 4167, 4166, 4165, 4164, 4163, 4162, 4161, ...\n",
      "9997    [0, 4167, 4166, 4165, 4164, 4163, 4162, 4161, ...\n",
      "9998    [1305, 1867, 4501, 3054, 39, 1127, 2385, 539, ...\n",
      "9999    [463, 469, 98, 406, 1220, 65, 910, 157, 213, 3...\n",
      "Name: train_interactions, Length: 10000, dtype: object\n",
      "metrs:  {'map': np.float64(0.0005976045891556482), 'mrr': np.float64(0.00167252055528746), 'hr': np.float64(0.0214)}\n",
      "preds:  0       [0, 4167, 4166, 4165, 4164, 4163, 4162, 4161, ...\n",
      "1       [42, 463, 68, 98, 1685, 532, 1964, 1194, 114, ...\n",
      "2       [208, 14, 1508, 1400, 258, 277, 382, 2684, 243...\n",
      "3       [0, 4167, 4166, 4165, 4164, 4163, 4162, 4161, ...\n",
      "4       [910, 349, 532, 1220, 2976, 452, 1835, 725, 24...\n",
      "                              ...                        \n",
      "9995    [532, 349, 550, 295, 796, 910, 1220, 181, 70, ...\n",
      "9996    [0, 4167, 4166, 4165, 4164, 4163, 4162, 4161, ...\n",
      "9997    [0, 4167, 4166, 4165, 4164, 4163, 4162, 4161, ...\n",
      "9998    [1305, 1867, 4501, 3054, 39, 1127, 2385, 539, ...\n",
      "9999    [463, 469, 98, 406, 1220, 65, 910, 157, 213, 3...\n",
      "Name: train_interactions, Length: 10000, dtype: object\n",
      "metrs:  {'map': np.float64(0.0006072522225406627), 'mrr': np.float64(0.0017058386616591004), 'hr': np.float64(0.0233)}\n",
      "preds:  0       [0, 4167, 4166, 4165, 4164, 4163, 4162, 4161, ...\n",
      "1       [42, 463, 68, 98, 1685, 532, 1964, 1194, 114, ...\n",
      "2       [208, 14, 1508, 1400, 258, 277, 382, 2684, 243...\n",
      "3       [0, 4167, 4166, 4165, 4164, 4163, 4162, 4161, ...\n",
      "4       [910, 349, 532, 1220, 2976, 452, 1835, 725, 24...\n",
      "                              ...                        \n",
      "9995    [532, 349, 550, 295, 796, 910, 1220, 181, 70, ...\n",
      "9996    [0, 4167, 4166, 4165, 4164, 4163, 4162, 4161, ...\n",
      "9997    [0, 4167, 4166, 4165, 4164, 4163, 4162, 4161, ...\n",
      "9998    [1305, 1867, 4501, 3054, 39, 1127, 2385, 539, ...\n",
      "9999    [463, 469, 98, 406, 1220, 65, 910, 157, 213, 3...\n",
      "Name: train_interactions, Length: 10000, dtype: object\n",
      "metrs:  {'map': np.float64(0.000618896426194038), 'mrr': np.float64(0.0017386549873174637), 'hr': np.float64(0.0255)}\n",
      "preds:  0       [0, 4167, 4166, 4165, 4164, 4163, 4162, 4161, ...\n",
      "1       [42, 463, 68, 98, 1685, 532, 1964, 1194, 114, ...\n",
      "2       [208, 14, 1508, 1400, 258, 277, 382, 2684, 243...\n",
      "3       [0, 4167, 4166, 4165, 4164, 4163, 4162, 4161, ...\n",
      "4       [910, 349, 532, 1220, 2976, 452, 1835, 725, 24...\n",
      "                              ...                        \n",
      "9995    [532, 349, 550, 295, 796, 910, 1220, 181, 70, ...\n",
      "9996    [0, 4167, 4166, 4165, 4164, 4163, 4162, 4161, ...\n",
      "9997    [0, 4167, 4166, 4165, 4164, 4163, 4162, 4161, ...\n",
      "9998    [1305, 1867, 4501, 3054, 39, 1127, 2385, 539, ...\n",
      "9999    [463, 469, 98, 406, 1220, 65, 910, 157, 213, 3...\n",
      "Name: train_interactions, Length: 10000, dtype: object\n",
      "metrs:  {'map': np.float64(0.0006315394639914031), 'mrr': np.float64(0.001775248159258156), 'hr': np.float64(0.0283)}\n",
      "preds:  0       [0, 4167, 4166, 4165, 4164, 4163, 4162, 4161, ...\n",
      "1       [42, 463, 68, 98, 1685, 532, 1964, 1194, 114, ...\n",
      "2       [208, 14, 1508, 1400, 258, 277, 382, 2684, 243...\n",
      "3       [0, 4167, 4166, 4165, 4164, 4163, 4162, 4161, ...\n",
      "4       [910, 349, 532, 1220, 2976, 452, 1835, 725, 24...\n",
      "                              ...                        \n",
      "9995    [532, 349, 550, 295, 796, 910, 1220, 181, 70, ...\n",
      "9996    [0, 4167, 4166, 4165, 4164, 4163, 4162, 4161, ...\n",
      "9997    [0, 4167, 4166, 4165, 4164, 4163, 4162, 4161, ...\n",
      "9998    [1305, 1867, 4501, 3054, 39, 1127, 2385, 539, ...\n",
      "9999    [463, 469, 98, 406, 1220, 65, 910, 157, 213, 3...\n",
      "Name: train_interactions, Length: 10000, dtype: object\n",
      "metrs:  {'map': np.float64(0.0006364285545477846), 'mrr': np.float64(0.0017912493400149344), 'hr': np.float64(0.0297)}\n",
      "min_freq: 18\n",
      "preds:  0       [0, 3911, 3910, 3909, 3908, 3907, 3906, 3905, ...\n",
      "1       [37, 1231, 288, 999, 988, 918, 244, 1121, 558,...\n",
      "2       [30, 565, 382, 750, 90, 3310, 2036, 307, 298, ...\n",
      "3       [0, 3911, 3910, 3909, 3908, 3907, 3906, 3905, ...\n",
      "4       [125, 74, 570, 4595, 1199, 774, 400, 498, 106,...\n",
      "                              ...                        \n",
      "9995    [1252, 1311, 682, 111, 423, 369, 211, 455, 223...\n",
      "9996    [0, 3911, 3910, 3909, 3908, 3907, 3906, 3905, ...\n",
      "9997    [0, 3911, 3910, 3909, 3908, 3907, 3906, 3905, ...\n",
      "9998    [561, 93, 18, 3108, 4393, 4223, 1555, 862, 452...\n",
      "9999    [190, 379, 597, 1152, 473, 35, 1360, 1256, 135...\n",
      "Name: train_interactions, Length: 10000, dtype: object\n",
      "metrs:  {'map': np.float64(0.0002), 'mrr': np.float64(0.0002), 'hr': np.float64(0.0002)}\n",
      "preds:  0       [0, 3911, 3910, 3909, 3908, 3907, 3906, 3905, ...\n",
      "1       [37, 1231, 288, 999, 988, 918, 244, 1121, 558,...\n",
      "2       [30, 565, 382, 750, 90, 3310, 2036, 307, 298, ...\n",
      "3       [0, 3911, 3910, 3909, 3908, 3907, 3906, 3905, ...\n",
      "4       [125, 74, 570, 4595, 1199, 774, 400, 498, 106,...\n",
      "                              ...                        \n",
      "9995    [1252, 1311, 682, 111, 423, 369, 211, 455, 223...\n",
      "9996    [0, 3911, 3910, 3909, 3908, 3907, 3906, 3905, ...\n",
      "9997    [0, 3911, 3910, 3909, 3908, 3907, 3906, 3905, ...\n",
      "9998    [561, 93, 18, 3108, 4393, 4223, 1555, 862, 452...\n",
      "9999    [190, 379, 597, 1152, 473, 35, 1360, 1256, 135...\n",
      "Name: train_interactions, Length: 10000, dtype: object\n",
      "metrs:  {'map': np.float64(0.00020420093795093798), 'mrr': np.float64(0.0005809126984126984), 'hr': np.float64(0.0021)}\n",
      "preds:  0       [0, 3911, 3910, 3909, 3908, 3907, 3906, 3905, ...\n",
      "1       [37, 1231, 288, 999, 988, 918, 244, 1121, 558,...\n",
      "2       [30, 565, 382, 750, 90, 3310, 2036, 307, 298, ...\n",
      "3       [0, 3911, 3910, 3909, 3908, 3907, 3906, 3905, ...\n",
      "4       [125, 74, 570, 4595, 1199, 774, 400, 498, 106,...\n",
      "                              ...                        \n",
      "9995    [1252, 1311, 682, 111, 423, 369, 211, 455, 223...\n",
      "9996    [0, 3911, 3910, 3909, 3908, 3907, 3906, 3905, ...\n",
      "9997    [0, 3911, 3910, 3909, 3908, 3907, 3906, 3905, ...\n",
      "9998    [561, 93, 18, 3108, 4393, 4223, 1555, 862, 452...\n",
      "9999    [190, 379, 597, 1152, 473, 35, 1360, 1256, 135...\n",
      "Name: train_interactions, Length: 10000, dtype: object\n",
      "metrs:  {'map': np.float64(0.00021133683907840112), 'mrr': np.float64(0.0006698152621372435), 'hr': np.float64(0.0035)}\n",
      "preds:  0       [0, 3911, 3910, 3909, 3908, 3907, 3906, 3905, ...\n",
      "1       [37, 1231, 288, 999, 988, 918, 244, 1121, 558,...\n",
      "2       [30, 565, 382, 750, 90, 3310, 2036, 307, 298, ...\n",
      "3       [0, 3911, 3910, 3909, 3908, 3907, 3906, 3905, ...\n",
      "4       [125, 74, 570, 4595, 1199, 774, 400, 498, 106,...\n",
      "                              ...                        \n",
      "9995    [1252, 1311, 682, 111, 423, 369, 211, 455, 223...\n",
      "9996    [0, 3911, 3910, 3909, 3908, 3907, 3906, 3905, ...\n",
      "9997    [0, 3911, 3910, 3909, 3908, 3907, 3906, 3905, ...\n",
      "9998    [561, 93, 18, 3108, 4393, 4223, 1555, 862, 452...\n",
      "9999    [190, 379, 597, 1152, 473, 35, 1360, 1256, 135...\n",
      "Name: train_interactions, Length: 10000, dtype: object\n",
      "metrs:  {'map': np.float64(0.00023376457247089704), 'mrr': np.float64(0.0007554226856284026), 'hr': np.float64(0.0058)}\n",
      "preds:  0       [0, 3911, 3910, 3909, 3908, 3907, 3906, 3905, ...\n",
      "1       [37, 1231, 288, 999, 988, 918, 244, 1121, 558,...\n",
      "2       [30, 565, 382, 750, 90, 3310, 2036, 307, 298, ...\n",
      "3       [0, 3911, 3910, 3909, 3908, 3907, 3906, 3905, ...\n",
      "4       [125, 74, 570, 4595, 1199, 774, 400, 498, 106,...\n",
      "                              ...                        \n",
      "9995    [1252, 1311, 682, 111, 423, 369, 211, 455, 223...\n",
      "9996    [0, 3911, 3910, 3909, 3908, 3907, 3906, 3905, ...\n",
      "9997    [0, 3911, 3910, 3909, 3908, 3907, 3906, 3905, ...\n",
      "9998    [561, 93, 18, 3108, 4393, 4223, 1555, 862, 452...\n",
      "9999    [190, 379, 597, 1152, 473, 35, 1360, 1256, 135...\n",
      "Name: train_interactions, Length: 10000, dtype: object\n",
      "metrs:  {'map': np.float64(0.0002553323182778048), 'mrr': np.float64(0.0008038183043498538), 'hr': np.float64(0.0076)}\n",
      "preds:  0       [0, 3911, 3910, 3909, 3908, 3907, 3906, 3905, ...\n",
      "1       [37, 1231, 288, 999, 988, 918, 244, 1121, 558,...\n",
      "2       [30, 565, 382, 750, 90, 3310, 2036, 307, 298, ...\n",
      "3       [0, 3911, 3910, 3909, 3908, 3907, 3906, 3905, ...\n",
      "4       [125, 74, 570, 4595, 1199, 774, 400, 498, 106,...\n",
      "                              ...                        \n",
      "9995    [1252, 1311, 682, 111, 423, 369, 211, 455, 223...\n",
      "9996    [0, 3911, 3910, 3909, 3908, 3907, 3906, 3905, ...\n",
      "9997    [0, 3911, 3910, 3909, 3908, 3907, 3906, 3905, ...\n",
      "9998    [561, 93, 18, 3108, 4393, 4223, 1555, 862, 452...\n",
      "9999    [190, 379, 597, 1152, 473, 35, 1360, 1256, 135...\n",
      "Name: train_interactions, Length: 10000, dtype: object\n",
      "metrs:  {'map': np.float64(0.0002669758135680719), 'mrr': np.float64(0.0008414109537736091), 'hr': np.float64(0.0093)}\n",
      "preds:  0       [0, 3911, 3910, 3909, 3908, 3907, 3906, 3905, ...\n",
      "1       [37, 1231, 288, 999, 988, 918, 244, 1121, 558,...\n",
      "2       [30, 565, 382, 750, 90, 3310, 2036, 307, 298, ...\n",
      "3       [0, 3911, 3910, 3909, 3908, 3907, 3906, 3905, ...\n",
      "4       [125, 74, 570, 4595, 1199, 774, 400, 498, 106,...\n",
      "                              ...                        \n",
      "9995    [1252, 1311, 682, 111, 423, 369, 211, 455, 223...\n",
      "9996    [0, 3911, 3910, 3909, 3908, 3907, 3906, 3905, ...\n",
      "9997    [0, 3911, 3910, 3909, 3908, 3907, 3906, 3905, ...\n",
      "9998    [561, 93, 18, 3108, 4393, 4223, 1555, 862, 452...\n",
      "9999    [190, 379, 597, 1152, 473, 35, 1360, 1256, 135...\n",
      "Name: train_interactions, Length: 10000, dtype: object\n",
      "metrs:  {'map': np.float64(0.00027287141749775625), 'mrr': np.float64(0.0008663271280971117), 'hr': np.float64(0.0107)}\n",
      "preds:  0       [0, 3911, 3910, 3909, 3908, 3907, 3906, 3905, ...\n",
      "1       [37, 1231, 288, 999, 988, 918, 244, 1121, 558,...\n",
      "2       [30, 565, 382, 750, 90, 3310, 2036, 307, 298, ...\n",
      "3       [0, 3911, 3910, 3909, 3908, 3907, 3906, 3905, ...\n",
      "4       [125, 74, 570, 4595, 1199, 774, 400, 498, 106,...\n",
      "                              ...                        \n",
      "9995    [1252, 1311, 682, 111, 423, 369, 211, 455, 223...\n",
      "9996    [0, 3911, 3910, 3909, 3908, 3907, 3906, 3905, ...\n",
      "9997    [0, 3911, 3910, 3909, 3908, 3907, 3906, 3905, ...\n",
      "9998    [561, 93, 18, 3108, 4393, 4223, 1555, 862, 452...\n",
      "9999    [190, 379, 597, 1152, 473, 35, 1360, 1256, 135...\n",
      "Name: train_interactions, Length: 10000, dtype: object\n",
      "metrs:  {'map': np.float64(0.0002924748885220617), 'mrr': np.float64(0.0009248322593152583), 'hr': np.float64(0.0146)}\n",
      "preds:  0       [0, 3911, 3910, 3909, 3908, 3907, 3906, 3905, ...\n",
      "1       [37, 1231, 288, 999, 988, 918, 244, 1121, 558,...\n",
      "2       [30, 565, 382, 750, 90, 3310, 2036, 307, 298, ...\n",
      "3       [0, 3911, 3910, 3909, 3908, 3907, 3906, 3905, ...\n",
      "4       [125, 74, 570, 4595, 1199, 774, 400, 498, 106,...\n",
      "                              ...                        \n",
      "9995    [1252, 1311, 682, 111, 423, 369, 211, 455, 223...\n",
      "9996    [0, 3911, 3910, 3909, 3908, 3907, 3906, 3905, ...\n",
      "9997    [0, 3911, 3910, 3909, 3908, 3907, 3906, 3905, ...\n",
      "9998    [561, 93, 18, 3108, 4393, 4223, 1555, 862, 452...\n",
      "9999    [190, 379, 597, 1152, 473, 35, 1360, 1256, 135...\n",
      "Name: train_interactions, Length: 10000, dtype: object\n",
      "metrs:  {'map': np.float64(0.0002952174562102353), 'mrr': np.float64(0.0009406094548780285), 'hr': np.float64(0.0158)}\n",
      "preds:  0       [0, 3911, 3910, 3909, 3908, 3907, 3906, 3905, ...\n",
      "1       [37, 1231, 288, 999, 988, 918, 244, 1121, 558,...\n",
      "2       [30, 565, 382, 750, 90, 3310, 2036, 307, 298, ...\n",
      "3       [0, 3911, 3910, 3909, 3908, 3907, 3906, 3905, ...\n",
      "4       [125, 74, 570, 4595, 1199, 774, 400, 498, 106,...\n",
      "                              ...                        \n",
      "9995    [1252, 1311, 682, 111, 423, 369, 211, 455, 223...\n",
      "9996    [0, 3911, 3910, 3909, 3908, 3907, 3906, 3905, ...\n",
      "9997    [0, 3911, 3910, 3909, 3908, 3907, 3906, 3905, ...\n",
      "9998    [561, 93, 18, 3108, 4393, 4223, 1555, 862, 452...\n",
      "9999    [190, 379, 597, 1152, 473, 35, 1360, 1256, 135...\n",
      "Name: train_interactions, Length: 10000, dtype: object\n",
      "metrs:  {'map': np.float64(0.00030363347141982243), 'mrr': np.float64(0.0009672474426593396), 'hr': np.float64(0.0181)}\n",
      "min_freq: 20\n",
      "preds:  0       [0, 3714, 3713, 3712, 3711, 3710, 3709, 3708, ...\n",
      "1       [45, 11, 70, 2046, 1432, 539, 195, 1224, 1776,...\n",
      "2       [428, 110, 294, 1104, 368, 1168, 188, 458, 344...\n",
      "3       [0, 3714, 3713, 3712, 3711, 3710, 3709, 3708, ...\n",
      "4       [250, 436, 843, 205, 1948, 1318, 219, 340, 819...\n",
      "                              ...                        \n",
      "9995    [45, 1406, 1643, 933, 4554, 2190, 3557, 398, 2...\n",
      "9996    [0, 3714, 3713, 3712, 3711, 3710, 3709, 3708, ...\n",
      "9997    [0, 3714, 3713, 3712, 3711, 3710, 3709, 3708, ...\n",
      "9998    [2335, 3888, 4170, 2579, 4608, 2895, 2428, 365...\n",
      "9999    [1432, 250, 307, 112, 839, 130, 1401, 668, 903...\n",
      "Name: train_interactions, Length: 10000, dtype: object\n",
      "metrs:  {'map': np.float64(0.0002), 'mrr': np.float64(0.0002), 'hr': np.float64(0.0002)}\n",
      "preds:  0       [0, 3714, 3713, 3712, 3711, 3710, 3709, 3708, ...\n",
      "1       [45, 11, 70, 2046, 1432, 539, 195, 1224, 1776,...\n",
      "2       [428, 110, 294, 1104, 368, 1168, 188, 458, 344...\n",
      "3       [0, 3714, 3713, 3712, 3711, 3710, 3709, 3708, ...\n",
      "4       [250, 436, 843, 205, 1948, 1318, 219, 340, 819...\n",
      "                              ...                        \n",
      "9995    [45, 1406, 1643, 933, 4554, 2190, 3557, 398, 2...\n",
      "9996    [0, 3714, 3713, 3712, 3711, 3710, 3709, 3708, ...\n",
      "9997    [0, 3714, 3713, 3712, 3711, 3710, 3709, 3708, ...\n",
      "9998    [2335, 3888, 4170, 2579, 4608, 2895, 2428, 365...\n",
      "9999    [1432, 250, 307, 112, 839, 130, 1401, 668, 903...\n",
      "Name: train_interactions, Length: 10000, dtype: object\n",
      "metrs:  {'map': np.float64(0.0002372862827408282), 'mrr': np.float64(0.0006681854256854257), 'hr': np.float64(0.0026)}\n",
      "preds:  0       [0, 3714, 3713, 3712, 3711, 3710, 3709, 3708, ...\n",
      "1       [45, 11, 70, 2046, 1432, 539, 195, 1224, 1776,...\n",
      "2       [428, 110, 294, 1104, 368, 1168, 188, 458, 344...\n",
      "3       [0, 3714, 3713, 3712, 3711, 3710, 3709, 3708, ...\n",
      "4       [250, 436, 843, 205, 1948, 1318, 219, 340, 819...\n",
      "                              ...                        \n",
      "9995    [45, 1406, 1643, 933, 4554, 2190, 3557, 398, 2...\n",
      "9996    [0, 3714, 3713, 3712, 3711, 3710, 3709, 3708, ...\n",
      "9997    [0, 3714, 3713, 3712, 3711, 3710, 3709, 3708, ...\n",
      "9998    [2335, 3888, 4170, 2579, 4608, 2895, 2428, 365...\n",
      "9999    [1432, 250, 307, 112, 839, 130, 1401, 668, 903...\n",
      "Name: train_interactions, Length: 10000, dtype: object\n",
      "metrs:  {'map': np.float64(0.0002516056793939921), 'mrr': np.float64(0.0007748271903535061), 'hr': np.float64(0.0044)}\n",
      "preds:  0       [0, 3714, 3713, 3712, 3711, 3710, 3709, 3708, ...\n",
      "1       [45, 11, 70, 2046, 1432, 539, 195, 1224, 1776,...\n",
      "2       [428, 110, 294, 1104, 368, 1168, 188, 458, 344...\n",
      "3       [0, 3714, 3713, 3712, 3711, 3710, 3709, 3708, ...\n",
      "4       [250, 436, 843, 205, 1948, 1318, 219, 340, 819...\n",
      "                              ...                        \n",
      "9995    [45, 1406, 1643, 933, 4554, 2190, 3557, 398, 2...\n",
      "9996    [0, 3714, 3713, 3712, 3711, 3710, 3709, 3708, ...\n",
      "9997    [0, 3714, 3713, 3712, 3711, 3710, 3709, 3708, ...\n",
      "9998    [2335, 3888, 4170, 2579, 4608, 2895, 2428, 365...\n",
      "9999    [1432, 250, 307, 112, 839, 130, 1401, 668, 903...\n",
      "Name: train_interactions, Length: 10000, dtype: object\n",
      "metrs:  {'map': np.float64(0.0004772241629464662), 'mrr': np.float64(0.0012714135770600023), 'hr': np.float64(0.0169)}\n",
      "preds:  0       [0, 3714, 3713, 3712, 3711, 3710, 3709, 3708, ...\n",
      "1       [45, 11, 70, 2046, 1432, 539, 195, 1224, 1776,...\n",
      "2       [428, 110, 294, 1104, 368, 1168, 188, 458, 344...\n",
      "3       [0, 3714, 3713, 3712, 3711, 3710, 3709, 3708, ...\n",
      "4       [250, 436, 843, 205, 1948, 1318, 219, 340, 819...\n",
      "                              ...                        \n",
      "9995    [45, 1406, 1643, 933, 4554, 2190, 3557, 398, 2...\n",
      "9996    [0, 3714, 3713, 3712, 3711, 3710, 3709, 3708, ...\n",
      "9997    [0, 3714, 3713, 3712, 3711, 3710, 3709, 3708, ...\n",
      "9998    [2335, 3888, 4170, 2579, 4608, 2895, 2428, 365...\n",
      "9999    [1432, 250, 307, 112, 839, 130, 1401, 668, 903...\n",
      "Name: train_interactions, Length: 10000, dtype: object\n",
      "metrs:  {'map': np.float64(0.0004831963212748568), 'mrr': np.float64(0.0013051362891677574), 'hr': np.float64(0.0181)}\n",
      "preds:  0       [0, 3714, 3713, 3712, 3711, 3710, 3709, 3708, ...\n",
      "1       [45, 11, 70, 2046, 1432, 539, 195, 1224, 1776,...\n",
      "2       [428, 110, 294, 1104, 368, 1168, 188, 458, 344...\n",
      "3       [0, 3714, 3713, 3712, 3711, 3710, 3709, 3708, ...\n",
      "4       [250, 436, 843, 205, 1948, 1318, 219, 340, 819...\n",
      "                              ...                        \n",
      "9995    [45, 1406, 1643, 933, 4554, 2190, 3557, 398, 2...\n",
      "9996    [0, 3714, 3713, 3712, 3711, 3710, 3709, 3708, ...\n",
      "9997    [0, 3714, 3713, 3712, 3711, 3710, 3709, 3708, ...\n",
      "9998    [2335, 3888, 4170, 2579, 4608, 2895, 2428, 365...\n",
      "9999    [1432, 250, 307, 112, 839, 130, 1401, 668, 903...\n",
      "Name: train_interactions, Length: 10000, dtype: object\n",
      "metrs:  {'map': np.float64(0.0005025855796879771), 'mrr': np.float64(0.0013499891303415164), 'hr': np.float64(0.0202)}\n",
      "preds:  0       [0, 3714, 3713, 3712, 3711, 3710, 3709, 3708, ...\n",
      "1       [45, 11, 70, 2046, 1432, 539, 195, 1224, 1776,...\n",
      "2       [428, 110, 294, 1104, 368, 1168, 188, 458, 344...\n",
      "3       [0, 3714, 3713, 3712, 3711, 3710, 3709, 3708, ...\n",
      "4       [250, 436, 843, 205, 1948, 1318, 219, 340, 819...\n",
      "                              ...                        \n",
      "9995    [45, 1406, 1643, 933, 4554, 2190, 3557, 398, 2...\n",
      "9996    [0, 3714, 3713, 3712, 3711, 3710, 3709, 3708, ...\n",
      "9997    [0, 3714, 3713, 3712, 3711, 3710, 3709, 3708, ...\n",
      "9998    [2335, 3888, 4170, 2579, 4608, 2895, 2428, 365...\n",
      "9999    [1432, 250, 307, 112, 839, 130, 1401, 668, 903...\n",
      "Name: train_interactions, Length: 10000, dtype: object\n",
      "metrs:  {'map': np.float64(0.0005067922986785908), 'mrr': np.float64(0.0013692259550696154), 'hr': np.float64(0.0213)}\n",
      "preds:  0       [0, 3714, 3713, 3712, 3711, 3710, 3709, 3708, ...\n",
      "1       [45, 11, 70, 2046, 1432, 539, 195, 1224, 1776,...\n",
      "2       [428, 110, 294, 1104, 368, 1168, 188, 458, 344...\n",
      "3       [0, 3714, 3713, 3712, 3711, 3710, 3709, 3708, ...\n",
      "4       [250, 436, 843, 205, 1948, 1318, 219, 340, 819...\n",
      "                              ...                        \n",
      "9995    [45, 1406, 1643, 933, 4554, 2190, 3557, 398, 2...\n",
      "9996    [0, 3714, 3713, 3712, 3711, 3710, 3709, 3708, ...\n",
      "9997    [0, 3714, 3713, 3712, 3711, 3710, 3709, 3708, ...\n",
      "9998    [2335, 3888, 4170, 2579, 4608, 2895, 2428, 365...\n",
      "9999    [1432, 250, 307, 112, 839, 130, 1401, 668, 903...\n",
      "Name: train_interactions, Length: 10000, dtype: object\n",
      "metrs:  {'map': np.float64(0.000517435284350872), 'mrr': np.float64(0.0013962517659717706), 'hr': np.float64(0.0231)}\n",
      "preds:  0       [0, 3714, 3713, 3712, 3711, 3710, 3709, 3708, ...\n",
      "1       [45, 11, 70, 2046, 1432, 539, 195, 1224, 1776,...\n",
      "2       [428, 110, 294, 1104, 368, 1168, 188, 458, 344...\n",
      "3       [0, 3714, 3713, 3712, 3711, 3710, 3709, 3708, ...\n",
      "4       [250, 436, 843, 205, 1948, 1318, 219, 340, 819...\n",
      "                              ...                        \n",
      "9995    [45, 1406, 1643, 933, 4554, 2190, 3557, 398, 2...\n",
      "9996    [0, 3714, 3713, 3712, 3711, 3710, 3709, 3708, ...\n",
      "9997    [0, 3714, 3713, 3712, 3711, 3710, 3709, 3708, ...\n",
      "9998    [2335, 3888, 4170, 2579, 4608, 2895, 2428, 365...\n",
      "9999    [1432, 250, 307, 112, 839, 130, 1401, 668, 903...\n",
      "Name: train_interactions, Length: 10000, dtype: object\n",
      "metrs:  {'map': np.float64(0.0005250539500689485), 'mrr': np.float64(0.0014169273046118625), 'hr': np.float64(0.0247)}\n",
      "preds:  0       [0, 3714, 3713, 3712, 3711, 3710, 3709, 3708, ...\n",
      "1       [45, 11, 70, 2046, 1432, 539, 195, 1224, 1776,...\n",
      "2       [428, 110, 294, 1104, 368, 1168, 188, 458, 344...\n",
      "3       [0, 3714, 3713, 3712, 3711, 3710, 3709, 3708, ...\n",
      "4       [250, 436, 843, 205, 1948, 1318, 219, 340, 819...\n",
      "                              ...                        \n",
      "9995    [45, 1406, 1643, 933, 4554, 2190, 3557, 398, 2...\n",
      "9996    [0, 3714, 3713, 3712, 3711, 3710, 3709, 3708, ...\n",
      "9997    [0, 3714, 3713, 3712, 3711, 3710, 3709, 3708, ...\n",
      "9998    [2335, 3888, 4170, 2579, 4608, 2895, 2428, 365...\n",
      "9999    [1432, 250, 307, 112, 839, 130, 1401, 668, 903...\n",
      "Name: train_interactions, Length: 10000, dtype: object\n",
      "metrs:  {'map': np.float64(0.0005316361846274139), 'mrr': np.float64(0.0014423377069612132), 'hr': np.float64(0.0269)}\n"
     ]
    }
   ],
   "source": [
    "results = plot_quality_vs_topk()"
   ]
  },
  {
   "cell_type": "code",
   "execution_count": 361,
   "id": "3d8c6fa5127111eb",
   "metadata": {
    "ExecuteTime": {
     "end_time": "2025-02-11T19:04:21.496489Z",
     "start_time": "2025-02-11T19:04:21.492187Z"
    }
   },
   "outputs": [
    {
     "data": {
      "text/plain": [
       "{'HR@K': {10: [np.float64(0.01451)],\n",
       "  12: [np.float64(0.007880000000000002)],\n",
       "  14: [np.float64(0.008490000000000001)],\n",
       "  16: [np.float64(0.017830000000000002)],\n",
       "  18: [np.float64(0.00877)],\n",
       "  20: [np.float64(0.01584)]},\n",
       " 'MAP@K': {10: [np.float64(0.0004094356124976291)],\n",
       "  12: [np.float64(0.00039151251092318614)],\n",
       "  14: [np.float64(0.00022177270595108382)],\n",
       "  16: [np.float64(0.000539193758003395)],\n",
       "  18: [np.float64(0.0002535807714995989)],\n",
       "  20: [np.float64(0.0004232815743769946)]},\n",
       " 'MRR@K': {10: [np.float64(0.0010562304397792475)],\n",
       "  12: [np.float64(0.0011002585280168401)],\n",
       "  14: [np.float64(0.0007393595243466645)],\n",
       "  16: [np.float64(0.0014474339470326933)],\n",
       "  18: [np.float64(0.0007550396189251546)],\n",
       "  20: [np.float64(0.001119429434522267)]}}"
      ]
     },
     "execution_count": 361,
     "metadata": {},
     "output_type": "execute_result"
    }
   ],
   "source": [
    "results"
   ]
  },
  {
   "cell_type": "code",
   "execution_count": 373,
   "id": "55f16aa9873d74aa",
   "metadata": {
    "ExecuteTime": {
     "end_time": "2025-02-11T19:12:14.051810Z",
     "start_time": "2025-02-11T19:12:14.049264Z"
    }
   },
   "outputs": [
    {
     "data": {
      "text/plain": [
       "[np.float64(0.01451),\n",
       " np.float64(0.007880000000000002),\n",
       " np.float64(0.008490000000000001),\n",
       " np.float64(0.017830000000000002),\n",
       " np.float64(0.00877),\n",
       " np.float64(0.01584)]"
      ]
     },
     "execution_count": 373,
     "metadata": {},
     "output_type": "execute_result"
    }
   ],
   "source": [
    "hr_result = []\n",
    "\n",
    "for k, v in results['HR@K'].items():\n",
    "    hr_result.append(v[0])\n",
    "\n",
    "hr_result"
   ]
  },
  {
   "cell_type": "code",
   "execution_count": 376,
   "id": "992d7ddf3e108d82",
   "metadata": {
    "ExecuteTime": {
     "end_time": "2025-02-11T19:17:05.576510Z",
     "start_time": "2025-02-11T19:17:05.573530Z"
    }
   },
   "outputs": [
    {
     "data": {
      "text/plain": [
       "[np.float64(0.0004094356124976291),\n",
       " np.float64(0.00039151251092318614),\n",
       " np.float64(0.00022177270595108382),\n",
       " np.float64(0.000539193758003395),\n",
       " np.float64(0.0002535807714995989),\n",
       " np.float64(0.0004232815743769946)]"
      ]
     },
     "execution_count": 376,
     "metadata": {},
     "output_type": "execute_result"
    }
   ],
   "source": [
    "map_result = []\n",
    "\n",
    "for k, v in results['MAP@K'].items():\n",
    "    map_result.append(v[0])\n",
    "\n",
    "map_result"
   ]
  },
  {
   "cell_type": "code",
   "execution_count": 382,
   "id": "9283d309087057cd",
   "metadata": {
    "ExecuteTime": {
     "end_time": "2025-02-11T19:21:23.299958Z",
     "start_time": "2025-02-11T19:21:23.296171Z"
    }
   },
   "outputs": [
    {
     "data": {
      "text/plain": [
       "[np.float64(0.0010562304397792475),\n",
       " np.float64(0.0011002585280168401),\n",
       " np.float64(0.0007393595243466645),\n",
       " np.float64(0.0014474339470326933),\n",
       " np.float64(0.0007550396189251546),\n",
       " np.float64(0.001119429434522267)]"
      ]
     },
     "execution_count": 382,
     "metadata": {},
     "output_type": "execute_result"
    }
   ],
   "source": [
    "mrr_result = []\n",
    "\n",
    "for k, v in results['MRR@K'].items():\n",
    "    mrr_result.append(v[0])\n",
    "\n",
    "mrr_result"
   ]
  },
  {
   "cell_type": "code",
   "execution_count": 385,
   "id": "e688f676895be01a",
   "metadata": {
    "ExecuteTime": {
     "end_time": "2025-02-11T19:26:31.434655Z",
     "start_time": "2025-02-11T19:26:31.367927Z"
    }
   },
   "outputs": [
    {
     "name": "stderr",
     "output_type": "stream",
     "text": [
      "/var/folders/c7/pltxzd0965307j_5v2_v9brh0000gn/T/ipykernel_41708/3098689887.py:9: UserWarning: No artists with labels found to put in legend.  Note that artists whose label start with an underscore are ignored when legend() is called with no argument.\n",
      "  plt.legend()\n"
     ]
    },
    {
     "data": {
      "image/png": "[encoded data removed]",
      "text/plain": [
       "<Figure size 1000x600 with 1 Axes>"
      ]
     },
     "metadata": {},
     "output_type": "display_data"
    }
   ],
   "source": [
    "top_k = range(1, 100, 10)\n",
    "min_freq_values = range(10, 21, 2)\n",
    "\n",
    "plt.figure(figsize=(10, 6))\n",
    "plt.plot(min_freq_values, hr_result,)\n",
    "plt.xlabel(\"min_freq_values\")\n",
    "plt.ylabel(\"Metric Value\")\n",
    "plt.title(\"hr metric vs min freq values\")\n",
    "plt.legend()\n",
    "plt.grid()\n",
    "plt.show()"
   ]
  },
  {
   "cell_type": "code",
   "execution_count": 386,
   "id": "40b4da4dbd55b17e",
   "metadata": {
    "ExecuteTime": {
     "end_time": "2025-02-11T19:26:39.491575Z",
     "start_time": "2025-02-11T19:26:39.425199Z"
    }
   },
   "outputs": [
    {
     "name": "stderr",
     "output_type": "stream",
     "text": [
      "/var/folders/c7/pltxzd0965307j_5v2_v9brh0000gn/T/ipykernel_41708/328020803.py:9: UserWarning: No artists with labels found to put in legend.  Note that artists whose label start with an underscore are ignored when legend() is called with no argument.\n",
      "  plt.legend()\n"
     ]
    },
    {
     "data": {
      "image/png": "[encoded data removed]",
      "text/plain": [
       "<Figure size 1000x600 with 1 Axes>"
      ]
     },
     "metadata": {},
     "output_type": "display_data"
    }
   ],
   "source": [
    "top_k = range(1, 100, 10)\n",
    "min_freq_values = range(10, 21, 2)\n",
    "\n",
    "plt.figure(figsize=(10, 6))\n",
    "plt.plot(min_freq_values, map_result,)\n",
    "plt.xlabel(\"min_freq_values\")\n",
    "plt.ylabel(\"Metric Value\")\n",
    "plt.title(\"map metric vs min freq values\")\n",
    "plt.legend()\n",
    "plt.grid()\n",
    "plt.show()"
   ]
  },
  {
   "cell_type": "code",
   "execution_count": 387,
   "id": "85379b1bad66f5d7",
   "metadata": {
    "ExecuteTime": {
     "end_time": "2025-02-11T19:26:47.499804Z",
     "start_time": "2025-02-11T19:26:47.432466Z"
    }
   },
   "outputs": [
    {
     "name": "stderr",
     "output_type": "stream",
     "text": [
      "/var/folders/c7/pltxzd0965307j_5v2_v9brh0000gn/T/ipykernel_41708/706765406.py:9: UserWarning: No artists with labels found to put in legend.  Note that artists whose label start with an underscore are ignored when legend() is called with no argument.\n",
      "  plt.legend()\n"
     ]
    },
    {
     "data": {
      "image/png": "[encoded data removed]",
      "text/plain": [
       "<Figure size 1000x600 with 1 Axes>"
      ]
     },
     "metadata": {},
     "output_type": "display_data"
    }
   ],
   "source": [
    "top_k = range(1, 100, 10)\n",
    "min_freq_values = range(10, 21, 2)\n",
    "\n",
    "plt.figure(figsize=(10, 6))\n",
    "plt.plot(min_freq_values, mrr_result)\n",
    "plt.xlabel(\"min_freq_values\")\n",
    "plt.ylabel(\"Metric Value\")\n",
    "plt.title(\"mrr metric vs min freq values\")\n",
    "plt.legend()\n",
    "plt.grid()\n",
    "plt.show()"
   ]
  },
  {
   "cell_type": "markdown",
   "id": "fec3b4b8-e2e0-4722-9f33-08922afe9ac8",
   "metadata": {
    "id": "fec3b4b8-e2e0-4722-9f33-08922afe9ac8"
   },
   "source": [
    "Что вы можете сказать на основе полученных графиков? Соответствуют ли они вашим ожиданиям?\n",
    "\n",
    "**Ответ:** Нет, не соответствует ожиданиям. Какой-то сильной зависимости нет"
   ]
  },
  {
   "cell_type": "markdown",
   "id": "3448c27a-aadb-4c6a-b17a-84bd58761e67",
   "metadata": {
    "id": "3448c27a-aadb-4c6a-b17a-84bd58761e67"
   },
   "source": [
    "**Задание №10. Интерпретируемые рекомендации**\n",
    "\n",
    "Используйте выученную матрицу весов для item2item рекомендаций. Приведите 10 примеров топ-5 рекомендаций от EASE к сэмплируемым айтемам. Используйте названия фильмов вместо id при выводе рекомендаций."
   ]
  },
  {
   "cell_type": "code",
   "execution_count": 451,
   "id": "a10737930f60a500",
   "metadata": {
    "ExecuteTime": {
     "end_time": "2025-02-11T20:05:08.216546Z",
     "start_time": "2025-02-11T20:05:08.213436Z"
    }
   },
   "outputs": [
    {
     "data": {
      "text/plain": [
       "array([ 9506,  1659,  7107, ..., 10064, 13019, 10542], shape=(15706,))"
      ]
     },
     "execution_count": 451,
     "metadata": {},
     "output_type": "execute_result"
    }
   ],
   "source": [
    "np.array(list(item2id.keys()))"
   ]
  },
  {
   "cell_type": "code",
   "execution_count": 404,
   "id": "fac2ea4b693246a8",
   "metadata": {
    "ExecuteTime": {
     "end_time": "2025-02-11T19:46:30.075613Z",
     "start_time": "2025-02-11T19:46:02.647812Z"
    }
   },
   "outputs": [],
   "source": [
    "w = fit_ease(matrix)"
   ]
  },
  {
   "cell_type": "code",
   "execution_count": 452,
   "id": "83946038-22e8-461f-8385-dd308a284825",
   "metadata": {
    "ExecuteTime": {
     "end_time": "2025-02-11T20:05:40.688874Z",
     "start_time": "2025-02-11T20:05:40.685830Z"
    },
    "id": "83946038-22e8-461f-8385-dd308a284825"
   },
   "outputs": [],
   "source": [
    "def get_item2item_recommendations(w, num_samples=10, top_n=5):\n",
    "    \"\"\"\n",
    "    Generate item-to-item recommendations using EASE weight matrix.\n",
    "    \"\"\"\n",
    "    sampled_items = np.random.choice(np.array(list(item2id.keys())), num_samples, replace=False)\n",
    "    recommendations = {}\n",
    "\n",
    "    for item in sampled_items:\n",
    "        if item not in item2id:\n",
    "            continue  # Пропускаем, если айтема нет в словаре\n",
    "\n",
    "        item_idx = item2id[item]\n",
    "        item_weights = w[item_idx]\n",
    "\n",
    "        # Получаем топ-N рекомендаций, исключая сам айтем\n",
    "        top_items = np.argsort(-item_weights).tolist()\n",
    "        top_items = [int(idx) for idx in top_items if idx != item_idx and idx in id2item][:top_n]\n",
    "\n",
    "        if len(top_items) == 0:\n",
    "            continue  # Пропускаем, если не осталось рекомендаций\n",
    "\n",
    "        # Получаем название исходного фильма\n",
    "        movie_title = items.loc[items['item_id'] == item, 'title']\n",
    "        if movie_title.empty:\n",
    "            continue  # Пропускаем, если фильм не найден\n",
    "        movie_title = movie_title.iloc[0]\n",
    "\n",
    "        # Получаем названия рекомендованных фильмов\n",
    "        recommended_titles = []\n",
    "        for rec in top_items:\n",
    "            rec_item_id = id2item[rec]\n",
    "            rec_title = items.loc[items['item_id'] == rec_item_id, 'title']\n",
    "            if not rec_title.empty:\n",
    "                recommended_titles.append(rec_title.iloc[0])\n",
    "\n",
    "        recommendations[movie_title] = recommended_titles\n",
    "\n",
    "    return recommendations\n"
   ]
  },
  {
   "cell_type": "code",
   "execution_count": 453,
   "id": "57665865a3a1926b",
   "metadata": {
    "ExecuteTime": {
     "end_time": "2025-02-11T20:05:41.188531Z",
     "start_time": "2025-02-11T20:05:41.129527Z"
    }
   },
   "outputs": [
    {
     "ename": "ValueError",
     "evalue": "the 'dtype' parameter is not supported in the pandas implementation of prod()",
     "output_type": "error",
     "traceback": [
      "\u001b[0;31m---------------------------------------------------------------------------\u001b[0m",
      "\u001b[0;31mValueError\u001b[0m                                Traceback (most recent call last)",
      "Cell \u001b[0;32mIn[453], line 1\u001b[0m\n\u001b[0;32m----> 1\u001b[0m \u001b[43mget_item2item_recommendations\u001b[49m\u001b[43m(\u001b[49m\u001b[43mw\u001b[49m\u001b[43m,\u001b[49m\u001b[43m \u001b[49m\u001b[43mfiltered_train\u001b[49m\u001b[43m)\u001b[49m\n",
      "Cell \u001b[0;32mIn[452], line 5\u001b[0m, in \u001b[0;36mget_item2item_recommendations\u001b[0;34m(w, num_samples, top_n)\u001b[0m\n\u001b[1;32m      1\u001b[0m \u001b[38;5;28;01mdef\u001b[39;00m\u001b[38;5;250m \u001b[39m\u001b[38;5;21mget_item2item_recommendations\u001b[39m(w, num_samples\u001b[38;5;241m=\u001b[39m\u001b[38;5;241m10\u001b[39m, top_n\u001b[38;5;241m=\u001b[39m\u001b[38;5;241m5\u001b[39m):\n\u001b[1;32m      2\u001b[0m \u001b[38;5;250m    \u001b[39m\u001b[38;5;124;03m\"\"\"\u001b[39;00m\n\u001b[1;32m      3\u001b[0m \u001b[38;5;124;03m    Generate item-to-item recommendations using EASE weight matrix.\u001b[39;00m\n\u001b[1;32m      4\u001b[0m \u001b[38;5;124;03m    \"\"\"\u001b[39;00m\n\u001b[0;32m----> 5\u001b[0m     sampled_items \u001b[38;5;241m=\u001b[39m \u001b[43mnp\u001b[49m\u001b[38;5;241;43m.\u001b[39;49m\u001b[43mrandom\u001b[49m\u001b[38;5;241;43m.\u001b[39;49m\u001b[43mchoice\u001b[49m\u001b[43m(\u001b[49m\u001b[43mnp\u001b[49m\u001b[38;5;241;43m.\u001b[39;49m\u001b[43marray\u001b[49m\u001b[43m(\u001b[49m\u001b[38;5;28;43mlist\u001b[39;49m\u001b[43m(\u001b[49m\u001b[43mitem2id\u001b[49m\u001b[38;5;241;43m.\u001b[39;49m\u001b[43mkeys\u001b[49m\u001b[43m(\u001b[49m\u001b[43m)\u001b[49m\u001b[43m)\u001b[49m\u001b[43m)\u001b[49m\u001b[43m,\u001b[49m\u001b[43m \u001b[49m\u001b[43mnum_samples\u001b[49m\u001b[43m,\u001b[49m\u001b[43m \u001b[49m\u001b[43mreplace\u001b[49m\u001b[38;5;241;43m=\u001b[39;49m\u001b[38;5;28;43;01mFalse\u001b[39;49;00m\u001b[43m)\u001b[49m\n\u001b[1;32m      6\u001b[0m     recommendations \u001b[38;5;241m=\u001b[39m {}\n\u001b[1;32m      8\u001b[0m     \u001b[38;5;28;01mfor\u001b[39;00m item \u001b[38;5;129;01min\u001b[39;00m sampled_items:\n",
      "File \u001b[0;32mnumpy/random/mtrand.pyx:1001\u001b[0m, in \u001b[0;36mnumpy.random.mtrand.RandomState.choice\u001b[0;34m()\u001b[0m\n",
      "File \u001b[0;32m/Library/Frameworks/Python.framework/Versions/3.12/lib/python3.12/site-packages/numpy/_core/fromnumeric.py:3445\u001b[0m, in \u001b[0;36mprod\u001b[0;34m(a, axis, dtype, out, keepdims, initial, where)\u001b[0m\n\u001b[1;32m   3328\u001b[0m \u001b[38;5;129m@array_function_dispatch\u001b[39m(_prod_dispatcher)\n\u001b[1;32m   3329\u001b[0m \u001b[38;5;28;01mdef\u001b[39;00m\u001b[38;5;250m \u001b[39m\u001b[38;5;21mprod\u001b[39m(a, axis\u001b[38;5;241m=\u001b[39m\u001b[38;5;28;01mNone\u001b[39;00m, dtype\u001b[38;5;241m=\u001b[39m\u001b[38;5;28;01mNone\u001b[39;00m, out\u001b[38;5;241m=\u001b[39m\u001b[38;5;28;01mNone\u001b[39;00m, keepdims\u001b[38;5;241m=\u001b[39mnp\u001b[38;5;241m.\u001b[39m_NoValue,\n\u001b[1;32m   3330\u001b[0m          initial\u001b[38;5;241m=\u001b[39mnp\u001b[38;5;241m.\u001b[39m_NoValue, where\u001b[38;5;241m=\u001b[39mnp\u001b[38;5;241m.\u001b[39m_NoValue):\n\u001b[1;32m   3331\u001b[0m \u001b[38;5;250m    \u001b[39m\u001b[38;5;124;03m\"\"\"\u001b[39;00m\n\u001b[1;32m   3332\u001b[0m \u001b[38;5;124;03m    Return the product of array elements over a given axis.\u001b[39;00m\n\u001b[1;32m   3333\u001b[0m \n\u001b[0;32m   (...)\u001b[0m\n\u001b[1;32m   3443\u001b[0m \u001b[38;5;124;03m    10\u001b[39;00m\n\u001b[1;32m   3444\u001b[0m \u001b[38;5;124;03m    \"\"\"\u001b[39;00m\n\u001b[0;32m-> 3445\u001b[0m     \u001b[38;5;28;01mreturn\u001b[39;00m \u001b[43m_wrapreduction\u001b[49m\u001b[43m(\u001b[49m\u001b[43ma\u001b[49m\u001b[43m,\u001b[49m\u001b[43m \u001b[49m\u001b[43mnp\u001b[49m\u001b[38;5;241;43m.\u001b[39;49m\u001b[43mmultiply\u001b[49m\u001b[43m,\u001b[49m\u001b[43m \u001b[49m\u001b[38;5;124;43m'\u001b[39;49m\u001b[38;5;124;43mprod\u001b[39;49m\u001b[38;5;124;43m'\u001b[39;49m\u001b[43m,\u001b[49m\u001b[43m \u001b[49m\u001b[43maxis\u001b[49m\u001b[43m,\u001b[49m\u001b[43m \u001b[49m\u001b[43mdtype\u001b[49m\u001b[43m,\u001b[49m\u001b[43m \u001b[49m\u001b[43mout\u001b[49m\u001b[43m,\u001b[49m\n\u001b[1;32m   3446\u001b[0m \u001b[43m                          \u001b[49m\u001b[43mkeepdims\u001b[49m\u001b[38;5;241;43m=\u001b[39;49m\u001b[43mkeepdims\u001b[49m\u001b[43m,\u001b[49m\u001b[43m \u001b[49m\u001b[43minitial\u001b[49m\u001b[38;5;241;43m=\u001b[39;49m\u001b[43minitial\u001b[49m\u001b[43m,\u001b[49m\u001b[43m \u001b[49m\u001b[43mwhere\u001b[49m\u001b[38;5;241;43m=\u001b[39;49m\u001b[43mwhere\u001b[49m\u001b[43m)\u001b[49m\n",
      "File \u001b[0;32m/Library/Frameworks/Python.framework/Versions/3.12/lib/python3.12/site-packages/numpy/_core/fromnumeric.py:82\u001b[0m, in \u001b[0;36m_wrapreduction\u001b[0;34m(obj, ufunc, method, axis, dtype, out, **kwargs)\u001b[0m\n\u001b[1;32m     78\u001b[0m \u001b[38;5;28;01melse\u001b[39;00m:\n\u001b[1;32m     79\u001b[0m     \u001b[38;5;66;03m# This branch is needed for reductions like any which don't\u001b[39;00m\n\u001b[1;32m     80\u001b[0m     \u001b[38;5;66;03m# support a dtype.\u001b[39;00m\n\u001b[1;32m     81\u001b[0m     \u001b[38;5;28;01mif\u001b[39;00m dtype \u001b[38;5;129;01mis\u001b[39;00m \u001b[38;5;129;01mnot\u001b[39;00m \u001b[38;5;28;01mNone\u001b[39;00m:\n\u001b[0;32m---> 82\u001b[0m         \u001b[38;5;28;01mreturn\u001b[39;00m \u001b[43mreduction\u001b[49m\u001b[43m(\u001b[49m\u001b[43maxis\u001b[49m\u001b[38;5;241;43m=\u001b[39;49m\u001b[43maxis\u001b[49m\u001b[43m,\u001b[49m\u001b[43m \u001b[49m\u001b[43mdtype\u001b[49m\u001b[38;5;241;43m=\u001b[39;49m\u001b[43mdtype\u001b[49m\u001b[43m,\u001b[49m\u001b[43m \u001b[49m\u001b[43mout\u001b[49m\u001b[38;5;241;43m=\u001b[39;49m\u001b[43mout\u001b[49m\u001b[43m,\u001b[49m\u001b[43m \u001b[49m\u001b[38;5;241;43m*\u001b[39;49m\u001b[38;5;241;43m*\u001b[39;49m\u001b[43mpasskwargs\u001b[49m\u001b[43m)\u001b[49m\n\u001b[1;32m     83\u001b[0m     \u001b[38;5;28;01melse\u001b[39;00m:\n\u001b[1;32m     84\u001b[0m         \u001b[38;5;28;01mreturn\u001b[39;00m reduction(axis\u001b[38;5;241m=\u001b[39maxis, out\u001b[38;5;241m=\u001b[39mout, \u001b[38;5;241m*\u001b[39m\u001b[38;5;241m*\u001b[39mpasskwargs)\n",
      "File \u001b[0;32m/Library/Frameworks/Python.framework/Versions/3.12/lib/python3.12/site-packages/pandas/core/frame.py:11682\u001b[0m, in \u001b[0;36mDataFrame.prod\u001b[0;34m(self, axis, skipna, numeric_only, min_count, **kwargs)\u001b[0m\n\u001b[1;32m  11673\u001b[0m \u001b[38;5;129m@doc\u001b[39m(make_doc(\u001b[38;5;124m\"\u001b[39m\u001b[38;5;124mprod\u001b[39m\u001b[38;5;124m\"\u001b[39m, ndim\u001b[38;5;241m=\u001b[39m\u001b[38;5;241m2\u001b[39m))\n\u001b[1;32m  11674\u001b[0m \u001b[38;5;28;01mdef\u001b[39;00m\u001b[38;5;250m \u001b[39m\u001b[38;5;21mprod\u001b[39m(\n\u001b[1;32m  11675\u001b[0m     \u001b[38;5;28mself\u001b[39m,\n\u001b[0;32m   (...)\u001b[0m\n\u001b[1;32m  11680\u001b[0m     \u001b[38;5;241m*\u001b[39m\u001b[38;5;241m*\u001b[39mkwargs,\n\u001b[1;32m  11681\u001b[0m ):\n\u001b[0;32m> 11682\u001b[0m     result \u001b[38;5;241m=\u001b[39m \u001b[38;5;28;43msuper\u001b[39;49m\u001b[43m(\u001b[49m\u001b[43m)\u001b[49m\u001b[38;5;241;43m.\u001b[39;49m\u001b[43mprod\u001b[49m\u001b[43m(\u001b[49m\u001b[43maxis\u001b[49m\u001b[43m,\u001b[49m\u001b[43m \u001b[49m\u001b[43mskipna\u001b[49m\u001b[43m,\u001b[49m\u001b[43m \u001b[49m\u001b[43mnumeric_only\u001b[49m\u001b[43m,\u001b[49m\u001b[43m \u001b[49m\u001b[43mmin_count\u001b[49m\u001b[43m,\u001b[49m\u001b[43m \u001b[49m\u001b[38;5;241;43m*\u001b[39;49m\u001b[38;5;241;43m*\u001b[39;49m\u001b[43mkwargs\u001b[49m\u001b[43m)\u001b[49m\n\u001b[1;32m  11683\u001b[0m     \u001b[38;5;28;01mreturn\u001b[39;00m result\u001b[38;5;241m.\u001b[39m__finalize__(\u001b[38;5;28mself\u001b[39m, method\u001b[38;5;241m=\u001b[39m\u001b[38;5;124m\"\u001b[39m\u001b[38;5;124mprod\u001b[39m\u001b[38;5;124m\"\u001b[39m)\n",
      "File \u001b[0;32m/Library/Frameworks/Python.framework/Versions/3.12/lib/python3.12/site-packages/pandas/core/generic.py:12518\u001b[0m, in \u001b[0;36mNDFrame.prod\u001b[0;34m(self, axis, skipna, numeric_only, min_count, **kwargs)\u001b[0m\n\u001b[1;32m  12510\u001b[0m \u001b[38;5;28;01mdef\u001b[39;00m\u001b[38;5;250m \u001b[39m\u001b[38;5;21mprod\u001b[39m(\n\u001b[1;32m  12511\u001b[0m     \u001b[38;5;28mself\u001b[39m,\n\u001b[1;32m  12512\u001b[0m     axis: Axis \u001b[38;5;241m|\u001b[39m \u001b[38;5;28;01mNone\u001b[39;00m \u001b[38;5;241m=\u001b[39m \u001b[38;5;241m0\u001b[39m,\n\u001b[0;32m   (...)\u001b[0m\n\u001b[1;32m  12516\u001b[0m     \u001b[38;5;241m*\u001b[39m\u001b[38;5;241m*\u001b[39mkwargs,\n\u001b[1;32m  12517\u001b[0m ):\n\u001b[0;32m> 12518\u001b[0m     \u001b[38;5;28;01mreturn\u001b[39;00m \u001b[38;5;28;43mself\u001b[39;49m\u001b[38;5;241;43m.\u001b[39;49m\u001b[43m_min_count_stat_function\u001b[49m\u001b[43m(\u001b[49m\n\u001b[1;32m  12519\u001b[0m \u001b[43m        \u001b[49m\u001b[38;5;124;43m\"\u001b[39;49m\u001b[38;5;124;43mprod\u001b[39;49m\u001b[38;5;124;43m\"\u001b[39;49m\u001b[43m,\u001b[49m\n\u001b[1;32m  12520\u001b[0m \u001b[43m        \u001b[49m\u001b[43mnanops\u001b[49m\u001b[38;5;241;43m.\u001b[39;49m\u001b[43mnanprod\u001b[49m\u001b[43m,\u001b[49m\n\u001b[1;32m  12521\u001b[0m \u001b[43m        \u001b[49m\u001b[43maxis\u001b[49m\u001b[43m,\u001b[49m\n\u001b[1;32m  12522\u001b[0m \u001b[43m        \u001b[49m\u001b[43mskipna\u001b[49m\u001b[43m,\u001b[49m\n\u001b[1;32m  12523\u001b[0m \u001b[43m        \u001b[49m\u001b[43mnumeric_only\u001b[49m\u001b[43m,\u001b[49m\n\u001b[1;32m  12524\u001b[0m \u001b[43m        \u001b[49m\u001b[43mmin_count\u001b[49m\u001b[43m,\u001b[49m\n\u001b[1;32m  12525\u001b[0m \u001b[43m        \u001b[49m\u001b[38;5;241;43m*\u001b[39;49m\u001b[38;5;241;43m*\u001b[39;49m\u001b[43mkwargs\u001b[49m\u001b[43m,\u001b[49m\n\u001b[1;32m  12526\u001b[0m \u001b[43m    \u001b[49m\u001b[43m)\u001b[49m\n",
      "File \u001b[0;32m/Library/Frameworks/Python.framework/Versions/3.12/lib/python3.12/site-packages/pandas/core/generic.py:12471\u001b[0m, in \u001b[0;36mNDFrame._min_count_stat_function\u001b[0;34m(self, name, func, axis, skipna, numeric_only, min_count, **kwargs)\u001b[0m\n\u001b[1;32m  12459\u001b[0m \u001b[38;5;129m@final\u001b[39m\n\u001b[1;32m  12460\u001b[0m \u001b[38;5;28;01mdef\u001b[39;00m\u001b[38;5;250m \u001b[39m\u001b[38;5;21m_min_count_stat_function\u001b[39m(\n\u001b[1;32m  12461\u001b[0m     \u001b[38;5;28mself\u001b[39m,\n\u001b[0;32m   (...)\u001b[0m\n\u001b[1;32m  12468\u001b[0m     \u001b[38;5;241m*\u001b[39m\u001b[38;5;241m*\u001b[39mkwargs,\n\u001b[1;32m  12469\u001b[0m ):\n\u001b[1;32m  12470\u001b[0m     \u001b[38;5;28;01massert\u001b[39;00m name \u001b[38;5;129;01min\u001b[39;00m [\u001b[38;5;124m\"\u001b[39m\u001b[38;5;124msum\u001b[39m\u001b[38;5;124m\"\u001b[39m, \u001b[38;5;124m\"\u001b[39m\u001b[38;5;124mprod\u001b[39m\u001b[38;5;124m\"\u001b[39m], name\n\u001b[0;32m> 12471\u001b[0m     \u001b[43mnv\u001b[49m\u001b[38;5;241;43m.\u001b[39;49m\u001b[43mvalidate_func\u001b[49m\u001b[43m(\u001b[49m\u001b[43mname\u001b[49m\u001b[43m,\u001b[49m\u001b[43m \u001b[49m\u001b[43m(\u001b[49m\u001b[43m)\u001b[49m\u001b[43m,\u001b[49m\u001b[43m \u001b[49m\u001b[43mkwargs\u001b[49m\u001b[43m)\u001b[49m\n\u001b[1;32m  12473\u001b[0m     validate_bool_kwarg(skipna, \u001b[38;5;124m\"\u001b[39m\u001b[38;5;124mskipna\u001b[39m\u001b[38;5;124m\"\u001b[39m, none_allowed\u001b[38;5;241m=\u001b[39m\u001b[38;5;28;01mFalse\u001b[39;00m)\n\u001b[1;32m  12475\u001b[0m     \u001b[38;5;28;01mif\u001b[39;00m axis \u001b[38;5;129;01mis\u001b[39;00m \u001b[38;5;28;01mNone\u001b[39;00m:\n",
      "File \u001b[0;32m/Library/Frameworks/Python.framework/Versions/3.12/lib/python3.12/site-packages/pandas/compat/numpy/function.py:418\u001b[0m, in \u001b[0;36mvalidate_func\u001b[0;34m(fname, args, kwargs)\u001b[0m\n\u001b[1;32m    415\u001b[0m     \u001b[38;5;28;01mreturn\u001b[39;00m validate_stat_func(args, kwargs, fname\u001b[38;5;241m=\u001b[39mfname)\n\u001b[1;32m    417\u001b[0m validation_func \u001b[38;5;241m=\u001b[39m _validation_funcs[fname]\n\u001b[0;32m--> 418\u001b[0m \u001b[38;5;28;01mreturn\u001b[39;00m \u001b[43mvalidation_func\u001b[49m\u001b[43m(\u001b[49m\u001b[43margs\u001b[49m\u001b[43m,\u001b[49m\u001b[43m \u001b[49m\u001b[43mkwargs\u001b[49m\u001b[43m)\u001b[49m\n",
      "File \u001b[0;32m/Library/Frameworks/Python.framework/Versions/3.12/lib/python3.12/site-packages/pandas/compat/numpy/function.py:88\u001b[0m, in \u001b[0;36mCompatValidator.__call__\u001b[0;34m(self, args, kwargs, fname, max_fname_arg_count, method)\u001b[0m\n\u001b[1;32m     86\u001b[0m     validate_kwargs(fname, kwargs, \u001b[38;5;28mself\u001b[39m\u001b[38;5;241m.\u001b[39mdefaults)\n\u001b[1;32m     87\u001b[0m \u001b[38;5;28;01melif\u001b[39;00m method \u001b[38;5;241m==\u001b[39m \u001b[38;5;124m\"\u001b[39m\u001b[38;5;124mboth\u001b[39m\u001b[38;5;124m\"\u001b[39m:\n\u001b[0;32m---> 88\u001b[0m     \u001b[43mvalidate_args_and_kwargs\u001b[49m\u001b[43m(\u001b[49m\n\u001b[1;32m     89\u001b[0m \u001b[43m        \u001b[49m\u001b[43mfname\u001b[49m\u001b[43m,\u001b[49m\u001b[43m \u001b[49m\u001b[43margs\u001b[49m\u001b[43m,\u001b[49m\u001b[43m \u001b[49m\u001b[43mkwargs\u001b[49m\u001b[43m,\u001b[49m\u001b[43m \u001b[49m\u001b[43mmax_fname_arg_count\u001b[49m\u001b[43m,\u001b[49m\u001b[43m \u001b[49m\u001b[38;5;28;43mself\u001b[39;49m\u001b[38;5;241;43m.\u001b[39;49m\u001b[43mdefaults\u001b[49m\n\u001b[1;32m     90\u001b[0m \u001b[43m    \u001b[49m\u001b[43m)\u001b[49m\n\u001b[1;32m     91\u001b[0m \u001b[38;5;28;01melse\u001b[39;00m:\n\u001b[1;32m     92\u001b[0m     \u001b[38;5;28;01mraise\u001b[39;00m \u001b[38;5;167;01mValueError\u001b[39;00m(\u001b[38;5;124mf\u001b[39m\u001b[38;5;124m\"\u001b[39m\u001b[38;5;124minvalid validation method \u001b[39m\u001b[38;5;124m'\u001b[39m\u001b[38;5;132;01m{\u001b[39;00mmethod\u001b[38;5;132;01m}\u001b[39;00m\u001b[38;5;124m'\u001b[39m\u001b[38;5;124m\"\u001b[39m)\n",
      "File \u001b[0;32m/Library/Frameworks/Python.framework/Versions/3.12/lib/python3.12/site-packages/pandas/util/_validators.py:223\u001b[0m, in \u001b[0;36mvalidate_args_and_kwargs\u001b[0;34m(fname, args, kwargs, max_fname_arg_count, compat_args)\u001b[0m\n\u001b[1;32m    218\u001b[0m         \u001b[38;5;28;01mraise\u001b[39;00m \u001b[38;5;167;01mTypeError\u001b[39;00m(\n\u001b[1;32m    219\u001b[0m             \u001b[38;5;124mf\u001b[39m\u001b[38;5;124m\"\u001b[39m\u001b[38;5;132;01m{\u001b[39;00mfname\u001b[38;5;132;01m}\u001b[39;00m\u001b[38;5;124m() got multiple values for keyword argument \u001b[39m\u001b[38;5;124m'\u001b[39m\u001b[38;5;132;01m{\u001b[39;00mkey\u001b[38;5;132;01m}\u001b[39;00m\u001b[38;5;124m'\u001b[39m\u001b[38;5;124m\"\u001b[39m\n\u001b[1;32m    220\u001b[0m         )\n\u001b[1;32m    222\u001b[0m kwargs\u001b[38;5;241m.\u001b[39mupdate(args_dict)\n\u001b[0;32m--> 223\u001b[0m \u001b[43mvalidate_kwargs\u001b[49m\u001b[43m(\u001b[49m\u001b[43mfname\u001b[49m\u001b[43m,\u001b[49m\u001b[43m \u001b[49m\u001b[43mkwargs\u001b[49m\u001b[43m,\u001b[49m\u001b[43m \u001b[49m\u001b[43mcompat_args\u001b[49m\u001b[43m)\u001b[49m\n",
      "File \u001b[0;32m/Library/Frameworks/Python.framework/Versions/3.12/lib/python3.12/site-packages/pandas/util/_validators.py:165\u001b[0m, in \u001b[0;36mvalidate_kwargs\u001b[0;34m(fname, kwargs, compat_args)\u001b[0m\n\u001b[1;32m    163\u001b[0m kwds \u001b[38;5;241m=\u001b[39m kwargs\u001b[38;5;241m.\u001b[39mcopy()\n\u001b[1;32m    164\u001b[0m _check_for_invalid_keys(fname, kwargs, compat_args)\n\u001b[0;32m--> 165\u001b[0m \u001b[43m_check_for_default_values\u001b[49m\u001b[43m(\u001b[49m\u001b[43mfname\u001b[49m\u001b[43m,\u001b[49m\u001b[43m \u001b[49m\u001b[43mkwds\u001b[49m\u001b[43m,\u001b[49m\u001b[43m \u001b[49m\u001b[43mcompat_args\u001b[49m\u001b[43m)\u001b[49m\n",
      "File \u001b[0;32m/Library/Frameworks/Python.framework/Versions/3.12/lib/python3.12/site-packages/pandas/util/_validators.py:81\u001b[0m, in \u001b[0;36m_check_for_default_values\u001b[0;34m(fname, arg_val_dict, compat_args)\u001b[0m\n\u001b[1;32m     78\u001b[0m     match \u001b[38;5;241m=\u001b[39m arg_val_dict[key] \u001b[38;5;129;01mis\u001b[39;00m compat_args[key]\n\u001b[1;32m     80\u001b[0m \u001b[38;5;28;01mif\u001b[39;00m \u001b[38;5;129;01mnot\u001b[39;00m match:\n\u001b[0;32m---> 81\u001b[0m     \u001b[38;5;28;01mraise\u001b[39;00m \u001b[38;5;167;01mValueError\u001b[39;00m(\n\u001b[1;32m     82\u001b[0m         \u001b[38;5;124mf\u001b[39m\u001b[38;5;124m\"\u001b[39m\u001b[38;5;124mthe \u001b[39m\u001b[38;5;124m'\u001b[39m\u001b[38;5;132;01m{\u001b[39;00mkey\u001b[38;5;132;01m}\u001b[39;00m\u001b[38;5;124m'\u001b[39m\u001b[38;5;124m parameter is not supported in \u001b[39m\u001b[38;5;124m\"\u001b[39m\n\u001b[1;32m     83\u001b[0m         \u001b[38;5;124mf\u001b[39m\u001b[38;5;124m\"\u001b[39m\u001b[38;5;124mthe pandas implementation of \u001b[39m\u001b[38;5;132;01m{\u001b[39;00mfname\u001b[38;5;132;01m}\u001b[39;00m\u001b[38;5;124m()\u001b[39m\u001b[38;5;124m\"\u001b[39m\n\u001b[1;32m     84\u001b[0m     )\n",
      "\u001b[0;31mValueError\u001b[0m: the 'dtype' parameter is not supported in the pandas implementation of prod()"
     ]
    }
   ],
   "source": [
    "get_item2item_recommendations(w, filtered_train)"
   ]
  },
  {
   "cell_type": "markdown",
   "id": "8fed8a63-c95d-458b-b437-2856927c85bb",
   "metadata": {
    "id": "8fed8a63-c95d-458b-b437-2856927c85bb"
   },
   "source": [
    "Хорошие ли получились рекомендации? Почему? Есть ли хорошие примеры? Есть ли плохие? Почему бывают плохие примеры?\n",
    "\n",
    "**Ответ:**"
   ]
  }
 ],
 "metadata": {
  "colab": {
   "provenance": []
  },
  "kernelspec": {
   "display_name": "base",
   "language": "python",
   "name": "python3"
  },
  "language_info": {
   "codemirror_mode": {
    "name": "ipython",
    "version": 3
   },
   "file_extension": ".py",
   "mimetype": "text/x-python",
   "name": "python",
   "nbconvert_exporter": "python",
   "pygments_lexer": "ipython3",
   "version": "3.10.10"
  }
 },
 "nbformat": 4,
 "nbformat_minor": 5
}
