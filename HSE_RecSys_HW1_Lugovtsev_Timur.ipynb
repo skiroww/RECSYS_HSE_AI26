{
 "cells": [
  {
   "cell_type": "markdown",
   "id": "c865b610-e175-4e9f-be2f-995e43e45332",
   "metadata": {
    "id": "c865b610-e175-4e9f-be2f-995e43e45332"
   },
   "source": [
    "## ДЗ №1. Метрики и простейшие алгоритмы рекомендаций"
   ]
  },
  {
   "cell_type": "markdown",
   "id": "16ff81db-dc65-4d89-8c79-d4e2a6e71879",
   "metadata": {
    "id": "16ff81db-dc65-4d89-8c79-d4e2a6e71879"
   },
   "source": [
    "## Общая информация\n",
    "**Дата выдачи: 4 февраля 2025**\n",
    "\n",
    "**Дедлайн: 12 февраля 2025 23:59 MSK**"
   ]
  },
  {
   "cell_type": "code",
   "execution_count": 1,
   "id": "e5fbada3-40bc-4748-9897-1c0e15d7892a",
   "metadata": {
    "id": "e5fbada3-40bc-4748-9897-1c0e15d7892a"
   },
   "outputs": [],
   "source": [
    "import pandas as pd\n",
    "import numpy as np\n",
    "from matplotlib import pyplot as plt\n",
    "from tqdm.auto import tqdm\n",
    "from typing import List, Optional, Dict, Any\n",
    "from metric_tests import run_tests\n",
    "%matplotlib inline"
   ]
  },
  {
   "cell_type": "markdown",
   "id": "4098f8b8-a49a-4a66-92e2-e75c7acc4988",
   "metadata": {
    "id": "4098f8b8-a49a-4a66-92e2-e75c7acc4988"
   },
   "source": [
    "## О задании\n",
    "\n",
    "В этой работе мы посмотрим на то, как работают самые простые модели для рекомендаций. Как правило, они не требуют построения специальных моделей, но даже так оказываются полезны в качестве бейзлайна. Попробуем сделать предсказания с помощью EASE. Это тоже довольно простой подход, но не стоит забывать, что сложные модели могут оказаться не лучшим выбором в условиях большого количества данных. Посчитаем метрики, построим графики и подумаем, насколько хорошо эти модели вообще решают поставленную задачу.\n",
    "\n",
    "Мы будем работать с датасетом по рекомендации фильмов от Kion MTS, который был дан для соревнования. Сперва нужно его предобработать, эта часть повторяет то, что было на семинаре. \n",
    "\n",
    "Датасет необходимо скачать: https://ods.ai/competitions/competition-recsys-21/data\n",
    "\n",
    "Оттуда нужны файлы `interactions.csv` и `items.csv`\n",
    "\n",
    "Каждое задание весит **1 балл**, если выполнено полностью и без ошибок, **0 баллов** ставится при наличии хотя бы 1 ошибки. Максимальная оценка - **10 баллов**. Шаблоны функций и классов можно менять по своему усмотрению."
   ]
  },
  {
   "cell_type": "code",
   "execution_count": 2,
   "id": "02af9415-838f-446e-80ed-f6083cc9cb27",
   "metadata": {
    "colab": {
     "base_uri": "https://localhost:8080/",
     "height": 206
    },
    "id": "02af9415-838f-446e-80ed-f6083cc9cb27",
    "outputId": "38e0880c-09b1-4b18-9477-6fc6d0ca0990"
   },
   "outputs": [
    {
     "data": {
      "text/html": [
       "<div>\n",
       "<style scoped>\n",
       "    .dataframe tbody tr th:only-of-type {\n",
       "        vertical-align: middle;\n",
       "    }\n",
       "\n",
       "    .dataframe tbody tr th {\n",
       "        vertical-align: top;\n",
       "    }\n",
       "\n",
       "    .dataframe thead th {\n",
       "        text-align: right;\n",
       "    }\n",
       "</style>\n",
       "<table border=\"1\" class=\"dataframe\">\n",
       "  <thead>\n",
       "    <tr style=\"text-align: right;\">\n",
       "      <th></th>\n",
       "      <th>user_id</th>\n",
       "      <th>item_id</th>\n",
       "      <th>last_watch_dt</th>\n",
       "      <th>total_dur</th>\n",
       "      <th>watched_pct</th>\n",
       "    </tr>\n",
       "  </thead>\n",
       "  <tbody>\n",
       "    <tr>\n",
       "      <th>0</th>\n",
       "      <td>176549</td>\n",
       "      <td>9506</td>\n",
       "      <td>2021-05-11</td>\n",
       "      <td>4250</td>\n",
       "      <td>72.0</td>\n",
       "    </tr>\n",
       "    <tr>\n",
       "      <th>1</th>\n",
       "      <td>699317</td>\n",
       "      <td>1659</td>\n",
       "      <td>2021-05-29</td>\n",
       "      <td>8317</td>\n",
       "      <td>100.0</td>\n",
       "    </tr>\n",
       "    <tr>\n",
       "      <th>2</th>\n",
       "      <td>656683</td>\n",
       "      <td>7107</td>\n",
       "      <td>2021-05-09</td>\n",
       "      <td>10</td>\n",
       "      <td>0.0</td>\n",
       "    </tr>\n",
       "    <tr>\n",
       "      <th>3</th>\n",
       "      <td>864613</td>\n",
       "      <td>7638</td>\n",
       "      <td>2021-07-05</td>\n",
       "      <td>14483</td>\n",
       "      <td>100.0</td>\n",
       "    </tr>\n",
       "    <tr>\n",
       "      <th>4</th>\n",
       "      <td>964868</td>\n",
       "      <td>9506</td>\n",
       "      <td>2021-04-30</td>\n",
       "      <td>6725</td>\n",
       "      <td>100.0</td>\n",
       "    </tr>\n",
       "  </tbody>\n",
       "</table>\n",
       "</div>"
      ],
      "text/plain": [
       "   user_id  item_id last_watch_dt  total_dur  watched_pct\n",
       "0   176549     9506    2021-05-11       4250         72.0\n",
       "1   699317     1659    2021-05-29       8317        100.0\n",
       "2   656683     7107    2021-05-09         10          0.0\n",
       "3   864613     7638    2021-07-05      14483        100.0\n",
       "4   964868     9506    2021-04-30       6725        100.0"
      ]
     },
     "execution_count": 2,
     "metadata": {},
     "output_type": "execute_result"
    }
   ],
   "source": [
    "df = pd.read_csv('interactions.csv').iloc[:-1]\n",
    "df.head()"
   ]
  },
  {
   "cell_type": "code",
   "execution_count": 3,
   "id": "78153b4e-975b-4493-95e7-e503f7c68757",
   "metadata": {
    "colab": {
     "base_uri": "https://localhost:8080/",
     "height": 206
    },
    "id": "78153b4e-975b-4493-95e7-e503f7c68757",
    "outputId": "d4cdad47-aca2-4140-bf48-511b57b6ca9e"
   },
   "outputs": [
    {
     "data": {
      "text/html": [
       "<div>\n",
       "<style scoped>\n",
       "    .dataframe tbody tr th:only-of-type {\n",
       "        vertical-align: middle;\n",
       "    }\n",
       "\n",
       "    .dataframe tbody tr th {\n",
       "        vertical-align: top;\n",
       "    }\n",
       "\n",
       "    .dataframe thead th {\n",
       "        text-align: right;\n",
       "    }\n",
       "</style>\n",
       "<table border=\"1\" class=\"dataframe\">\n",
       "  <thead>\n",
       "    <tr style=\"text-align: right;\">\n",
       "      <th></th>\n",
       "      <th>user_id</th>\n",
       "      <th>item_id</th>\n",
       "      <th>last_watch_dt</th>\n",
       "      <th>total_dur</th>\n",
       "      <th>watched_pct</th>\n",
       "    </tr>\n",
       "  </thead>\n",
       "  <tbody>\n",
       "    <tr>\n",
       "      <th>2889439</th>\n",
       "      <td>351131</td>\n",
       "      <td>9728</td>\n",
       "      <td>105</td>\n",
       "      <td>1070</td>\n",
       "      <td>16.0</td>\n",
       "    </tr>\n",
       "    <tr>\n",
       "      <th>2000066</th>\n",
       "      <td>364564</td>\n",
       "      <td>4151</td>\n",
       "      <td>38</td>\n",
       "      <td>13305</td>\n",
       "      <td>88.0</td>\n",
       "    </tr>\n",
       "    <tr>\n",
       "      <th>4203377</th>\n",
       "      <td>941786</td>\n",
       "      <td>4151</td>\n",
       "      <td>44</td>\n",
       "      <td>1036</td>\n",
       "      <td>13.0</td>\n",
       "    </tr>\n",
       "    <tr>\n",
       "      <th>2406379</th>\n",
       "      <td>250216</td>\n",
       "      <td>10994</td>\n",
       "      <td>100</td>\n",
       "      <td>15136</td>\n",
       "      <td>100.0</td>\n",
       "    </tr>\n",
       "    <tr>\n",
       "      <th>474670</th>\n",
       "      <td>878091</td>\n",
       "      <td>12192</td>\n",
       "      <td>159</td>\n",
       "      <td>14</td>\n",
       "      <td>0.0</td>\n",
       "    </tr>\n",
       "  </tbody>\n",
       "</table>\n",
       "</div>"
      ],
      "text/plain": [
       "         user_id  item_id  last_watch_dt  total_dur  watched_pct\n",
       "2889439   351131     9728            105       1070         16.0\n",
       "2000066   364564     4151             38      13305         88.0\n",
       "4203377   941786     4151             44       1036         13.0\n",
       "2406379   250216    10994            100      15136        100.0\n",
       "474670    878091    12192            159         14          0.0"
      ]
     },
     "execution_count": 3,
     "metadata": {},
     "output_type": "execute_result"
    }
   ],
   "source": [
    "df['last_watch_dt'] = (pd.to_datetime(df['last_watch_dt']) - pd.to_datetime(df['last_watch_dt']).min())\n",
    "df['last_watch_dt'] = df.last_watch_dt.apply(lambda x: int(str(x).split()[0]))\n",
    "df.sample(5)"
   ]
  },
  {
   "cell_type": "markdown",
   "id": "DnuIUsrRj0Tk",
   "metadata": {
    "id": "DnuIUsrRj0Tk"
   },
   "source": [
    "Сделаем разбиение по времени"
   ]
  },
  {
   "cell_type": "code",
   "execution_count": 4,
   "id": "1a0df672-7a64-4ba7-aea2-9aed9c13ecb6",
   "metadata": {
    "colab": {
     "base_uri": "https://localhost:8080/",
     "height": 447
    },
    "id": "1a0df672-7a64-4ba7-aea2-9aed9c13ecb6",
    "outputId": "6991b14a-91a5-4f3a-8f28-c5914132839a"
   },
   "outputs": [
    {
     "data": {
      "text/plain": [
       "<Axes: >"
      ]
     },
     "execution_count": 4,
     "metadata": {},
     "output_type": "execute_result"
    },
    {
     "data": {
      "image/png": "[encoded data removed]",
      "text/plain": [
       "<Figure size 640x480 with 1 Axes>"
      ]
     },
     "metadata": {},
     "output_type": "display_data"
    }
   ],
   "source": [
    "df.last_watch_dt.hist(bins=50)"
   ]
  },
  {
   "cell_type": "code",
   "execution_count": 5,
   "id": "1017b62e-68ce-4bfb-b44f-9e1b391aa08b",
   "metadata": {
    "colab": {
     "base_uri": "https://localhost:8080/"
    },
    "id": "1017b62e-68ce-4bfb-b44f-9e1b391aa08b",
    "outputId": "730db660-a2f0-4f12-f54c-b794f299a41b"
   },
   "outputs": [
    {
     "name": "stdout",
     "output_type": "stream",
     "text": [
      "число людей и там и там:  134670\n",
      "число людей всего: 880449\n"
     ]
    }
   ],
   "source": [
    "train_df = df.loc[(df.last_watch_dt < 160-7)].copy()\n",
    "test_df = df.loc[(df.last_watch_dt >= 160-7)].copy()\n",
    "\n",
    "train_users = train_df.user_id.unique()\n",
    "test_users = test_df.user_id.unique()\n",
    "\n",
    "all_included = np.intersect1d(train_users, test_users)\n",
    "\n",
    "print('число людей и там и там: ', all_included.shape[0])\n",
    "print('число людей всего:', train_users.shape[0])"
   ]
  },
  {
   "cell_type": "code",
   "execution_count": 6,
   "id": "8f30d288-bdd7-4304-81ef-61c3b9b75ac9",
   "metadata": {
    "colab": {
     "base_uri": "https://localhost:8080/"
    },
    "id": "8f30d288-bdd7-4304-81ef-61c3b9b75ac9",
    "outputId": "56b765fb-2bfb-47e1-bf06-c594bde79921"
   },
   "outputs": [
    {
     "data": {
      "text/plain": [
       "0.37768022181146027"
      ]
     },
     "execution_count": 6,
     "metadata": {},
     "output_type": "execute_result"
    }
   ],
   "source": [
    "len(set(test_users) - set(train_users)) / len(test_users)"
   ]
  },
  {
   "cell_type": "markdown",
   "id": "de1eb6f2-f78c-4403-aebd-a0561a049360",
   "metadata": {
    "id": "de1eb6f2-f78c-4403-aebd-a0561a049360"
   },
   "source": [
    "И переведём всё к соединённому датасету:"
   ]
  },
  {
   "cell_type": "code",
   "execution_count": 7,
   "id": "3686c2f1-9a9b-4684-b3d3-06c891252549",
   "metadata": {
    "id": "3686c2f1-9a9b-4684-b3d3-06c891252549"
   },
   "outputs": [],
   "source": [
    "n_users = 10000\n",
    "\n",
    "all_included = np.random.choice(all_included, size=n_users, replace=False)\n",
    "\n",
    "train_df = train_df.loc[train_df.user_id.isin(all_included)].copy()\n",
    "test_df = test_df.loc[test_df.user_id.isin(all_included)].copy()\n",
    "\n",
    "assert train_df.last_watch_dt.max() < test_df.last_watch_dt.min()\n",
    "assert train_df.user_id.nunique() == n_users\n",
    "assert test_df.user_id.nunique() == n_users"
   ]
  },
  {
   "cell_type": "code",
   "execution_count": 8,
   "id": "1c995549-bc88-4af3-a8ce-ca19baa30ee2",
   "metadata": {
    "colab": {
     "base_uri": "https://localhost:8080/",
     "height": 206
    },
    "id": "1c995549-bc88-4af3-a8ce-ca19baa30ee2",
    "outputId": "b0e5cd25-3f51-457a-808f-ccd23a4c677d"
   },
   "outputs": [
    {
     "data": {
      "text/html": [
       "<div>\n",
       "<style scoped>\n",
       "    .dataframe tbody tr th:only-of-type {\n",
       "        vertical-align: middle;\n",
       "    }\n",
       "\n",
       "    .dataframe tbody tr th {\n",
       "        vertical-align: top;\n",
       "    }\n",
       "\n",
       "    .dataframe thead th {\n",
       "        text-align: right;\n",
       "    }\n",
       "</style>\n",
       "<table border=\"1\" class=\"dataframe\">\n",
       "  <thead>\n",
       "    <tr style=\"text-align: right;\">\n",
       "      <th></th>\n",
       "      <th>user_id</th>\n",
       "      <th>item_id</th>\n",
       "      <th>last_watch_dt</th>\n",
       "      <th>total_dur</th>\n",
       "      <th>watched_pct</th>\n",
       "    </tr>\n",
       "  </thead>\n",
       "  <tbody>\n",
       "    <tr>\n",
       "      <th>128</th>\n",
       "      <td>302831</td>\n",
       "      <td>15735</td>\n",
       "      <td>127</td>\n",
       "      <td>2887</td>\n",
       "      <td>13.0</td>\n",
       "    </tr>\n",
       "    <tr>\n",
       "      <th>333</th>\n",
       "      <td>384509</td>\n",
       "      <td>1048</td>\n",
       "      <td>77</td>\n",
       "      <td>1027</td>\n",
       "      <td>16.0</td>\n",
       "    </tr>\n",
       "    <tr>\n",
       "      <th>349</th>\n",
       "      <td>622633</td>\n",
       "      <td>6957</td>\n",
       "      <td>140</td>\n",
       "      <td>1407</td>\n",
       "      <td>2.0</td>\n",
       "    </tr>\n",
       "    <tr>\n",
       "      <th>380</th>\n",
       "      <td>1027701</td>\n",
       "      <td>6638</td>\n",
       "      <td>124</td>\n",
       "      <td>170</td>\n",
       "      <td>2.0</td>\n",
       "    </tr>\n",
       "    <tr>\n",
       "      <th>381</th>\n",
       "      <td>888917</td>\n",
       "      <td>14684</td>\n",
       "      <td>131</td>\n",
       "      <td>723</td>\n",
       "      <td>16.0</td>\n",
       "    </tr>\n",
       "  </tbody>\n",
       "</table>\n",
       "</div>"
      ],
      "text/plain": [
       "     user_id  item_id  last_watch_dt  total_dur  watched_pct\n",
       "128   302831    15735            127       2887         13.0\n",
       "333   384509     1048             77       1027         16.0\n",
       "349   622633     6957            140       1407          2.0\n",
       "380  1027701     6638            124        170          2.0\n",
       "381   888917    14684            131        723         16.0"
      ]
     },
     "execution_count": 8,
     "metadata": {},
     "output_type": "execute_result"
    }
   ],
   "source": [
    "train_df.head()"
   ]
  },
  {
   "cell_type": "code",
   "execution_count": 9,
   "id": "4a1e9f17-02e9-4c7f-aa54-4a331b7244b2",
   "metadata": {
    "colab": {
     "base_uri": "https://localhost:8080/",
     "height": 206
    },
    "id": "4a1e9f17-02e9-4c7f-aa54-4a331b7244b2",
    "outputId": "6210ca52-f2a5-4594-d20f-8e17a3a27046"
   },
   "outputs": [
    {
     "data": {
      "text/html": [
       "<div>\n",
       "<style scoped>\n",
       "    .dataframe tbody tr th:only-of-type {\n",
       "        vertical-align: middle;\n",
       "    }\n",
       "\n",
       "    .dataframe tbody tr th {\n",
       "        vertical-align: top;\n",
       "    }\n",
       "\n",
       "    .dataframe thead th {\n",
       "        text-align: right;\n",
       "    }\n",
       "</style>\n",
       "<table border=\"1\" class=\"dataframe\">\n",
       "  <thead>\n",
       "    <tr style=\"text-align: right;\">\n",
       "      <th></th>\n",
       "      <th>user_id</th>\n",
       "      <th>train_interactions</th>\n",
       "    </tr>\n",
       "  </thead>\n",
       "  <tbody>\n",
       "    <tr>\n",
       "      <th>0</th>\n",
       "      <td>382</td>\n",
       "      <td>[(1112, 89), (565, 129), (10605, 131), (5411, ...</td>\n",
       "    </tr>\n",
       "    <tr>\n",
       "      <th>1</th>\n",
       "      <td>400</td>\n",
       "      <td>[(169, 144), (11047, 145), (12974, 145), (1399...</td>\n",
       "    </tr>\n",
       "    <tr>\n",
       "      <th>2</th>\n",
       "      <td>414</td>\n",
       "      <td>[(10440, 152), (2940, 152)]</td>\n",
       "    </tr>\n",
       "    <tr>\n",
       "      <th>3</th>\n",
       "      <td>415</td>\n",
       "      <td>[(3734, 105), (7571, 108), (8442, 110), (4457,...</td>\n",
       "    </tr>\n",
       "    <tr>\n",
       "      <th>4</th>\n",
       "      <td>467</td>\n",
       "      <td>[(8077, 21), (7134, 27), (10183, 30), (13955, ...</td>\n",
       "    </tr>\n",
       "  </tbody>\n",
       "</table>\n",
       "</div>"
      ],
      "text/plain": [
       "   user_id                                 train_interactions\n",
       "0      382  [(1112, 89), (565, 129), (10605, 131), (5411, ...\n",
       "1      400  [(169, 144), (11047, 145), (12974, 145), (1399...\n",
       "2      414                        [(10440, 152), (2940, 152)]\n",
       "3      415  [(3734, 105), (7571, 108), (8442, 110), (4457,...\n",
       "4      467  [(8077, 21), (7134, 27), (10183, 30), (13955, ..."
      ]
     },
     "execution_count": 9,
     "metadata": {},
     "output_type": "execute_result"
    }
   ],
   "source": [
    "train_grouped = train_df.groupby('user_id').apply(\n",
    "    lambda x: [(t1, t2) for t1, t2 in sorted(zip(x.item_id,\n",
    "                                                 x.last_watch_dt), key=lambda x: x[1])]\n",
    ").reset_index()\n",
    "train_grouped.rename({0:'train_interactions'}, axis=1, inplace=True)\n",
    "\n",
    "test_grouped = test_df.groupby('user_id').apply(\n",
    "    lambda x: [(t1, t2) for t1, t2 in sorted(zip(x.item_id,\n",
    "                                                         x.last_watch_dt), key=lambda x: x[1])]\n",
    ").reset_index()\n",
    "test_grouped.rename({0:'test_interactions'}, axis=1, inplace=True)\n",
    "\n",
    "train_grouped.head()"
   ]
  },
  {
   "cell_type": "code",
   "execution_count": 10,
   "id": "594ade13-ff8b-4ded-9c73-00ea48be4bd9",
   "metadata": {
    "colab": {
     "base_uri": "https://localhost:8080/",
     "height": 206
    },
    "id": "594ade13-ff8b-4ded-9c73-00ea48be4bd9",
    "outputId": "1e4c65ad-171a-497e-f65d-0af5bd96c90d"
   },
   "outputs": [
    {
     "data": {
      "text/html": [
       "<div>\n",
       "<style scoped>\n",
       "    .dataframe tbody tr th:only-of-type {\n",
       "        vertical-align: middle;\n",
       "    }\n",
       "\n",
       "    .dataframe tbody tr th {\n",
       "        vertical-align: top;\n",
       "    }\n",
       "\n",
       "    .dataframe thead th {\n",
       "        text-align: right;\n",
       "    }\n",
       "</style>\n",
       "<table border=\"1\" class=\"dataframe\">\n",
       "  <thead>\n",
       "    <tr style=\"text-align: right;\">\n",
       "      <th></th>\n",
       "      <th>user_id</th>\n",
       "      <th>train_interactions</th>\n",
       "      <th>test_interactions</th>\n",
       "    </tr>\n",
       "  </thead>\n",
       "  <tbody>\n",
       "    <tr>\n",
       "      <th>0</th>\n",
       "      <td>382</td>\n",
       "      <td>[(1112, 89), (565, 129), (10605, 131), (5411, ...</td>\n",
       "      <td>[(11047, 153)]</td>\n",
       "    </tr>\n",
       "    <tr>\n",
       "      <th>1</th>\n",
       "      <td>400</td>\n",
       "      <td>[(169, 144), (11047, 145), (12974, 145), (1399...</td>\n",
       "      <td>[(7793, 153)]</td>\n",
       "    </tr>\n",
       "    <tr>\n",
       "      <th>2</th>\n",
       "      <td>414</td>\n",
       "      <td>[(10440, 152), (2940, 152)]</td>\n",
       "      <td>[(10100, 153), (4143, 153), (9873, 153), (142,...</td>\n",
       "    </tr>\n",
       "    <tr>\n",
       "      <th>3</th>\n",
       "      <td>415</td>\n",
       "      <td>[(3734, 105), (7571, 108), (8442, 110), (4457,...</td>\n",
       "      <td>[(12527, 154), (5330, 162), (16152, 162), (103...</td>\n",
       "    </tr>\n",
       "    <tr>\n",
       "      <th>4</th>\n",
       "      <td>467</td>\n",
       "      <td>[(8077, 21), (7134, 27), (10183, 30), (13955, ...</td>\n",
       "      <td>[(5940, 155), (11155, 159), (3777, 160), (575,...</td>\n",
       "    </tr>\n",
       "  </tbody>\n",
       "</table>\n",
       "</div>"
      ],
      "text/plain": [
       "   user_id                                 train_interactions  \\\n",
       "0      382  [(1112, 89), (565, 129), (10605, 131), (5411, ...   \n",
       "1      400  [(169, 144), (11047, 145), (12974, 145), (1399...   \n",
       "2      414                        [(10440, 152), (2940, 152)]   \n",
       "3      415  [(3734, 105), (7571, 108), (8442, 110), (4457,...   \n",
       "4      467  [(8077, 21), (7134, 27), (10183, 30), (13955, ...   \n",
       "\n",
       "                                   test_interactions  \n",
       "0                                     [(11047, 153)]  \n",
       "1                                      [(7793, 153)]  \n",
       "2  [(10100, 153), (4143, 153), (9873, 153), (142,...  \n",
       "3  [(12527, 154), (5330, 162), (16152, 162), (103...  \n",
       "4  [(5940, 155), (11155, 159), (3777, 160), (575,...  "
      ]
     },
     "execution_count": 10,
     "metadata": {},
     "output_type": "execute_result"
    }
   ],
   "source": [
    "joined = train_grouped.merge(test_grouped)\n",
    "joined.head()"
   ]
  },
  {
   "cell_type": "code",
   "execution_count": 11,
   "id": "dd2ee6a6-914c-4f2d-91c8-c80bde97d84e",
   "metadata": {
    "colab": {
     "base_uri": "https://localhost:8080/",
     "height": 293
    },
    "id": "dd2ee6a6-914c-4f2d-91c8-c80bde97d84e",
    "outputId": "27bc3f05-b1b4-4bf8-de05-04ea850a7c28"
   },
   "outputs": [
    {
     "data": {
      "text/html": [
       "<div>\n",
       "<style scoped>\n",
       "    .dataframe tbody tr th:only-of-type {\n",
       "        vertical-align: middle;\n",
       "    }\n",
       "\n",
       "    .dataframe tbody tr th {\n",
       "        vertical-align: top;\n",
       "    }\n",
       "\n",
       "    .dataframe thead th {\n",
       "        text-align: right;\n",
       "    }\n",
       "</style>\n",
       "<table border=\"1\" class=\"dataframe\">\n",
       "  <thead>\n",
       "    <tr style=\"text-align: right;\">\n",
       "      <th></th>\n",
       "      <th>user_id</th>\n",
       "      <th>train_interactions</th>\n",
       "      <th>test_interactions</th>\n",
       "      <th>random_recs</th>\n",
       "    </tr>\n",
       "  </thead>\n",
       "  <tbody>\n",
       "    <tr>\n",
       "      <th>0</th>\n",
       "      <td>382</td>\n",
       "      <td>[(1112, 89), (565, 129), (10605, 131), (5411, ...</td>\n",
       "      <td>[(11047, 153)]</td>\n",
       "      <td>[16498, 6922, 14112]</td>\n",
       "    </tr>\n",
       "    <tr>\n",
       "      <th>1</th>\n",
       "      <td>400</td>\n",
       "      <td>[(169, 144), (11047, 145), (12974, 145), (1399...</td>\n",
       "      <td>[(7793, 153)]</td>\n",
       "      <td>[16498, 6922, 14112]</td>\n",
       "    </tr>\n",
       "    <tr>\n",
       "      <th>2</th>\n",
       "      <td>414</td>\n",
       "      <td>[(10440, 152), (2940, 152)]</td>\n",
       "      <td>[(10100, 153), (4143, 153), (9873, 153), (142,...</td>\n",
       "      <td>[16498, 6922, 14112]</td>\n",
       "    </tr>\n",
       "    <tr>\n",
       "      <th>3</th>\n",
       "      <td>415</td>\n",
       "      <td>[(3734, 105), (7571, 108), (8442, 110), (4457,...</td>\n",
       "      <td>[(12527, 154), (5330, 162), (16152, 162), (103...</td>\n",
       "      <td>[16498, 6922, 14112]</td>\n",
       "    </tr>\n",
       "    <tr>\n",
       "      <th>4</th>\n",
       "      <td>467</td>\n",
       "      <td>[(8077, 21), (7134, 27), (10183, 30), (13955, ...</td>\n",
       "      <td>[(5940, 155), (11155, 159), (3777, 160), (575,...</td>\n",
       "      <td>[16498, 6922, 14112]</td>\n",
       "    </tr>\n",
       "  </tbody>\n",
       "</table>\n",
       "</div>"
      ],
      "text/plain": [
       "   user_id                                 train_interactions  \\\n",
       "0      382  [(1112, 89), (565, 129), (10605, 131), (5411, ...   \n",
       "1      400  [(169, 144), (11047, 145), (12974, 145), (1399...   \n",
       "2      414                        [(10440, 152), (2940, 152)]   \n",
       "3      415  [(3734, 105), (7571, 108), (8442, 110), (4457,...   \n",
       "4      467  [(8077, 21), (7134, 27), (10183, 30), (13955, ...   \n",
       "\n",
       "                                   test_interactions           random_recs  \n",
       "0                                     [(11047, 153)]  [16498, 6922, 14112]  \n",
       "1                                      [(7793, 153)]  [16498, 6922, 14112]  \n",
       "2  [(10100, 153), (4143, 153), (9873, 153), (142,...  [16498, 6922, 14112]  \n",
       "3  [(12527, 154), (5330, 162), (16152, 162), (103...  [16498, 6922, 14112]  \n",
       "4  [(5940, 155), (11155, 159), (3777, 160), (575,...  [16498, 6922, 14112]  "
      ]
     },
     "execution_count": 11,
     "metadata": {},
     "output_type": "execute_result"
    }
   ],
   "source": [
    "np.random.seed(777)\n",
    "\n",
    "class Random:\n",
    "\n",
    "    def __init__(self):\n",
    "\n",
    "        self.trained = False\n",
    "\n",
    "    def fit(self, df, col='train_interactions'):\n",
    "\n",
    "        items = set()\n",
    "        for _, row in df.iterrows():\n",
    "            for item, _ in row[col]:\n",
    "                items.add(item)\n",
    "\n",
    "        self.items = list(items)\n",
    "        self.trained = True\n",
    "\n",
    "    def predict(self, df, topn=10):\n",
    "        assert self.trained\n",
    "        return [np.random.choice(self.items, replace=False, size=topn)]*len(df)\n",
    "\n",
    "\n",
    "random = Random()\n",
    "random.fit(joined)\n",
    "\n",
    "joined['random_recs'] = random.predict(joined, topn=3)\n",
    "joined.head()"
   ]
  },
  {
   "cell_type": "markdown",
   "id": "30934f45-28dc-41d3-9263-e93ca0dabb1b",
   "metadata": {
    "id": "30934f45-28dc-41d3-9263-e93ca0dabb1b"
   },
   "source": [
    "**Задание №1. Метрики и бейзлайны**\n",
    "\n",
    "Добавьте реализацию метрик AP, RR, HR, их усреднённые версии по $U$ мы посчитаем ниже, если следовать коду с семинара, поэтому формулы немного отличаются. За имплементацию с циклами балл будет снижаться, векторизуйте! ( ͡° ͜ʖ ͡°)"
   ]
  },
  {
   "cell_type": "markdown",
   "id": "mgj_xY1Vc5b8",
   "metadata": {
    "id": "mgj_xY1Vc5b8"
   },
   "source": [
    "$$\n",
    "AP_u@k = \\frac{1}{\\min(k, n_u)} \\sum_{i=1}^k r_u(i) p_u@i\n",
    "$$\n",
    "$$\n",
    "p_u@k = \\dfrac{1}{k}\\sum_{j=1}^k r_u(j)\n",
    "$$\n",
    "$$\n",
    "RR@k = \\dfrac{1}{\\text{rank}_i@k}\n",
    "$$\n",
    "$$\n",
    "HR@k = [\\exists \\ y_i = 1 \\ \\text{among k preds}]\n",
    "$$\n",
    "\n",
    "\n",
    "*   $n_u$ - число айтемов, с которыми взаимодействовал юзер $u$\n",
    "*   $y_i$ - релевантно ли $i$-ое предсказание, $y_i \\in \\{0,1\\}$\n",
    "* $\\text{rank}_i@k$ - позиция первого релеваннтого айтема среди первых $k$ предсказаний\n",
    "* HR@k - среди первых $k$ предсказаний есть хотя бы одно релевантное\n",
    "\n",
    "Считайте, что если `topn` не задано, то берётся всегда $n_u$. "
   ]
  },
  {
   "cell_type": "code",
   "execution_count": 12,
   "id": "60c1459f-7341-416f-94c7-55f30253e217",
   "metadata": {
    "id": "60c1459f-7341-416f-94c7-55f30253e217"
   },
   "outputs": [],
   "source": [
    "def ap_metric(\n",
    "        gt_items: List[int],\n",
    "        predictions: List[int],\n",
    "        topn: Optional[int] = None\n",
    "):\n",
    "    if topn is None:\n",
    "        topn = len(predictions)\n",
    "\n",
    "    denom = min(topn, len(gt_items))\n",
    "    if denom == 0:\n",
    "        denom = 1\n",
    "\n",
    "    mltp = 1 / denom\n",
    "    flags = np.isin(predictions[:topn], gt_items).astype(int)\n",
    "    p_i = np.cumsum(flags) / (np.arange(len(flags)) + 1)\n",
    "    result = mltp * np.sum(flags * p_i)\n",
    "    return result\n",
    "\n",
    "\n",
    "def rr_metric(\n",
    "        gt_items: List[int],\n",
    "        predictions: List[int],\n",
    "        topn: Optional[int] = None\n",
    "):\n",
    "    if topn is None:\n",
    "        topn = len(predictions)\n",
    "    flags = np.isin(predictions[:topn], gt_items).astype(int)\n",
    "    relevant_items = np.where(flags == 1)\n",
    "    if len(relevant_items) == 0 or len(relevant_items[0]) == 0:\n",
    "        return 0\n",
    "    return 1 / (relevant_items[0][0] + 1)\n",
    "\n",
    "\n",
    "def hr_metric(\n",
    "        gt_items: List[int],\n",
    "        predictions: List[int],\n",
    "        topn: Optional[int] = None\n",
    "):\n",
    "    if topn is None:\n",
    "        topn = len(predictions)\n",
    "    flags = np.isin(predictions[:topn], gt_items).astype(int)\n",
    "    return int(np.any(flags == 1))\n"
   ]
  },
  {
   "cell_type": "markdown",
   "id": "k83GlXGhMt6P",
   "metadata": {
    "id": "k83GlXGhMt6P"
   },
   "source": [
    "Для вашего удобства в файле `metric_tests.py` есть тесты, но хардкодить их, разумеется, не стоит. "
   ]
  },
  {
   "cell_type": "code",
   "execution_count": null,
   "id": "xtqG_ri3MSO2",
   "metadata": {
    "id": "xtqG_ri3MSO2"
   },
   "outputs": [],
   "source": [
    "run_tests(ap_metric, rr_metric, hr_metric)\n"
   ]
  },
  {
   "cell_type": "markdown",
   "id": "di3dR9-mM34j",
   "metadata": {
    "id": "di3dR9-mM34j"
   },
   "source": [
    "В следующей ячейке код, который считает и усредняет метрики по юзерам. Он взят с семинара, при желании можно его тоже модифицировать, например, векторизовать. "
   ]
  },
  {
   "cell_type": "code",
   "execution_count": 16,
   "id": "YHz9p4SOg6eN",
   "metadata": {
    "id": "YHz9p4SOg6eN"
   },
   "outputs": [],
   "source": [
    "def evaluate_recommender(df, model_preds, gt_col='test_interactions'):\n",
    "\n",
    "    metric_values = []\n",
    "\n",
    "    for idx, row in df.iterrows():\n",
    "        gt_items = [x[0] for x in row[gt_col]]\n",
    "        predictions = row[model_preds]\n",
    "\n",
    "        ap = ap_metric(gt_items, predictions)\n",
    "        rr = rr_metric(gt_items, predictions)\n",
    "        hr = hr_metric(gt_items, predictions)\n",
    "\n",
    "        metric_values.append((ap, rr, hr))\n",
    "\n",
    "    return {'map': np.mean([x[0] for x in metric_values]),\n",
    "            'mrr': np.mean([x[1] for x in metric_values]),\n",
    "            'hr': np.mean([x[2] for x in metric_values])}"
   ]
  },
  {
   "cell_type": "markdown",
   "id": "HHwUiR0BNOqB",
   "metadata": {
    "id": "HHwUiR0BNOqB"
   },
   "source": [
    "Если вы всё сделали правильно, рандомные предсказания должны дать хоть какое-то качество, но не очень большое."
   ]
  },
  {
   "cell_type": "code",
   "execution_count": 19,
   "id": "107b24e3-00d0-4466-be0f-3377d34c83a0",
   "metadata": {
    "id": "107b24e3-00d0-4466-be0f-3377d34c83a0"
   },
   "outputs": [
    {
     "data": {
      "text/plain": [
       "{'map': 0.0001333333333333333, 'mrr': 0.0002, 'hr': 0.0002}"
      ]
     },
     "execution_count": 19,
     "metadata": {},
     "output_type": "execute_result"
    }
   ],
   "source": [
    "# делал на линукс + винде, на винде без printoptions была точность до 1 знака после запятой)\n",
    "np.set_printoptions(precision=5)\n",
    "evaluate_recommender(joined, model_preds='random_recs')\n"
   ]
  },
  {
   "cell_type": "code",
   "execution_count": 21,
   "id": "ac8d261e-1b5f-4894-93db-eb9eb414bfd1",
   "metadata": {
    "colab": {
     "base_uri": "https://localhost:8080/",
     "height": 379
    },
    "id": "ac8d261e-1b5f-4894-93db-eb9eb414bfd1",
    "outputId": "808e1eec-48d3-40f8-809f-a51c3b3b7fd6"
   },
   "outputs": [
    {
     "data": {
      "text/html": [
       "<div>\n",
       "<style scoped>\n",
       "    .dataframe tbody tr th:only-of-type {\n",
       "        vertical-align: middle;\n",
       "    }\n",
       "\n",
       "    .dataframe tbody tr th {\n",
       "        vertical-align: top;\n",
       "    }\n",
       "\n",
       "    .dataframe thead th {\n",
       "        text-align: right;\n",
       "    }\n",
       "</style>\n",
       "<table border=\"1\" class=\"dataframe\">\n",
       "  <thead>\n",
       "    <tr style=\"text-align: right;\">\n",
       "      <th></th>\n",
       "      <th>user_id</th>\n",
       "      <th>train_interactions</th>\n",
       "      <th>test_interactions</th>\n",
       "      <th>random_recs</th>\n",
       "      <th>toppopular_recs</th>\n",
       "    </tr>\n",
       "  </thead>\n",
       "  <tbody>\n",
       "    <tr>\n",
       "      <th>0</th>\n",
       "      <td>382</td>\n",
       "      <td>[(1112, 89), (565, 129), (10605, 131), (5411, ...</td>\n",
       "      <td>[(11047, 153)]</td>\n",
       "      <td>[16498, 6922, 14112]</td>\n",
       "      <td>[10440, 9728, 15297, 13865, 3734, 4151, 4880, ...</td>\n",
       "    </tr>\n",
       "    <tr>\n",
       "      <th>1</th>\n",
       "      <td>400</td>\n",
       "      <td>[(169, 144), (11047, 145), (12974, 145), (1399...</td>\n",
       "      <td>[(7793, 153)]</td>\n",
       "      <td>[16498, 6922, 14112]</td>\n",
       "      <td>[10440, 9728, 15297, 13865, 3734, 4151, 4880, ...</td>\n",
       "    </tr>\n",
       "    <tr>\n",
       "      <th>2</th>\n",
       "      <td>414</td>\n",
       "      <td>[(10440, 152), (2940, 152)]</td>\n",
       "      <td>[(10100, 153), (4143, 153), (9873, 153), (142,...</td>\n",
       "      <td>[16498, 6922, 14112]</td>\n",
       "      <td>[10440, 9728, 15297, 13865, 3734, 4151, 4880, ...</td>\n",
       "    </tr>\n",
       "    <tr>\n",
       "      <th>3</th>\n",
       "      <td>415</td>\n",
       "      <td>[(3734, 105), (7571, 108), (8442, 110), (4457,...</td>\n",
       "      <td>[(12527, 154), (5330, 162), (16152, 162), (103...</td>\n",
       "      <td>[16498, 6922, 14112]</td>\n",
       "      <td>[10440, 9728, 15297, 13865, 3734, 4151, 4880, ...</td>\n",
       "    </tr>\n",
       "    <tr>\n",
       "      <th>4</th>\n",
       "      <td>467</td>\n",
       "      <td>[(8077, 21), (7134, 27), (10183, 30), (13955, ...</td>\n",
       "      <td>[(5940, 155), (11155, 159), (3777, 160), (575,...</td>\n",
       "      <td>[16498, 6922, 14112]</td>\n",
       "      <td>[10440, 9728, 15297, 13865, 3734, 4151, 4880, ...</td>\n",
       "    </tr>\n",
       "  </tbody>\n",
       "</table>\n",
       "</div>"
      ],
      "text/plain": [
       "   user_id                                 train_interactions  \\\n",
       "0      382  [(1112, 89), (565, 129), (10605, 131), (5411, ...   \n",
       "1      400  [(169, 144), (11047, 145), (12974, 145), (1399...   \n",
       "2      414                        [(10440, 152), (2940, 152)]   \n",
       "3      415  [(3734, 105), (7571, 108), (8442, 110), (4457,...   \n",
       "4      467  [(8077, 21), (7134, 27), (10183, 30), (13955, ...   \n",
       "\n",
       "                                   test_interactions           random_recs  \\\n",
       "0                                     [(11047, 153)]  [16498, 6922, 14112]   \n",
       "1                                      [(7793, 153)]  [16498, 6922, 14112]   \n",
       "2  [(10100, 153), (4143, 153), (9873, 153), (142,...  [16498, 6922, 14112]   \n",
       "3  [(12527, 154), (5330, 162), (16152, 162), (103...  [16498, 6922, 14112]   \n",
       "4  [(5940, 155), (11155, 159), (3777, 160), (575,...  [16498, 6922, 14112]   \n",
       "\n",
       "                                     toppopular_recs  \n",
       "0  [10440, 9728, 15297, 13865, 3734, 4151, 4880, ...  \n",
       "1  [10440, 9728, 15297, 13865, 3734, 4151, 4880, ...  \n",
       "2  [10440, 9728, 15297, 13865, 3734, 4151, 4880, ...  \n",
       "3  [10440, 9728, 15297, 13865, 3734, 4151, 4880, ...  \n",
       "4  [10440, 9728, 15297, 13865, 3734, 4151, 4880, ...  "
      ]
     },
     "execution_count": 21,
     "metadata": {},
     "output_type": "execute_result"
    }
   ],
   "source": [
    "class TopPopular:\n",
    "\n",
    "    def __init__(self):\n",
    "\n",
    "        self.trained = False\n",
    "\n",
    "    def fit(self, df, col='train_interactions'):\n",
    "\n",
    "        counts = {}\n",
    "        for _, row in df.iterrows():\n",
    "            for item, _ in row[col]:\n",
    "                if item in counts:\n",
    "                    counts[item] += 1\n",
    "                else:\n",
    "                    counts[item] = 1\n",
    "\n",
    "        counts = sorted(counts.items(), key=lambda x: x[1], reverse=True)\n",
    "\n",
    "        self.recommenations = [x[0] for x in counts]\n",
    "        self.trained = True\n",
    "\n",
    "    def predict(self, df, topn=10)  -> List[np.ndarray]:\n",
    "\n",
    "        assert self.trained\n",
    "        return [self.recommenations[:topn]]*len(df)\n",
    "\n",
    "\n",
    "toppop = TopPopular()\n",
    "toppop.fit(joined)\n",
    "\n",
    "joined['toppopular_recs'] = toppop.predict(joined)\n",
    "joined.head()"
   ]
  },
  {
   "cell_type": "markdown",
   "id": "U6Yovxc4NbdO",
   "metadata": {
    "id": "U6Yovxc4NbdO"
   },
   "source": [
    "Самые популярные предсказания должны показать более высокое качество."
   ]
  },
  {
   "cell_type": "code",
   "execution_count": 22,
   "id": "dfd3c545-53f8-46a4-89b9-4cf61475599a",
   "metadata": {
    "id": "dfd3c545-53f8-46a4-89b9-4cf61475599a"
   },
   "outputs": [
    {
     "data": {
      "text/plain": [
       "{'map': 0.06570008060909549, 'mrr': 0.11914634920634921, 'hr': 0.2736}"
      ]
     },
     "execution_count": 22,
     "metadata": {},
     "output_type": "execute_result"
    }
   ],
   "source": [
    "evaluate_recommender(joined, model_preds='toppopular_recs')"
   ]
  },
  {
   "cell_type": "markdown",
   "id": "dcf7944e-962d-4206-8cfe-afa5162512b3",
   "metadata": {
    "id": "dcf7944e-962d-4206-8cfe-afa5162512b3"
   },
   "source": [
    "**Задание №2. Рекомендации в окне**\n",
    "\n",
    "Здесь необходимо переделать метод рекомендации по популярности так, что популярность считается только за какое-то более свежее временное окно. Под окном подразумевается какой-то временной промежуток, например, ближайший месяц. Соответственно, всё что за его пределами, не учитывается."
   ]
  },
  {
   "cell_type": "code",
   "execution_count": 23,
   "id": "4a01f209-5f6a-4643-9d1d-5fcec5598f28",
   "metadata": {
    "id": "4a01f209-5f6a-4643-9d1d-5fcec5598f28"
   },
   "outputs": [],
   "source": [
    "class TopPopularWeighted(TopPopular):\n",
    "\n",
    "    def __init__(self, max_dt=0, min_window=2):\n",
    "        super().__init__()\n",
    "        self.min_window = min_window\n",
    "        self.max_dt = max_dt\n",
    "\n",
    "    def fit(self, df, col='train_interactions', time_window=30):\n",
    "        counts = {}\n",
    "        time_threshold = self.max_dt - time_window\n",
    "        time_threshold = max(time_threshold, 1)\n",
    "        \n",
    "        for _, row in df.iterrows():\n",
    "            for item, dt in row[col]:\n",
    "                if dt >= time_threshold:\n",
    "                    if item in counts:\n",
    "                        counts[item] += 1\n",
    "                    else:\n",
    "                        counts[item] = 1\n",
    "\n",
    "        counts = sorted(counts.items(), key=lambda x: x[1], reverse=True)\n",
    "\n",
    "        self.recommenations = [x[0] for x in counts]\n",
    "        self.trained = True\n",
    "\n",
    "    def predict(self, df, topn=10) -> List[np.ndarray]:\n",
    "\n",
    "        assert self.trained\n",
    "        return [self.recommenations[:topn]] * len(df)"
   ]
  },
  {
   "cell_type": "code",
   "execution_count": 24,
   "id": "177f5243",
   "metadata": {},
   "outputs": [],
   "source": [
    "def evaluate_recommender_abs(df, model_preds, gt_col='test_interactions'):\n",
    "\n",
    "    metric_values = []\n",
    "\n",
    "    for idx, row in df.iterrows():\n",
    "        gt_items = [x[0] for x in row[gt_col]]\n",
    "        predictions = row[model_preds]\n",
    "\n",
    "        ap = ap_metric(gt_items, predictions)\n",
    "        rr = rr_metric(gt_items, predictions)\n",
    "        hr = hr_metric(gt_items, predictions)\n",
    "\n",
    "        metric_values.append((ap, rr, hr))\n",
    "\n",
    "    return {'ap': np.sum([x[0] for x in metric_values]),\n",
    "            'rr': np.sum([x[1] for x in metric_values]),\n",
    "            'hr': np.sum([x[2] for x in metric_values])}"
   ]
  },
  {
   "cell_type": "markdown",
   "id": "YKmJId7cOWh6",
   "metadata": {
    "id": "YKmJId7cOWh6"
   },
   "source": [
    "Теперь постройте графики зависимости значений трёх метрик (AP@k, RR@k, HR@k) от размера окна. "
   ]
  },
  {
   "cell_type": "code",
   "execution_count": null,
   "id": "mdxBytDB8gkm",
   "metadata": {
    "id": "mdxBytDB8gkm"
   },
   "outputs": [],
   "source": [
    "import seaborn as sns\n",
    "import matplotlib.pyplot as plt\n",
    "\n",
    "max_dt = df.last_watch_dt.max()\n",
    "results = []\n",
    "for window in range(1, 100, 10):\n",
    "    top_pop_w = TopPopularWeighted(max_dt=max_dt, min_window=5)\n",
    "    top_pop_w.fit(joined, time_window=window)\n",
    "    col_name = f\"toppW_recs@{window}\"\n",
    "    joined[col_name] = top_pop_w.predict(joined)\n",
    "    metrics = evaluate_recommender_abs(joined, model_preds=col_name)\n",
    "    results.append({\"window\": window, **metrics})\n",
    "\n",
    "results_df = pd.DataFrame(results)"
   ]
  },
  {
   "cell_type": "code",
   "execution_count": null,
   "id": "2ab70d04",
   "metadata": {},
   "outputs": [
    {
     "data": {
      "image/png": "[encoded data removed]",
      "text/plain": [
       "<Figure size 1000x600 with 1 Axes>"
      ]
     },
     "metadata": {},
     "output_type": "display_data"
    }
   ],
   "source": [
    "melted_df = results_df.melt(id_vars=[\"window\"], value_vars=[\"ap\", \"rr\", \"hr\"], \n",
    "                            var_name=\"metric\", value_name=\"score\")\n",
    "\n",
    "\n",
    "plt.figure(figsize=(10, 6))\n",
    "sns.lineplot(data=melted_df, x=\"window\", y=\"score\", hue=\"metric\", marker=\"o\")\n",
    "plt.xlabel(\"Time Window\", fontsize=14)\n",
    "plt.legend(title=\"Metric\", title_fontsize=12, fontsize=12)\n",
    "plt.tight_layout()\n",
    "plt.show()"
   ]
  },
  {
   "cell_type": "markdown",
   "id": "b_0ke9aD9nkO",
   "metadata": {
    "id": "b_0ke9aD9nkO"
   },
   "source": [
    "Подумайте и ответьте, как размер окна влияет на качество рекомендаций. Какое значение наилучшее, есть ли у этого разумное объяснение?\n",
    "\n",
    "**Ответ:**\n",
    " При маленьком окне  качество рекомендаций очень плохое, так как такого маленького промежутка времени не хватает для определения наиболее популярных элементов.Далее, с увеличением времени становится понятнее, какие именно айтемы имеют наибольшую популярность и метрики выходят на асимптоту. Однако впоследствие, с увеличением окна, айтемы, которые были популярны, начинают постепенно устаревать что сказывается на метриках. "
   ]
  },
  {
   "cell_type": "markdown",
   "id": "1a112ae1-d5f3-4150-8df3-9155240a557a",
   "metadata": {
    "id": "1a112ae1-d5f3-4150-8df3-9155240a557a"
   },
   "source": [
    "**Задание №3. Метрики и k.**\n",
    "\n",
    "Постройте зависимость значений MAP@K, MRR@K, HR@K для метода рекомендации по популярности. Возьмите какие-нибудь k, например, от 1 до 100, переберите значения и покажите на линейном графике. "
   ]
  },
  {
   "cell_type": "code",
   "execution_count": null,
   "id": "URxM6rRVP6Nu",
   "metadata": {
    "id": "URxM6rRVP6Nu"
   },
   "outputs": [],
   "source": [
    "joined['toppopular_recs'] = toppop.predict(joined, topn=100)"
   ]
  },
  {
   "cell_type": "code",
   "execution_count": null,
   "id": "f4687ead-a7fa-4407-83f2-17c465d80f67",
   "metadata": {
    "id": "f4687ead-a7fa-4407-83f2-17c465d80f67"
   },
   "outputs": [],
   "source": [
    "max_dt = df.last_watch_dt.max()\n",
    "results = []\n",
    "for window in range(1, 101, 1):\n",
    "    top_pop_w = TopPopularWeighted(max_dt=max_dt, min_window=5)\n",
    "    top_pop_w.fit(joined, time_window=window)\n",
    "    col_name = f\"toppW_recs@{window}\"\n",
    "    joined[col_name] = top_pop_w.predict(joined)\n",
    "    metrics = evaluate_recommender(joined, model_preds=col_name)\n",
    "    results.append({\"window\": window, **metrics})\n",
    "\n",
    "results_df = pd.DataFrame(results)\n",
    "\n"
   ]
  },
  {
   "cell_type": "code",
   "execution_count": null,
   "id": "f59fcde0",
   "metadata": {},
   "outputs": [
    {
     "data": {
      "image/png": "[encoded data removed]",
      "text/plain": [
       "<Figure size 1000x600 with 1 Axes>"
      ]
     },
     "metadata": {},
     "output_type": "display_data"
    }
   ],
   "source": [
    "melted_df = results_df.melt(id_vars=[\"window\"], value_vars=[\"map\", \"mrr\", \"hr\"], \n",
    "                            var_name=\"metric\", value_name=\"score\")\n",
    "\n",
    "\n",
    "plt.figure(figsize=(10, 6))\n",
    "sns.lineplot(data=melted_df, x=\"window\", y=\"score\", hue=\"metric\")\n",
    "plt.xlabel(\"Time Window\", fontsize=14)\n",
    "plt.legend(title=\"Metric\", title_fontsize=12, fontsize=12)\n",
    "plt.tight_layout()\n",
    "plt.show()"
   ]
  },
  {
   "cell_type": "markdown",
   "id": "e5696df8-243a-42a0-9bf4-44aac7474dd7",
   "metadata": {
    "id": "e5696df8-243a-42a0-9bf4-44aac7474dd7"
   },
   "source": [
    "Хорошенько подумайте и ответьте на вопросы ниже.\n",
    "\n",
    "3.1 Какие из метрик являются монотонными функциями по top-K? Объясните, почему они являются монотонными? \\\n",
    "**Ответ:**\n",
    "Все три метрики монотонны по top-K.\n",
    "- HR@K: Чем больше K, тем выше вероятность, что хотя бы один релевантный элемент попадёт в рекомендации\n",
    "- MRR@K: Если релевантный элемент уже найден на меньшем K, увеличение K только улучшит результат\n",
    "- MAP@K: Метрика учитывает точность на каждом шаге. При увеличении K она может расти, выходит на асимптоту когда все релевантные айтемы были найдены\n",
    "\n",
    "3.2 Объясните по каждой метрике, как можно интерпретировать ее график? То есть, что можно сказать про связь изменения метрики c возможными пользовательскими сценариями, например,скроллингом ленты новостей. \\\n",
    "**Ответ:**\n",
    "- MAP@K: Показывает, насколько релевантные элементы сконцентрированы в верхней части списка. Высокий MAP означает, что пользователь, скролля ленту, быстрее находит полезные рекомендации\n",
    "- MRR@K: Важна для сценариев, где пользователь ищет что-то конкретное (например, товар или информацию). Чем выше MRR, тем быстрее он находит нужный результат\n",
    "- HR@K: Показывает, есть ли в рекомендациях хотя бы один релевантный элемент. Это важно для лент новостей или рекомендаций, где пользователь не обязательно просматривает весь список.\n",
    "\n",
    "3.3 Как вы думаете, почему графики выглядят именно так? Должны ли они возрастать/убывать, от чего это может зависеть? (Тут вам может помочь дополнительный анализ данных)\\\n",
    "**Ответ:**\n",
    "\n",
    "**MAP и MRR**: Растут медленно, так как при увеличении K добавляются нерелевантные элементы, снижая точность. Релевантные элементы в конце списка вносят меньший вклад\n",
    "**HR**: Растёт быстрее, так как учитывает только наличие релевантных элементов, а не их порядок\n",
    "Поведение метрик зависит от их структуры: MAP и MRR чувствительны к порядку и точности, а HR — только к наличию релевантных элементов."
   ]
  },
  {
   "cell_type": "markdown",
   "id": "ab1e75f8-c9bb-4d59-9d57-9934161aa4c7",
   "metadata": {
    "id": "ab1e75f8-c9bb-4d59-9d57-9934161aa4c7"
   },
   "source": [
    "**Задание №4. Интерпретация рейтингов**\n",
    "\n",
    "Возьмите названия фильмов/сериалов из `items.csv`, выделите 5 различных сценариев изменения популярности у фильмов, аргументируйте (например, графиком или статистикой) и проинтерпретируейте их (почему популярность для этого фильма меняется так). Обратите внимание, что надо найти именно разные паттерны изменения вероятностей. "
   ]
  },
  {
   "cell_type": "code",
   "execution_count": 27,
   "id": "59205c4a-1779-4678-a79e-f7b7548f6988",
   "metadata": {
    "colab": {
     "base_uri": "https://localhost:8080/",
     "height": 206
    },
    "id": "59205c4a-1779-4678-a79e-f7b7548f6988",
    "outputId": "4210096a-7b1e-432e-e29e-cc6f6bd7d3cc"
   },
   "outputs": [
    {
     "data": {
      "text/html": [
       "<div>\n",
       "<style scoped>\n",
       "    .dataframe tbody tr th:only-of-type {\n",
       "        vertical-align: middle;\n",
       "    }\n",
       "\n",
       "    .dataframe tbody tr th {\n",
       "        vertical-align: top;\n",
       "    }\n",
       "\n",
       "    .dataframe thead th {\n",
       "        text-align: right;\n",
       "    }\n",
       "</style>\n",
       "<table border=\"1\" class=\"dataframe\">\n",
       "  <thead>\n",
       "    <tr style=\"text-align: right;\">\n",
       "      <th></th>\n",
       "      <th>item_id</th>\n",
       "      <th>title</th>\n",
       "    </tr>\n",
       "  </thead>\n",
       "  <tbody>\n",
       "    <tr>\n",
       "      <th>0</th>\n",
       "      <td>10711</td>\n",
       "      <td>Поговори с ней</td>\n",
       "    </tr>\n",
       "    <tr>\n",
       "      <th>1</th>\n",
       "      <td>2508</td>\n",
       "      <td>Голые перцы</td>\n",
       "    </tr>\n",
       "    <tr>\n",
       "      <th>2</th>\n",
       "      <td>10716</td>\n",
       "      <td>Тактическая сила</td>\n",
       "    </tr>\n",
       "    <tr>\n",
       "      <th>3</th>\n",
       "      <td>7868</td>\n",
       "      <td>45 лет</td>\n",
       "    </tr>\n",
       "    <tr>\n",
       "      <th>4</th>\n",
       "      <td>16268</td>\n",
       "      <td>Все решает мгновение</td>\n",
       "    </tr>\n",
       "  </tbody>\n",
       "</table>\n",
       "</div>"
      ],
      "text/plain": [
       "   item_id                 title\n",
       "0    10711        Поговори с ней\n",
       "1     2508           Голые перцы\n",
       "2    10716      Тактическая сила\n",
       "3     7868                45 лет\n",
       "4    16268  Все решает мгновение"
      ]
     },
     "execution_count": 27,
     "metadata": {},
     "output_type": "execute_result"
    }
   ],
   "source": [
    "items = pd.read_csv('items.csv')[['item_id','title']].copy()\n",
    "items.head()"
   ]
  },
  {
   "cell_type": "markdown",
   "id": "d5d18d06-ef56-45ef-a738-72150b094898",
   "metadata": {
    "id": "d5d18d06-ef56-45ef-a738-72150b094898"
   },
   "source": [
    "Пример:"
   ]
  },
  {
   "cell_type": "code",
   "execution_count": 28,
   "id": "bbf556fe-21d5-4210-b699-7090fa2fa178",
   "metadata": {
    "colab": {
     "base_uri": "https://localhost:8080/",
     "height": 465
    },
    "id": "bbf556fe-21d5-4210-b699-7090fa2fa178",
    "outputId": "eb2242ca-5bf9-4125-e597-cbc96412df4e"
   },
   "outputs": [
    {
     "name": "stdout",
     "output_type": "stream",
     "text": [
      "1917\n"
     ]
    },
    {
     "data": {
      "text/plain": [
       "<Axes: >"
      ]
     },
     "execution_count": 28,
     "metadata": {},
     "output_type": "execute_result"
    },
    {
     "data": {
      "image/png": "[encoded data removed]",
      "text/plain": [
       "<Figure size 640x480 with 1 Axes>"
      ]
     },
     "metadata": {},
     "output_type": "display_data"
    }
   ],
   "source": [
    "popular_items = df.item_id.value_counts()[:300].index.tolist()\n",
    "sampled_id = np.random.choice(popular_items)\n",
    "\n",
    "# это для примера, хотя выцеплять случаи по одному может быть не лучшей идеей\n",
    "sampled_id = 3402\n",
    "\n",
    "interactions = df.loc[df.item_id==sampled_id].copy()\n",
    "name = items.loc[items.item_id==sampled_id].title.values[0]\n",
    "print(name)\n",
    "interactions.last_watch_dt.hist()"
   ]
  },
  {
   "cell_type": "code",
   "execution_count": 53,
   "id": "54e52aee",
   "metadata": {},
   "outputs": [
    {
     "data": {
      "text/html": [
       "<div>\n",
       "<style scoped>\n",
       "    .dataframe tbody tr th:only-of-type {\n",
       "        vertical-align: middle;\n",
       "    }\n",
       "\n",
       "    .dataframe tbody tr th {\n",
       "        vertical-align: top;\n",
       "    }\n",
       "\n",
       "    .dataframe thead th {\n",
       "        text-align: right;\n",
       "    }\n",
       "</style>\n",
       "<table border=\"1\" class=\"dataframe\">\n",
       "  <thead>\n",
       "    <tr style=\"text-align: right;\">\n",
       "      <th></th>\n",
       "      <th>user_id</th>\n",
       "      <th>item_id</th>\n",
       "      <th>last_watch_dt</th>\n",
       "      <th>total_dur</th>\n",
       "      <th>watched_pct</th>\n",
       "    </tr>\n",
       "  </thead>\n",
       "  <tbody>\n",
       "    <tr>\n",
       "      <th>0</th>\n",
       "      <td>176549</td>\n",
       "      <td>9506</td>\n",
       "      <td>59</td>\n",
       "      <td>4250</td>\n",
       "      <td>72.0</td>\n",
       "    </tr>\n",
       "    <tr>\n",
       "      <th>1</th>\n",
       "      <td>699317</td>\n",
       "      <td>1659</td>\n",
       "      <td>77</td>\n",
       "      <td>8317</td>\n",
       "      <td>100.0</td>\n",
       "    </tr>\n",
       "    <tr>\n",
       "      <th>2</th>\n",
       "      <td>656683</td>\n",
       "      <td>7107</td>\n",
       "      <td>57</td>\n",
       "      <td>10</td>\n",
       "      <td>0.0</td>\n",
       "    </tr>\n",
       "    <tr>\n",
       "      <th>3</th>\n",
       "      <td>864613</td>\n",
       "      <td>7638</td>\n",
       "      <td>114</td>\n",
       "      <td>14483</td>\n",
       "      <td>100.0</td>\n",
       "    </tr>\n",
       "    <tr>\n",
       "      <th>4</th>\n",
       "      <td>964868</td>\n",
       "      <td>9506</td>\n",
       "      <td>48</td>\n",
       "      <td>6725</td>\n",
       "      <td>100.0</td>\n",
       "    </tr>\n",
       "    <tr>\n",
       "      <th>...</th>\n",
       "      <td>...</td>\n",
       "      <td>...</td>\n",
       "      <td>...</td>\n",
       "      <td>...</td>\n",
       "      <td>...</td>\n",
       "    </tr>\n",
       "    <tr>\n",
       "      <th>5476245</th>\n",
       "      <td>786732</td>\n",
       "      <td>4880</td>\n",
       "      <td>60</td>\n",
       "      <td>753</td>\n",
       "      <td>0.0</td>\n",
       "    </tr>\n",
       "    <tr>\n",
       "      <th>5476246</th>\n",
       "      <td>648596</td>\n",
       "      <td>12225</td>\n",
       "      <td>153</td>\n",
       "      <td>76</td>\n",
       "      <td>0.0</td>\n",
       "    </tr>\n",
       "    <tr>\n",
       "      <th>5476247</th>\n",
       "      <td>546862</td>\n",
       "      <td>9673</td>\n",
       "      <td>31</td>\n",
       "      <td>2308</td>\n",
       "      <td>49.0</td>\n",
       "    </tr>\n",
       "    <tr>\n",
       "      <th>5476248</th>\n",
       "      <td>697262</td>\n",
       "      <td>15297</td>\n",
       "      <td>160</td>\n",
       "      <td>18307</td>\n",
       "      <td>63.0</td>\n",
       "    </tr>\n",
       "    <tr>\n",
       "      <th>5476249</th>\n",
       "      <td>384202</td>\n",
       "      <td>16197</td>\n",
       "      <td>37</td>\n",
       "      <td>6203</td>\n",
       "      <td>100.0</td>\n",
       "    </tr>\n",
       "  </tbody>\n",
       "</table>\n",
       "<p>5476250 rows × 5 columns</p>\n",
       "</div>"
      ],
      "text/plain": [
       "         user_id  item_id  last_watch_dt  total_dur  watched_pct\n",
       "0         176549     9506             59       4250         72.0\n",
       "1         699317     1659             77       8317        100.0\n",
       "2         656683     7107             57         10          0.0\n",
       "3         864613     7638            114      14483        100.0\n",
       "4         964868     9506             48       6725        100.0\n",
       "...          ...      ...            ...        ...          ...\n",
       "5476245   786732     4880             60        753          0.0\n",
       "5476246   648596    12225            153         76          0.0\n",
       "5476247   546862     9673             31       2308         49.0\n",
       "5476248   697262    15297            160      18307         63.0\n",
       "5476249   384202    16197             37       6203        100.0\n",
       "\n",
       "[5476250 rows x 5 columns]"
      ]
     },
     "execution_count": 53,
     "metadata": {},
     "output_type": "execute_result"
    }
   ],
   "source": [
    "df"
   ]
  },
  {
   "cell_type": "markdown",
   "id": "bf72e854-0b21-4891-ba5c-acbca999c3f1",
   "metadata": {
    "id": "bf72e854-0b21-4891-ba5c-acbca999c3f1"
   },
   "source": [
    "Фильм 1917 какое-то время набирал популярность, потом видим резкое падение (кстати, с какой даты?). Возможно, это связано с ограничением доступности этого фильма для части пользователей, периодом проката фильма / рекламной кампании или другой причиной. "
   ]
  },
  {
   "cell_type": "markdown",
   "id": "eb5ae2d4-8ddc-4593-b7a2-2cb5e8276e16",
   "metadata": {
    "id": "eb5ae2d4-8ddc-4593-b7a2-2cb5e8276e16"
   },
   "source": [
    "Добавьте 5 своих примеров ниже. Опишите, как вы их искали. "
   ]
  },
  {
   "cell_type": "markdown",
   "id": "8deeb188",
   "metadata": {},
   "source": [
    "Мой способ достаточно 'лобовой' - кластеризовать фильмы с помощью (например) Kmeans, взять 5 кластеров, построить распределение популяности их центроидов и посмотреть что получится. "
   ]
  },
  {
   "cell_type": "code",
   "execution_count": 32,
   "id": "4144946a-39be-4049-b1f8-6f087d144bed",
   "metadata": {
    "id": "4144946a-39be-4049-b1f8-6f087d144bed"
   },
   "outputs": [],
   "source": [
    "# Сначала сделаю user-item interaction датафрейм\n",
    "user_movie_count_df = df.merge(items, on='item_id', how='left')\n",
    "user_movie_count_df['last_watch_dt'] = pd.to_datetime(user_movie_count_df['last_watch_dt'], unit='D', origin='2021-03-13')\n",
    "user_movie_count_df['count'] = 1\n",
    "\n",
    "movies_popularity_df = (\n",
    "    user_movie_count_df.groupby(['item_id', pd.Grouper(key='last_watch_dt')])\n",
    "    .agg({'count': 'sum'})\n",
    "    .reset_index()\n",
    ")\n",
    "movies_popularity_by_day = movies_popularity_df.pivot(index='item_id', columns='last_watch_dt', values='count').fillna(0)\n"
   ]
  },
  {
   "cell_type": "code",
   "execution_count": 33,
   "id": "9a54d75c",
   "metadata": {},
   "outputs": [],
   "source": [
    "# Kmeans\n",
    "from sklearn.preprocessing import MinMaxScaler\n",
    "from sklearn.cluster import KMeans\n",
    "# сначала скейланем для лучщей кластеризации\n",
    "data = movies_popularity_by_day.values\n",
    "scaler = MinMaxScaler()\n",
    "normalized_data = scaler.fit_transform(data.T).T \n",
    "\n",
    "kmeans = KMeans(n_clusters=5, random_state=322228)\n",
    "clusters = kmeans.fit_predict(normalized_data)\n",
    "movies_popularity_by_day['cluster'] = clusters\n",
    " "
   ]
  },
  {
   "cell_type": "code",
   "execution_count": 48,
   "id": "e477968a",
   "metadata": {},
   "outputs": [
    {
     "data": {
      "image/png": "[encoded data removed]",
      "text/plain": [
       "<Figure size 1200x600 with 1 Axes>"
      ]
     },
     "metadata": {},
     "output_type": "display_data"
    }
   ],
   "source": [
    "import seaborn as sns\n",
    "import matplotlib.pyplot as plt\n",
    "import pandas as pd\n",
    "\n",
    "\n",
    "centroids = []\n",
    "for cluster_id in range(5):\n",
    "\n",
    "    cluster_data = movies_popularity_by_day[movies_popularity_by_day['cluster'] == \\\n",
    "                                             cluster_id].drop('cluster', axis=1)\n",
    "    centroids.append(cluster_data.mean())\n",
    "\n",
    "\n",
    "centroid_df = pd.DataFrame(centroids).reset_index()\n",
    "centroid_df = centroid_df.rename(columns={'index': 'Cluster'})\n",
    "centroid_df = centroid_df.melt(id_vars='Cluster', var_name='Day', value_name='Average Watches')\n",
    "\n",
    "\n",
    "plt.figure(figsize=(12, 6))\n",
    "sns.set_style(\"whitegrid\")\n",
    "\n",
    "\n",
    "ax = sns.lineplot(\n",
    "    data=centroid_df,\n",
    "    x='Day',\n",
    "    y='Average Watches',\n",
    "    hue='Cluster',\n",
    "    palette= sns.color_palette(\"tab10\", n_colors=5),\n",
    "    linewidth=2.5,\n",
    "    markersize=8\n",
    ")\n",
    "\n",
    "plt.title('Popularity', fontsize=14, pad=20)\n",
    "plt.xlabel('Day', fontsize=12)\n",
    "plt.ylabel('Views', fontsize=12)\n",
    "plt.xticks(rotation=45)\n",
    "ax.xaxis.set_major_locator(plt.MaxNLocator(15)) \n",
    "\n",
    "plt.legend(\n",
    "    title='Cluster',\n",
    "    bbox_to_anchor=(1.05, 1),\n",
    "    loc='upper left',\n",
    "    borderaxespad=0,\n",
    "    frameon=True\n",
    ")\n",
    "\n",
    "plt.tight_layout()\n",
    "plt.show()"
   ]
  },
  {
   "cell_type": "markdown",
   "id": "20be6e66",
   "metadata": {},
   "source": [
    "Ну, что-то около-описываемое получилось, ща придумаем)\n",
    "\n",
    "1. Кластер 1 представляет собой средненькие фильмы, где виден эффект 'сарафанного радио' В начале люди (благодаря рекламе или еще чему-то) начинают смотреть их, потом примерно через месяц-2 рассказов, начинают смотреть их знакомые и фильм доходит до пика популярности и популярность сходит.\n",
    "\n",
    "2. Кластер 2 представляет собой старые фильмы, которые уже потеряли свою популярность и смотрятся только в дни их выхода (мб на сайте рекламят их юбилей)\n",
    "\n",
    "3. Кластер 3 представляет из себя хайпанувшие фильмы, которые быстро набрали популярность после выхода\n",
    "\n",
    "4. кластер 4 предсатвляет из себя кино-провалы, немного просмотров вначале и быстрый сход на около-0 популярность. Возможно там уже алгоритмы рекомендаций их задвинули))\n",
    "\n",
    "5. Тут представлены культовые фильмы, которые были недоступны какое-то время (популярность около 0) но потом сайт смог добавить их в фильмотеку и они сразу же взлетели в просмотрах."
   ]
  },
  {
   "cell_type": "markdown",
   "id": "7597d4c1-68c8-4187-92ee-79cb44a84de8",
   "metadata": {
    "id": "7597d4c1-68c8-4187-92ee-79cb44a84de8"
   },
   "source": [
    "**Задание №5. User-item encoding**\n",
    "\n",
    "Теперь, создайте матрицу интеракций user-item по примеру из семинара. Вам нужно в итоге получить разреженную матрицу (sparse matrix), в которой в качестве строк будут пользователи, в качестве колонок - айтемы. Не забудьте перекодировать пользователей и айтемы через энкодер. В отличие от семинара, оставьте в матрице только юзеров и айтемы, которые встречались в матрице > 4 раз."
   ]
  },
  {
   "cell_type": "markdown",
   "id": "4ee1dd61-2f92-420d-96ce-3185dd80cb81",
   "metadata": {
    "id": "4ee1dd61-2f92-420d-96ce-3185dd80cb81"
   },
   "source": [
    "Важно: когда вы отфильтруете юзеров на встречаемость > 4 раз, вы удалите какие-то айтемы, которые теперь станут встречаться меньше 5 раз. Поэтому у вас перестанет выполняться второе условие на минимальное число интеракций с айтемом. Тогда вам надо опять отфильтровать айтемы на встречаемость, но это снова может нарушить условие для юзеров. В таком случае, вам надо написать итеративный алгоритм до сходимости, пока требования не будут выполняться в обеих колонках. "
   ]
  },
  {
   "cell_type": "code",
   "execution_count": null,
   "id": "1c4a5a4a-eabf-4145-b081-53881e5ce9c1",
   "metadata": {
    "id": "1c4a5a4a-eabf-4145-b081-53881e5ce9c1"
   },
   "outputs": [],
   "source": [
    "def filter_column(df, column_to_filter,  min_freq):\n",
    "    \"\"\"\n",
    "    Filter dataframe, excluding least active users and least popular items.\n",
    "    Return a copy of the dataframe with at least min_freq entries\n",
    "    in both users and items\n",
    "    \"\"\"\n",
    "    value_counts = df[column_to_filter].value_counts()\n",
    "    filtered = df[df[column_to_filter].isin(value_counts[value_counts >= min_freq].index)]\n",
    "    return filtered\n",
    "\n",
    "def filter_dataframe(df, cols, min_freq=5):\n",
    "    \"\"\"\n",
    "    Filter dataframe by given columns until each of them satisfies\n",
    "    min_freq condition, guaranteed by filter_columns. Return a copy\n",
    "    of the dataframe\n",
    "    \"\"\"\n",
    "    res = df.copy()\n",
    "    while True:\n",
    "        size = res.shape\n",
    "        for column in cols:\n",
    "            res= filter_column(res, column, min_freq)\n",
    "        if res.shape == size:\n",
    "            break\n",
    "    return res\n",
    "\n",
    "filtered_train = filter_dataframe(df, ['user_id', 'item_id'])"
   ]
  },
  {
   "cell_type": "code",
   "execution_count": 54,
   "id": "a02c1fe8-2068-43d2-9851-edd67b5866c2",
   "metadata": {
    "colab": {
     "base_uri": "https://localhost:8080/",
     "height": 373
    },
    "id": "a02c1fe8-2068-43d2-9851-edd67b5866c2",
    "outputId": "0bcbad24-be0f-4b47-8d98-ea72f7ebe2e9"
   },
   "outputs": [
    {
     "data": {
      "text/html": [
       "<div>\n",
       "<style scoped>\n",
       "    .dataframe tbody tr th:only-of-type {\n",
       "        vertical-align: middle;\n",
       "    }\n",
       "\n",
       "    .dataframe tbody tr th {\n",
       "        vertical-align: top;\n",
       "    }\n",
       "\n",
       "    .dataframe thead th {\n",
       "        text-align: right;\n",
       "    }\n",
       "</style>\n",
       "<table border=\"1\" class=\"dataframe\">\n",
       "  <thead>\n",
       "    <tr style=\"text-align: right;\">\n",
       "      <th></th>\n",
       "      <th>user_id</th>\n",
       "      <th>item_id</th>\n",
       "      <th>last_watch_dt</th>\n",
       "      <th>total_dur</th>\n",
       "      <th>watched_pct</th>\n",
       "    </tr>\n",
       "  </thead>\n",
       "  <tbody>\n",
       "    <tr>\n",
       "      <th>5293774</th>\n",
       "      <td>62924</td>\n",
       "      <td>794</td>\n",
       "      <td>29</td>\n",
       "      <td>20808</td>\n",
       "      <td>100.0</td>\n",
       "    </tr>\n",
       "    <tr>\n",
       "      <th>1365094</th>\n",
       "      <td>1019</td>\n",
       "      <td>202</td>\n",
       "      <td>139</td>\n",
       "      <td>4155</td>\n",
       "      <td>64.0</td>\n",
       "    </tr>\n",
       "    <tr>\n",
       "      <th>4202548</th>\n",
       "      <td>141335</td>\n",
       "      <td>2361</td>\n",
       "      <td>123</td>\n",
       "      <td>8213</td>\n",
       "      <td>100.0</td>\n",
       "    </tr>\n",
       "    <tr>\n",
       "      <th>3963656</th>\n",
       "      <td>172758</td>\n",
       "      <td>32</td>\n",
       "      <td>151</td>\n",
       "      <td>49903</td>\n",
       "      <td>80.0</td>\n",
       "    </tr>\n",
       "    <tr>\n",
       "      <th>4165249</th>\n",
       "      <td>174292</td>\n",
       "      <td>92</td>\n",
       "      <td>89</td>\n",
       "      <td>6</td>\n",
       "      <td>0.0</td>\n",
       "    </tr>\n",
       "  </tbody>\n",
       "</table>\n",
       "</div>"
      ],
      "text/plain": [
       "         user_id  item_id  last_watch_dt  total_dur  watched_pct\n",
       "5293774    62924      794             29      20808        100.0\n",
       "1365094     1019      202            139       4155         64.0\n",
       "4202548   141335     2361            123       8213        100.0\n",
       "3963656   172758       32            151      49903         80.0\n",
       "4165249   174292       92             89          6          0.0"
      ]
     },
     "execution_count": 54,
     "metadata": {},
     "output_type": "execute_result"
    }
   ],
   "source": [
    "def df_encode(df):\n",
    "    item2id = {k: v for v, k in enumerate(df.item_id.unique())}\n",
    "    user2id = {k: v for v, k in enumerate(df.user_id.unique())}\n",
    "\n",
    "    id2item = {k: v for v, k in item2id.items()}\n",
    "    id2user = {k: v for v, k in user2id.items()}\n",
    "\n",
    "    df['user_id'] = df.user_id.apply(lambda x: user2id[x])\n",
    "    df['item_id'] = df.item_id.apply(lambda x: item2id[x])\n",
    "    return df\n",
    "\n",
    "\n",
    "filtered_train = df_encode(filtered_train)\n",
    "filtered_train.sample(5)"
   ]
  },
  {
   "cell_type": "code",
   "execution_count": 55,
   "id": "cb0760a7-5667-41a5-b47e-12f297ed3d1e",
   "metadata": {
    "colab": {
     "base_uri": "https://localhost:8080/"
    },
    "id": "cb0760a7-5667-41a5-b47e-12f297ed3d1e",
    "outputId": "678f4947-3a6f-4605-bfaf-8a352b2098ab"
   },
   "outputs": [
    {
     "data": {
      "text/plain": [
       "<962179x15706 sparse matrix of type '<class 'numpy.float64'>'\n",
       "\twith 4278492 stored elements in COOrdinate format>"
      ]
     },
     "execution_count": 55,
     "metadata": {},
     "output_type": "execute_result"
    }
   ],
   "source": [
    "from scipy import sparse as sps\n",
    "\n",
    "#предполагаю что это то что хотели авторы в user2id + item2id\n",
    "item2id = {k: v for v, k in enumerate(df.item_id.unique())}\n",
    "user2id = {k: v for v, k in enumerate(df.user_id.unique())}\n",
    "id2item = {k: v for v, k in item2id.items()}\n",
    "id2user = {k: v for v, k in user2id.items()}\n",
    "matrix = sps.coo_matrix(\n",
    "    (np.ones(filtered_train.shape[0]), (filtered_train['user_id'], filtered_train['item_id'])),\n",
    "    shape=(len(user2id), len(item2id)),\n",
    ")\n",
    "matrix"
   ]
  },
  {
   "cell_type": "markdown",
   "id": "CsAJ72grYlLZ",
   "metadata": {
    "id": "CsAJ72grYlLZ"
   },
   "source": [
    "**Задание №6. Интеракции и частота**\n",
    "\n",
    "Постройте график зависимости количества айтемов и юзеров от значений (порогов) фильтров на встречаемость в матрице интеракций. То есть, нужно выполнить задание №5 для нескольких значений `min_freq` и построить график зависимости числа оставшихся айтемов и юзеров от этого параметра. "
   ]
  },
  {
   "cell_type": "code",
   "execution_count": 57,
   "id": "G-UH_tXBYm9p",
   "metadata": {
    "id": "G-UH_tXBYm9p"
   },
   "outputs": [],
   "source": [
    "def analyze_interaction_thresholds(df, cols=['user_id', 'item_id'], frequencies=range(1, 11)):\n",
    "\n",
    "    data = [(min_freq, \n",
    "             filter_dataframe(df, cols, min_freq)['user_id'].nunique(), \n",
    "             filter_dataframe(df, cols, min_freq)['item_id'].nunique()) \n",
    "            for min_freq in frequencies]\n",
    "    \n",
    "\n",
    "    plot_df = pd.DataFrame(data, columns=['min_freq', 'users', 'items']).melt('min_freq')\n",
    "    sns.lineplot(data=plot_df, x='min_freq', y='value', hue='variable', \n",
    "                 style='variable', markers=True).set(title='Interaction Threshold Analysis')\n",
    "    plt.gcf().set_size_inches(10, 6)\n",
    "    plt.grid(True)\n",
    "    plt.show()"
   ]
  },
  {
   "cell_type": "code",
   "execution_count": 59,
   "id": "5054fda0",
   "metadata": {},
   "outputs": [
    {
     "data": {
      "image/png": "[encoded data removed]",
      "text/plain": [
       "<Figure size 1000x600 with 1 Axes>"
      ]
     },
     "metadata": {},
     "output_type": "display_data"
    }
   ],
   "source": [
    "analyze_interaction_thresholds(filtered_train, frequencies=range(1, 31))"
   ]
  },
  {
   "cell_type": "markdown",
   "id": "d388eb41-094d-4317-9ae6-391a5b014a92",
   "metadata": {
    "id": "d388eb41-094d-4317-9ae6-391a5b014a92"
   },
   "source": [
    "**Задание №7. EASE**\n",
    "\n",
    "Реализуйте EASE, постройте рекомендации для юзеров. Сравните все имплементированные ранее метрики качества с `TopPopular` для некоторого набора k. "
   ]
  },
  {
   "cell_type": "markdown",
   "id": "acccc267-038b-4029-ba63-38e875f87a67",
   "metadata": {
    "id": "acccc267-038b-4029-ba63-38e875f87a67"
   },
   "source": [
    "Реализацию можно взять из семинара. Можно реализовать по статье https://arxiv.org/pdf/1905.03375.pdf. Можно взять и адаптировать из RecBole https://github.com/RUCAIBox/RecBole."
   ]
  },
  {
   "cell_type": "code",
   "execution_count": 60,
   "id": "04e19a99-8797-45e7-ad48-44312f0839d4",
   "metadata": {
    "colab": {
     "base_uri": "https://localhost:8080/"
    },
    "id": "04e19a99-8797-45e7-ad48-44312f0839d4",
    "outputId": "83899393-f38f-4116-9431-8aaa00e09b29"
   },
   "outputs": [
    {
     "name": "stdout",
     "output_type": "stream",
     "text": [
      "CPU times: total: 5min 21s\n",
      "Wall time: 58.6 s\n"
     ]
    }
   ],
   "source": [
    "%%time\n",
    "\n",
    "# Обучаем конечную модель\n",
    "# Мы взяли реализацию из RecBole\n",
    "#\n",
    "def fit_ease(X, reg_weight=1000):\n",
    "    G = X.T @ X\n",
    "    G += reg_weight * sps.identity(G.shape[0])\n",
    "    G = G.todense()\n",
    "    P = np.linalg.inv(G)\n",
    "    B = P / (-np.diag(P))\n",
    "    np.fill_diagonal(B, 0.)\n",
    "    return B\n",
    "\n",
    "\n",
    "w = fit_ease(matrix)"
   ]
  },
  {
   "cell_type": "markdown",
   "id": "70d0d9db",
   "metadata": {},
   "source": [
    "Далее, вам надо реализовать функцию получения предсказаний. У вас есть обученная матрица весов, которую можно использовать для получения предсказаний. Для этого нужно построить вектор интеракций пользователя и умножить его на матрицу весов."
   ]
  },
  {
   "cell_type": "code",
   "execution_count": 67,
   "id": "8eccd728",
   "metadata": {},
   "outputs": [
    {
     "data": {
      "text/html": [
       "<div>\n",
       "<style scoped>\n",
       "    .dataframe tbody tr th:only-of-type {\n",
       "        vertical-align: middle;\n",
       "    }\n",
       "\n",
       "    .dataframe tbody tr th {\n",
       "        vertical-align: top;\n",
       "    }\n",
       "\n",
       "    .dataframe thead th {\n",
       "        text-align: right;\n",
       "    }\n",
       "</style>\n",
       "<table border=\"1\" class=\"dataframe\">\n",
       "  <thead>\n",
       "    <tr style=\"text-align: right;\">\n",
       "      <th></th>\n",
       "      <th>user_id</th>\n",
       "      <th>train_interactions</th>\n",
       "      <th>test_interactions</th>\n",
       "      <th>random_recs</th>\n",
       "      <th>toppopular_recs</th>\n",
       "      <th>ease_preds</th>\n",
       "    </tr>\n",
       "  </thead>\n",
       "  <tbody>\n",
       "    <tr>\n",
       "      <th>0</th>\n",
       "      <td>382</td>\n",
       "      <td>[(1112, 89), (565, 129), (10605, 131), (5411, ...</td>\n",
       "      <td>[(11047, 153)]</td>\n",
       "      <td>[16498, 6922, 14112]</td>\n",
       "      <td>[10440, 9728, 15297, 13865, 3734, 4151, 4880, ...</td>\n",
       "      <td>[9851, 10746, 1844, 15947, 7626, 16183, 9728, ...</td>\n",
       "    </tr>\n",
       "    <tr>\n",
       "      <th>1</th>\n",
       "      <td>400</td>\n",
       "      <td>[(169, 144), (11047, 145), (12974, 145), (1399...</td>\n",
       "      <td>[(7793, 153)]</td>\n",
       "      <td>[16498, 6922, 14112]</td>\n",
       "      <td>[10440, 9728, 15297, 13865, 3734, 4151, 4880, ...</td>\n",
       "      <td>[8379, 12495, 7626, 7417, 10607, 9100, 13438, ...</td>\n",
       "    </tr>\n",
       "    <tr>\n",
       "      <th>2</th>\n",
       "      <td>414</td>\n",
       "      <td>[(10440, 152), (2940, 152)]</td>\n",
       "      <td>[(10100, 153), (4143, 153), (9873, 153), (142,...</td>\n",
       "      <td>[16498, 6922, 14112]</td>\n",
       "      <td>[10440, 9728, 15297, 13865, 3734, 4151, 4880, ...</td>\n",
       "      <td>[8379, 12495, 1844, 7476, 805, 4566, 9550, 619...</td>\n",
       "    </tr>\n",
       "    <tr>\n",
       "      <th>3</th>\n",
       "      <td>415</td>\n",
       "      <td>[(3734, 105), (7571, 108), (8442, 110), (4457,...</td>\n",
       "      <td>[(12527, 154), (5330, 162), (16152, 162), (103...</td>\n",
       "      <td>[16498, 6922, 14112]</td>\n",
       "      <td>[10440, 9728, 15297, 13865, 3734, 4151, 4880, ...</td>\n",
       "      <td>[12558, 13582, 8849, 2910, 7308, 9352, 11367, ...</td>\n",
       "    </tr>\n",
       "    <tr>\n",
       "      <th>4</th>\n",
       "      <td>467</td>\n",
       "      <td>[(8077, 21), (7134, 27), (10183, 30), (13955, ...</td>\n",
       "      <td>[(5940, 155), (11155, 159), (3777, 160), (575,...</td>\n",
       "      <td>[16498, 6922, 14112]</td>\n",
       "      <td>[10440, 9728, 15297, 13865, 3734, 4151, 4880, ...</td>\n",
       "      <td>[11367, 15947, 13018, 496, 15373, 13582, 6979,...</td>\n",
       "    </tr>\n",
       "  </tbody>\n",
       "</table>\n",
       "</div>"
      ],
      "text/plain": [
       "   user_id                                 train_interactions  \\\n",
       "0      382  [(1112, 89), (565, 129), (10605, 131), (5411, ...   \n",
       "1      400  [(169, 144), (11047, 145), (12974, 145), (1399...   \n",
       "2      414                        [(10440, 152), (2940, 152)]   \n",
       "3      415  [(3734, 105), (7571, 108), (8442, 110), (4457,...   \n",
       "4      467  [(8077, 21), (7134, 27), (10183, 30), (13955, ...   \n",
       "\n",
       "                                   test_interactions           random_recs  \\\n",
       "0                                     [(11047, 153)]  [16498, 6922, 14112]   \n",
       "1                                      [(7793, 153)]  [16498, 6922, 14112]   \n",
       "2  [(10100, 153), (4143, 153), (9873, 153), (142,...  [16498, 6922, 14112]   \n",
       "3  [(12527, 154), (5330, 162), (16152, 162), (103...  [16498, 6922, 14112]   \n",
       "4  [(5940, 155), (11155, 159), (3777, 160), (575,...  [16498, 6922, 14112]   \n",
       "\n",
       "                                     toppopular_recs  \\\n",
       "0  [10440, 9728, 15297, 13865, 3734, 4151, 4880, ...   \n",
       "1  [10440, 9728, 15297, 13865, 3734, 4151, 4880, ...   \n",
       "2  [10440, 9728, 15297, 13865, 3734, 4151, 4880, ...   \n",
       "3  [10440, 9728, 15297, 13865, 3734, 4151, 4880, ...   \n",
       "4  [10440, 9728, 15297, 13865, 3734, 4151, 4880, ...   \n",
       "\n",
       "                                          ease_preds  \n",
       "0  [9851, 10746, 1844, 15947, 7626, 16183, 9728, ...  \n",
       "1  [8379, 12495, 7626, 7417, 10607, 9100, 13438, ...  \n",
       "2  [8379, 12495, 1844, 7476, 805, 4566, 9550, 619...  \n",
       "3  [12558, 13582, 8849, 2910, 7308, 9352, 11367, ...  \n",
       "4  [11367, 15947, 13018, 496, 15373, 13582, 6979,...  "
      ]
     },
     "execution_count": 67,
     "metadata": {},
     "output_type": "execute_result"
    }
   ],
   "source": [
    "import numpy as np\n",
    "import scipy.sparse as sps\n",
    "\n",
    "def get_preds(x, item2id, id2item, w):\n",
    "    valid = {item2id[t[0]] for t in x if t[0] in item2id}\n",
    "    vec = sps.csr_matrix(([1]*len(valid), ([0]*len(valid), list(valid))), \n",
    "                        shape=(1, w.shape[0]))\n",
    "    preds = vec.dot(w).A[0]\n",
    "    preds[list(valid)] = -np.inf\n",
    "    return [id2item[i] for i in np.argsort(-preds)[:100] if i in id2item]\n",
    "\n",
    "\n",
    "joined['ease_preds'] = joined.train_interactions.apply(lambda x: get_preds(x, item2id, id2item, w))\n",
    "joined.head()"
   ]
  },
  {
   "cell_type": "code",
   "execution_count": 68,
   "id": "979f3051-5348-4c1e-a21c-033d5cd3d6cd",
   "metadata": {
    "id": "979f3051-5348-4c1e-a21c-033d5cd3d6cd"
   },
   "outputs": [
    {
     "data": {
      "text/plain": [
       "{'map': 0.005114176598732967, 'mrr': 0.013148872448540419, 'hr': 0.1656}"
      ]
     },
     "execution_count": 68,
     "metadata": {},
     "output_type": "execute_result"
    }
   ],
   "source": [
    "evaluate_recommender(joined, model_preds='ease_preds')"
   ]
  },
  {
   "cell_type": "code",
   "execution_count": 64,
   "id": "95f6df1c",
   "metadata": {},
   "outputs": [
    {
     "data": {
      "text/plain": [
       "{'map': 0.06570008060909549, 'mrr': 0.11914634920634921, 'hr': 0.2736}"
      ]
     },
     "execution_count": 64,
     "metadata": {},
     "output_type": "execute_result"
    }
   ],
   "source": [
    "evaluate_recommender(joined, model_preds='toppopular_recs')"
   ]
  },
  {
   "cell_type": "markdown",
   "id": "24552dc3-4d5d-4e9c-bc16-691a3537e7d9",
   "metadata": {
    "id": "24552dc3-4d5d-4e9c-bc16-691a3537e7d9"
   },
   "source": [
    "Сделайте выводы — какой алгоритм работает лучше?\n",
    "\n",
    "**Ответ:** TopPopular лучше в совокупности метрик"
   ]
  },
  {
   "cell_type": "markdown",
   "id": "9e2ecca7-92c2-4b1f-b5d3-4f9dd18a4632",
   "metadata": {
    "id": "9e2ecca7-92c2-4b1f-b5d3-4f9dd18a4632"
   },
   "source": [
    "**Задание №8. Тюнинг**\n",
    "\n",
    "Переберите различные значения гиперпараметра коэффициента регуляризации у EASE и постройте графики, как в задании №6. Постарайтесь \"затюнить\" EASE как можно лучше. Возьмите разумное число гиперпараметров - хотя бы штук 20 по логарифмической сетке, либо используйте более хитрые алгоритмы оптимизации. "
   ]
  },
  {
   "cell_type": "code",
   "execution_count": 70,
   "id": "e0837eb6-e81f-4543-b848-fdeacb7169ee",
   "metadata": {
    "id": "e0837eb6-e81f-4543-b848-fdeacb7169ee"
   },
   "outputs": [
    {
     "data": {
      "application/vnd.jupyter.widget-view+json": {
       "model_id": "81e552586996486abab9ac6e13dc6307",
       "version_major": 2,
       "version_minor": 0
      },
      "text/plain": [
       "  0%|          | 0/20 [00:00<?, ?it/s]"
      ]
     },
     "metadata": {},
     "output_type": "display_data"
    }
   ],
   "source": [
    "reg_weights = np.logspace(1, 5, num=20)\n",
    "for reg_weight in tqdm(reg_weights):\n",
    "    weights = fit_ease(matrix, reg_weight=reg_weight)\n",
    "    col_name = f'ease_preds_at_{reg_weight:.1f}'\n",
    "    joined[col_name] = joined.train_interactions.apply(\n",
    "        lambda x: get_preds(x, item2id, id2item, weights)\n",
    "    )\n",
    "\n",
    "map_scores, hr_scores, mrr_scores, reg_values = [], [], [], []\n",
    "\n",
    "for reg_weight in reg_weights:\n",
    "    metric_key = f'ease_preds_at_{reg_weight:.1f}'\n",
    "    metrics = evaluate_recommender(joined, metric_key)\n",
    "    reg_values.append(reg_weight)\n",
    "    map_scores.append(metrics['map'])\n",
    "    mrr_scores.append(metrics['mrr'])\n",
    "    hr_scores.append(metrics['hr'])"
   ]
  },
  {
   "cell_type": "code",
   "execution_count": 71,
   "id": "aff54933",
   "metadata": {},
   "outputs": [
    {
     "data": {
      "image/png": "[encoded data removed]",
      "text/plain": [
       "<Figure size 855x500 with 1 Axes>"
      ]
     },
     "metadata": {},
     "output_type": "display_data"
    }
   ],
   "source": [
    "metrics_df = pd.DataFrame({\n",
    "    'reg_weight': reg_values,\n",
    "    'MAP@K': map_scores,\n",
    "    'HR@K': hr_scores,\n",
    "    'MRR@K': mrr_scores\n",
    "}).melt(id_vars='reg_weight', var_name='metric', value_name='score')\n",
    "\n",
    "g = sns.relplot(\n",
    "    data=metrics_df,\n",
    "    x='reg_weight',\n",
    "    y='score',\n",
    "    hue='metric',\n",
    "    kind='line',\n",
    "    height=5,\n",
    "    aspect=1.5,\n",
    "    palette='tab10',\n",
    "    linewidth=2.5\n",
    ")\n",
    "\n",
    "g.set(xscale='log', \n",
    "      xlabel='Regularization Weight (log scale)', \n",
    "      ylabel='Score')\n",
    "g.fig.suptitle('Recommendation Metrics vs Regularization Strength', y=1.05)\n",
    "g.tight_layout()\n",
    "plt.show()"
   ]
  },
  {
   "cell_type": "markdown",
   "id": "891c9613-3f51-4186-bfa1-566d82d0628f",
   "metadata": {
    "id": "891c9613-3f51-4186-bfa1-566d82d0628f"
   },
   "source": [
    "Ответьте на следующие вопросы:\n",
    "\n",
    "8.1 Какое значение гиперпараметра является наилучшим? \n",
    "\n",
    "\n",
    "**Ответ:** что интересно - наибольшее)\n",
    "\n",
    "8.2 Что еще интересного вы можете сказать по графикам? Может быть, что-то свзяанное с распределением параметров, влиянием на отдельные метрики, скоростью тюнинга?\n",
    "\n",
    "**Ответ:** интересен большой рост качества с увеличением параметра, который происходит в конце. Интересно было бы посмотреть что произойдет дальше)"
   ]
  },
  {
   "cell_type": "markdown",
   "id": "e38fcce4-b192-4faa-8ddf-8e8791f2c28b",
   "metadata": {
    "id": "e38fcce4-b192-4faa-8ddf-8e8791f2c28b"
   },
   "source": [
    "**Задание №9. EASE и topk**\n",
    "\n",
    "В лекции №2 говорилось, что качество у EASE растет с ослаблением фильтра на число айтемов. В этом задании постройте кривые метрик качества MAP/MRR/HR в зависимости от topk (например, от 1 до 100 с некоторым шагом), где кривая параметризована минимальным требуемым значением встречаемости user/item (из задания №6). Опишите свои выводы."
   ]
  },
  {
   "cell_type": "markdown",
   "id": "ca0be51b-5055-407d-8916-96d38cdabdb7",
   "metadata": {
    "id": "ca0be51b-5055-407d-8916-96d38cdabdb7"
   },
   "source": [
    "Важно: в этом задании линии могут быть мало различимыми, поэтому ваша задача для каждой метрики найти нужный масштаб на каких-то конкретных topk, чтобы линии стали визуально отличимы. "
   ]
  },
  {
   "cell_type": "markdown",
   "id": "fec3b4b8-e2e0-4722-9f33-08922afe9ac8",
   "metadata": {
    "id": "fec3b4b8-e2e0-4722-9f33-08922afe9ac8"
   },
   "source": [
    "Что вы можете сказать на основе полученных графиков? Соответствуют ли они вашим ожиданиям?\n",
    "\n",
    "**Ответ:**"
   ]
  },
  {
   "cell_type": "markdown",
   "id": "3448c27a-aadb-4c6a-b17a-84bd58761e67",
   "metadata": {
    "id": "3448c27a-aadb-4c6a-b17a-84bd58761e67"
   },
   "source": [
    "**Задание №10. Интерпретируемые рекомендации**\n",
    "\n",
    "Используйте выученную матрицу весов для item2item рекомендаций. Приведите 10 примеров топ-5 рекомендаций от EASE к сэмплируемым айтемам. Используйте названия фильмов вместо id при выводе рекомендаций. "
   ]
  },
  {
   "cell_type": "code",
   "execution_count": null,
   "id": "83946038-22e8-461f-8385-dd308a284825",
   "metadata": {
    "id": "83946038-22e8-461f-8385-dd308a284825"
   },
   "outputs": [],
   "source": [
    "# your code here"
   ]
  },
  {
   "cell_type": "markdown",
   "id": "8fed8a63-c95d-458b-b437-2856927c85bb",
   "metadata": {
    "id": "8fed8a63-c95d-458b-b437-2856927c85bb"
   },
   "source": [
    "Хорошие ли получились рекомендации? Почему? Есть ли хорошие примеры? Есть ли плохие? Почему бывают плохие примеры?\n",
    "\n",
    "**Ответ:**"
   ]
  }
 ],
 "metadata": {
  "colab": {
   "provenance": []
  },
  "kernelspec": {
   "display_name": "base",
   "language": "python",
   "name": "python3"
  },
  "language_info": {
   "codemirror_mode": {
    "name": "ipython",
    "version": 3
   },
   "file_extension": ".py",
   "mimetype": "text/x-python",
   "name": "python",
   "nbconvert_exporter": "python",
   "pygments_lexer": "ipython3",
   "version": "3.10.10"
  }
 },
 "nbformat": 4,
 "nbformat_minor": 5
}
